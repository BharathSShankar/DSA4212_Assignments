{
 "cells": [
  {
   "cell_type": "code",
   "execution_count": 1,
   "metadata": {},
   "outputs": [],
   "source": [
    "import pandas as pd\n",
    "import numpy as np\n",
    "from tqdm.auto import tqdm\n",
    "from surprise import Dataset, Reader\n",
    "from surprise import SVDpp\n",
    "from surprise import accuracy \n",
    "\n",
    "np.random.seed(42)"
   ]
  },
  {
   "cell_type": "code",
   "execution_count": 2,
   "metadata": {},
   "outputs": [],
   "source": [
    "anime_df = pd.read_csv(\"assignment_2_anime.csv\")\n",
    "train_df = pd.read_csv(\"assignment_2_ratings_train.csv\")\n",
    "test_df = pd.read_csv(\"assignment_2_ratings_test.csv\")"
   ]
  },
  {
   "cell_type": "code",
   "execution_count": 3,
   "metadata": {},
   "outputs": [
    {
     "name": "stdout",
     "output_type": "stream",
     "text": [
      "Before before handling duplicates: False\n",
      "After before handling duplicates: True\n"
     ]
    }
   ],
   "source": [
    "# We take an average over the repeated values, this is because we are unsure if keeping the last one is really the best\n",
    "print(\"Before before handling duplicates: \" + str(train_df[train_df.duplicated([\"user_id\",\"anime_id\"])].empty))\n",
    "train_df = train_df.groupby([\"user_id\",\"anime_id\"]).mean().reset_index()\n",
    "print(\"After before handling duplicates: \" + str(train_df[train_df.duplicated([\"user_id\",\"anime_id\"])].empty)) # check duplicate"
   ]
  },
  {
   "cell_type": "markdown",
   "metadata": {},
   "source": [
    "# SVD Model"
   ]
  },
  {
   "cell_type": "code",
   "execution_count": 4,
   "metadata": {},
   "outputs": [],
   "source": [
    "# Create a Reader object for parsing the ratings dataframes\n",
    "reader = Reader(rating_scale=(1, 10))\n",
    "\n",
    "# Load trainset and testset from your pre-split rtrain and rtest dataframes\n",
    "train_data = Dataset.load_from_df(train_df, reader)\n",
    "trainset = train_data.build_full_trainset()\n",
    "\n",
    "test_data = Dataset.load_from_df(test_df, reader)\n",
    "testset = test_data.construct_testset(raw_testset=test_data.raw_ratings)"
   ]
  },
  {
   "cell_type": "code",
   "execution_count": 5,
   "metadata": {},
   "outputs": [
    {
     "data": {
      "text/plain": [
       "<surprise.prediction_algorithms.matrix_factorization.SVDpp at 0x32e081a50>"
      ]
     },
     "execution_count": 5,
     "metadata": {},
     "output_type": "execute_result"
    }
   ],
   "source": [
    "# Train the SVD algorithm on the trainset\n",
    "svd = SVDpp()\n",
    "svd.fit(trainset)"
   ]
  },
  {
   "cell_type": "code",
   "execution_count": 10,
   "metadata": {},
   "outputs": [
    {
     "name": "stdout",
     "output_type": "stream",
     "text": [
      "MSE: 1.2864\n"
     ]
    }
   ],
   "source": [
    "# Test the algorithm on the testset\n",
    "predictions = svd.test(testset)\n",
    "\n",
    "# Calculate the mean squared error\n",
    "mse = accuracy.mse(predictions)"
   ]
  }
 ],
 "metadata": {
  "kernelspec": {
   "display_name": "torch",
   "language": "python",
   "name": "python3"
  },
  "language_info": {
   "codemirror_mode": {
    "name": "ipython",
    "version": 3
   },
   "file_extension": ".py",
   "mimetype": "text/x-python",
   "name": "python",
   "nbconvert_exporter": "python",
   "pygments_lexer": "ipython3",
   "version": "3.11.0"
  },
  "orig_nbformat": 4
 },
 "nbformat": 4,
 "nbformat_minor": 2
}
