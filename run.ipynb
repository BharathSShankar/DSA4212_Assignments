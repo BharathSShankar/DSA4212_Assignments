{
  "cells": [
    {
      "cell_type": "markdown",
      "metadata": {
        "id": "view-in-github",
        "colab_type": "text"
      },
      "source": [
        "<a href=\"https://colab.research.google.com/github/BharathSShankar/DSA4212_Assignments/blob/main/run.ipynb\" target=\"_parent\"><img src=\"https://colab.research.google.com/assets/colab-badge.svg\" alt=\"Open In Colab\"/></a>"
      ]
    },
    {
      "cell_type": "code",
      "source": [
        "# colab quirks\n",
        "pip install jedi"
      ],
      "metadata": {
        "colab": {
          "base_uri": "https://localhost:8080/"
        },
        "id": "l9PDJxVpbPcF",
        "outputId": "179d2fa8-b22f-4967-b0b7-003ff8794e64"
      },
      "id": "l9PDJxVpbPcF",
      "execution_count": null,
      "outputs": [
        {
          "output_type": "stream",
          "name": "stdout",
          "text": [
            "Looking in indexes: https://pypi.org/simple, https://us-python.pkg.dev/colab-wheels/public/simple/\n",
            "Collecting jedi\n",
            "  Downloading jedi-0.18.2-py2.py3-none-any.whl (1.6 MB)\n",
            "\u001b[2K     \u001b[90m━━━━━━━━━━━━━━━━━━━━━━━━━━━━━━━━━━━━━━━━\u001b[0m \u001b[32m1.6/1.6 MB\u001b[0m \u001b[31m22.7 MB/s\u001b[0m eta \u001b[36m0:00:00\u001b[0m\n",
            "\u001b[?25hRequirement already satisfied: parso<0.9.0,>=0.8.0 in /usr/local/lib/python3.9/dist-packages (from jedi) (0.8.3)\n",
            "Installing collected packages: jedi\n",
            "Successfully installed jedi-0.18.2\n"
          ]
        }
      ]
    },
    {
      "cell_type": "code",
      "execution_count": null,
      "id": "7a534f49-955b-4027-847e-fa9268011df8",
      "metadata": {
        "id": "7a534f49-955b-4027-847e-fa9268011df8"
      },
      "outputs": [],
      "source": [
        "# Consolidate all imports\n",
        "\n",
        "import numpy as np\n",
        "## Progress bar\n",
        "from tqdm.auto import tqdm\n",
        "import matplotlib.pyplot as plt\n",
        "import copy, time\n",
        "\n",
        "# load FLAX and install it if not installed already\n",
        "try:\n",
        "    import flax\n",
        "except ModuleNotFoundError: # Install flax if missing\n",
        "    !pip install --quiet flax\n",
        "    import flax\n",
        "from flax import linen as nn\n",
        "\n",
        "import jax\n",
        "import jax.numpy as jnp\n",
        "from typing import Any, Sequence\n",
        "\n",
        "import optax\n",
        "\n",
        "seed = 42 # seed for reproducibility"
      ]
    },
    {
      "cell_type": "markdown",
      "id": "CwmX1u6N0TlR",
      "metadata": {
        "id": "CwmX1u6N0TlR"
      },
      "source": [
        "# Connect to Google Drive & Load data"
      ]
    },
    {
      "cell_type": "code",
      "execution_count": null,
      "id": "2bb9b46d",
      "metadata": {
        "colab": {
          "base_uri": "https://localhost:8080/"
        },
        "id": "2bb9b46d",
        "outputId": "b4d48ccd-cabd-4539-a03c-a7f44cdbc5d7"
      },
      "outputs": [
        {
          "output_type": "stream",
          "name": "stdout",
          "text": [
            "Drive already mounted at /content/drive; to attempt to forcibly remount, call drive.mount(\"/content/drive\", force_remount=True).\n",
            "/content/drive/MyDrive/DSA4212 G24/data\n"
          ]
        }
      ],
      "source": [
        "from google.colab import drive\n",
        "drive.mount('/content/drive')\n",
        "\n",
        "# goto to data folder -- you may need to change this location\n",
        "%cd /content/drive/MyDrive/DSA4212 G24/data"
      ]
    },
    {
      "cell_type": "code",
      "execution_count": null,
      "id": "8b2efbfc-d4e6-41c7-89cd-a7127c9f1538",
      "metadata": {
        "colab": {
          "base_uri": "https://localhost:8080/"
        },
        "id": "8b2efbfc-d4e6-41c7-89cd-a7127c9f1538",
        "outputId": "81c02453-540a-4f7f-e0c7-75e86916e56b"
      },
      "outputs": [
        {
          "output_type": "stream",
          "name": "stdout",
          "text": [
            "Img Shape: 128x128x3\n"
          ]
        }
      ],
      "source": [
        "class_names=[\"fish\", \"dog\", \"device\", \"chainsaw\", \"church\", \"horn\", \"truck\", \"petrol\", \"golf\", \"parachute\"]\n",
        "\n",
        "# load data -- be patient, does take a few secs\n",
        "data_train = np.load(\"assignment_1_train.npz\")\n",
        "data_val = np.load(\"assignment_1_val.npz\")\n",
        "\n",
        "X_train = data_train[\"img\"].astype(np.float32) / 256.   # set pixel intensities to [0,1]\n",
        "X_val = data_val[\"img\"].astype(np.float32) / 256.\n",
        "Y_train = data_train[\"label\"].astype(int)\n",
        "Y_val = data_val[\"label\"].astype(int)\n",
        "\n",
        "_,H,W,C = X_train.shape\n",
        "print(f\"Img Shape: {H}x{W}x{C}\")\n",
        "\n",
        "# seed for reproducibility\n",
        "np.random.seed(seed)"
      ]
    },
    {
      "cell_type": "markdown",
      "id": "31f6abe6",
      "metadata": {
        "id": "31f6abe6"
      },
      "source": [
        "# Split Train / Validation / Test\n",
        "\n",
        "The test set can only be used for the final evaluation of the model: one cannot use the test set when tuning the models. Consequently, we are going to split `X_train_all` into a train-set and a validation-set."
      ]
    },
    {
      "cell_type": "code",
      "execution_count": null,
      "id": "12Px5nZG4LEU",
      "metadata": {
        "id": "12Px5nZG4LEU"
      },
      "outputs": [],
      "source": [
        "# shuffle the train set\n",
        "indices_shuffled = np.arange(len(X_train))\n",
        "np.random.shuffle(indices_shuffled)\n",
        "X_train = X_train[indices_shuffled]\n",
        "Y_train = Y_train[indices_shuffled]\n",
        "\n",
        "# shuffle the validation set\n",
        "indices_shuffled = np.arange(len(X_val))\n",
        "np.random.shuffle(indices_shuffled)\n",
        "X_val = X_val[indices_shuffled]\n",
        "Y_val = Y_val[indices_shuffled]"
      ]
    },
    {
      "cell_type": "markdown",
      "id": "dd03021f",
      "metadata": {
        "id": "dd03021f"
      },
      "source": [
        "# Architecture"
      ]
    },
    {
      "cell_type": "code",
      "execution_count": null,
      "id": "4520ac10-c1a0-4387-8b73-6869529640d1",
      "metadata": {
        "id": "4520ac10-c1a0-4387-8b73-6869529640d1"
      },
      "outputs": [],
      "source": [
        "class LayerNorm(nn.Module):\n",
        "    \"\"\"\n",
        "    input:\n",
        "    ======\n",
        "     x: tensor with D channels of dimension (B,H,W,D)\n",
        "     \n",
        "    output:\n",
        "    ======\n",
        "     x_normalized: tensor with D channels of dimension (B,H,W,D)\n",
        "     \n",
        "     \n",
        "    Description:\n",
        "    ===========\n",
        "    for each each element `i` and each dimension `d`,\n",
        "    normalize the 2D array x[i,:,:,d] by substracting its mean and divide by its standard deviation\n",
        "       x_normalized[i,:,:,d] = (x[i,:,:,d] - mean) / stdev\n",
        "    \"\"\"\n",
        "    @nn.compact\n",
        "    def __call__(self, inputs):\n",
        "        eps = 10**-3\n",
        "        mean = jnp.expand_dims(jnp.mean(inputs, axis=(1,2)), axis=(1,2))\n",
        "        std = jnp.expand_dims(jnp.std(inputs, axis=(1,2)), axis=(1,2))\n",
        "        return (inputs - mean) / (eps + std)\n",
        "\n",
        "class SimpleCNN(nn.Module):\n",
        "    \"\"\" a simple convolutional neural network \"\"\"\n",
        "    n_filters: Sequence[int]  # sequence -- number of CNN filters in each layer\n",
        "    n_class: int              # number of possible classes\n",
        "    \n",
        "    @nn.compact\n",
        "    def __call__(self, x):\n",
        "        \"\"\"\n",
        "        inputs:\n",
        "        ======\n",
        "         inputs: batch of images of dimension (X,H,W,3)\n",
        "\n",
        "        outputs:\n",
        "        ======\n",
        "         probas: predictive probability vector\n",
        "        \"\"\"\n",
        "        \n",
        "        # convolutional layers + normalization\n",
        "        for i, feat_dim in enumerate(self.n_filters):\n",
        "            x = LayerNorm()(x)\n",
        "            x = nn.elu( nn.Conv(features=feat_dim, kernel_size=(3,3), strides = 2, padding='SAME', name=f'layers_{i}_1')(x) )\n",
        "            \n",
        "        # pooling -- average across the dimension (1,2)\n",
        "        x =  x.mean(axis=(1,2))\n",
        "        \n",
        "        # last dense layer\n",
        "        x = nn.Dense(self.n_class)(x)\n",
        "        \n",
        "        #convert to proba\n",
        "        probas = nn.softmax(x)\n",
        "        return probas"
      ]
    },
    {
      "cell_type": "code",
      "execution_count": null,
      "id": "839c5a48-464a-4897-960c-28996963d8a6",
      "metadata": {
        "colab": {
          "base_uri": "https://localhost:8080/"
        },
        "id": "839c5a48-464a-4897-960c-28996963d8a6",
        "outputId": "32a919ba-b718-43be-dfe0-c6249c351c9b"
      },
      "outputs": [
        {
          "output_type": "stream",
          "name": "stdout",
          "text": [
            "Number of Neural Parameters: 94k\n"
          ]
        }
      ],
      "source": [
        "# generate a random generator \"key\" that is used to initialize the net parameters\n",
        "key = jax.random.PRNGKey(0)\n",
        "net = SimpleCNN(n_filters=[32,64, 128], n_class = 10)\n",
        "\n",
        "# to initialize the network, one needs to propagate some data through it\n",
        "# and provide with a RNG key\n",
        "key, key_ = jax.random.split(key)\n",
        "batch_size = 32\n",
        "batch_of_images = X_train[:batch_size,:,:,:]\n",
        "params_init = net.init(key_, batch_of_images)\n",
        "\n",
        "# count the number of parameters\n",
        "param_count = sum(x.size for x in jax.tree_util.tree_leaves(params_init))\n",
        "print(f\"Number of Neural Parameters: {param_count//1000}k\")"
      ]
    },
    {
      "cell_type": "markdown",
      "id": "7976b5a7",
      "metadata": {
        "id": "7976b5a7"
      },
      "source": [
        "# Helper Functions\n",
        "\n",
        "1. `loss_value_and_grad`\n",
        "2. `prediction_class`\n",
        "3. `accuracy`"
      ]
    },
    {
      "cell_type": "code",
      "execution_count": null,
      "id": "yDozNNo22SjL",
      "metadata": {
        "id": "yDozNNo22SjL"
      },
      "outputs": [],
      "source": [
        "@jax.jit\n",
        "def loss(params, x, y):\n",
        "  \"\"\" cross-entropy loss\n",
        "  inputs:\n",
        "  ======\n",
        "   params: neural network weights\n",
        "   x: (B,H,W,3) -- batch of images\n",
        "   y: (B) -- labels\n",
        "  \"\"\"\n",
        "  n_class = 10\n",
        "\n",
        "  # compute Cross-Entropy\n",
        "  pred = net.apply(params, x)\n",
        "  y_hot = jax.nn.one_hot(y, n_class)\n",
        "  CEs = -jnp.sum(y_hot * jnp.log(pred), axis=1)\n",
        "  return jnp.mean(CEs)\n",
        "\n",
        "# generate the gradient function\n",
        "loss_value_and_grad = jax.jit( jax.value_and_grad(loss) )\n",
        "\n",
        "@jax.jit\n",
        "def prediction_class(params, x):\n",
        "  \"\"\" make a prediction \"\"\"\n",
        "  pred = net.apply(params, x)\n",
        "  pred_class = jnp.argmax(pred, axis=1)\n",
        "  return pred_class\n",
        "\n",
        "@jax.jit\n",
        "def accuracy(params, x, y):\n",
        "  \"\"\"\n",
        "  compute the accuracy on a batch of images\n",
        "\n",
        "  inputs:\n",
        "  ======\n",
        "   params: neural network weights\n",
        "   x: (B,H,W,3) -- batch of images\n",
        "   y: (B) -- labels\n",
        "  \"\"\"\n",
        "  n_class = 10\n",
        "\n",
        "  # compute Cross-Entropy\n",
        "  pred_class = prediction_class(params, x)\n",
        "  return jnp.mean(pred_class == y)"
      ]
    },
    {
      "cell_type": "markdown",
      "id": "aa4033f6",
      "metadata": {
        "id": "aa4033f6"
      },
      "source": [
        "# Training"
      ]
    },
    {
      "cell_type": "code",
      "execution_count": null,
      "id": "zQtLKLvl2_l5",
      "metadata": {
        "id": "zQtLKLvl2_l5"
      },
      "outputs": [],
      "source": [
        "# let us randomize the weights again to start from scratch\n",
        "params = copy.deepcopy(params_init)\n",
        "\n",
        "#define the ADAM optimizer\n",
        "optimizer = optax.adam(learning_rate=0.01, eps=0.001)\n",
        "\n",
        "#generate the initial state of the optimizer\n",
        "opt_state = optimizer.init(params)"
      ]
    },
    {
      "cell_type": "code",
      "execution_count": null,
      "id": "FQOMAd029Ogs",
      "metadata": {
        "id": "FQOMAd029Ogs"
      },
      "outputs": [],
      "source": [
        "# put data to GPU\n",
        "X_train = jax.device_put(X_train)\n",
        "X_val = jax.device_put(X_val)"
      ]
    },
    {
      "cell_type": "code",
      "execution_count": null,
      "id": "1221f59d",
      "metadata": {
        "colab": {
          "base_uri": "https://localhost:8080/"
        },
        "id": "1221f59d",
        "outputId": "27c6be06-6043-4c9d-d1f4-692a44590825"
      },
      "outputs": [
        {
          "output_type": "execute_result",
          "data": {
            "text/plain": [
              "[StreamExecutorGpuDevice(id=0, process_index=0, slice_index=0)]"
            ]
          },
          "metadata": {},
          "execution_count": 18
        }
      ],
      "source": [
        "jax.devices()"
      ]
    },
    {
      "cell_type": "code",
      "execution_count": null,
      "id": "cY4B774F5ys5",
      "metadata": {
        "colab": {
          "base_uri": "https://localhost:8080/",
          "height": 406,
          "referenced_widgets": [
            "09b32e1a1bc94b6ca9c44d149fd6a16d",
            "b5230c118ed94397a3fa7c264bf07956",
            "0b508710660c4b78b67c98560c92030a",
            "c9fb790abeea453090492a2e5198e0de",
            "7ce7ec22122b451bb676a9036ccc65bf",
            "af5271b5bc7345b48671e8793a832869",
            "fbcd62162a834a14a74edd540443b3b9",
            "7266b4c92b5c4a448a3aa9a0e13ce40b",
            "298421c2a4474c9f982bc62bd9be851c",
            "e8a4e1d1eb1f46c1a3213b23fdad8663",
            "71533aeb9b13411f96e7046cd0e4290a"
          ]
        },
        "id": "cY4B774F5ys5",
        "outputId": "c36b623f-7d20-4b8f-f8f9-299410ca1ee8"
      },
      "outputs": [
        {
          "output_type": "display_data",
          "data": {
            "text/plain": [
              "  0%|          | 0/1000 [00:00<?, ?it/s]"
            ],
            "application/vnd.jupyter.widget-view+json": {
              "version_major": 2,
              "version_minor": 0,
              "model_id": "09b32e1a1bc94b6ca9c44d149fd6a16d"
            }
          },
          "metadata": {}
        },
        {
          "output_type": "stream",
          "name": "stdout",
          "text": [
            "Time:7.6sec \t Epoch:0.1 \t Loss [2.30 / 2.30] \t Accuracy Train/Valid: [12.11% / 8.79%]\n",
            "Time:18.2sec \t Epoch:2.8 \t Loss [1.47 / 1.60] \t Accuracy Train/Valid: [49.80% / 47.07%]\n",
            "Time:23.1sec \t Epoch:5.6 \t Loss [1.23 / 1.29] \t Accuracy Train/Valid: [63.48% / 59.18%]\n",
            "Time:27.9sec \t Epoch:8.3 \t Loss [1.09 / 1.18] \t Accuracy Train/Valid: [63.67% / 62.30%]\n",
            "Time:33.1sec \t Epoch:11.1 \t Loss [0.98 / 1.08] \t Accuracy Train/Valid: [71.48% / 65.04%]\n",
            "Time:37.9sec \t Epoch:13.8 \t Loss [0.88 / 1.08] \t Accuracy Train/Valid: [70.70% / 66.41%]\n",
            "Time:42.7sec \t Epoch:16.6 \t Loss [0.85 / 1.03] \t Accuracy Train/Valid: [72.85% / 67.19%]\n",
            "Time:48.1sec \t Epoch:19.3 \t Loss [0.73 / 0.97] \t Accuracy Train/Valid: [75.98% / 67.58%]\n",
            "Time:53.0sec \t Epoch:22.1 \t Loss [0.75 / 0.99] \t Accuracy Train/Valid: [77.54% / 69.14%]\n",
            "Time:58.3sec \t Epoch:24.8 \t Loss [0.72 / 1.01] \t Accuracy Train/Valid: [79.69% / 69.34%]\n",
            "Time:63.5sec \t Epoch:27.6 \t Loss [0.59 / 0.96] \t Accuracy Train/Valid: [79.10% / 70.12%]\n",
            "Time:68.6sec \t Epoch:30.3 \t Loss [0.59 / 0.97] \t Accuracy Train/Valid: [82.03% / 67.77%]\n",
            "Time:73.9sec \t Epoch:33.1 \t Loss [0.55 / 0.94] \t Accuracy Train/Valid: [82.42% / 69.92%]\n",
            "Time:79.1sec \t Epoch:35.9 \t Loss [0.55 / 1.02] \t Accuracy Train/Valid: [81.45% / 69.73%]\n",
            "Time:84.3sec \t Epoch:38.6 \t Loss [0.45 / 1.00] \t Accuracy Train/Valid: [84.96% / 69.73%]\n",
            "Time:89.6sec \t Epoch:41.4 \t Loss [0.46 / 0.91] \t Accuracy Train/Valid: [89.65% / 69.53%]\n",
            "Time:94.5sec \t Epoch:44.1 \t Loss [0.36 / 0.90] \t Accuracy Train/Valid: [90.23% / 70.51%]\n",
            "Time:99.7sec \t Epoch:46.9 \t Loss [0.38 / 0.98] \t Accuracy Train/Valid: [87.50% / 69.73%]\n",
            "Time:104.7sec \t Epoch:49.6 \t Loss [0.32 / 0.96] \t Accuracy Train/Valid: [89.26% / 69.53%]\n",
            "Time:109.6sec \t Epoch:52.4 \t Loss [0.36 / 1.04] \t Accuracy Train/Valid: [90.62% / 68.16%]\n"
          ]
        }
      ],
      "source": [
        "niter = 1000\n",
        "batch_size = 512\n",
        "\n",
        "# save the train loss\n",
        "loss_train_history = []\n",
        "loss_train_history_time = []\n",
        "\n",
        "# save the validation loss\n",
        "loss_val_history = []\n",
        "loss_val_history_time = []\n",
        "\n",
        "# save accuracies\n",
        "accuracies_history = []\n",
        "accuracies_history_time = []\n",
        "\n",
        "time_start = time.time()\n",
        "for k in tqdm( range(niter) ):\n",
        "  # create a batch\n",
        "  indices = jnp.arange(k*batch_size, (k+1)*batch_size) % len(X_train)\n",
        "  X_batch = X_train[indices]\n",
        "  Y_batch = Y_train[indices]\n",
        "\n",
        "  # compute loss and gradients\n",
        "  loss_train, grads = loss_value_and_grad(params, X_batch, Y_batch)\n",
        "  time_elapsed = time.time() - time_start\n",
        "\n",
        "  if k % 50 == 0:\n",
        "    # compute the validation accuracy on a batch only (to save a bit of time)\n",
        "    N = 512\n",
        "    acc_val = 100*accuracy(params, X_val[:N], Y_val[:N])\n",
        "    acc_train = 100*accuracy(params, X_train[:N], Y_train[:N])\n",
        "    nb_epoch = float(k+1)*batch_size / len(X_train)\n",
        "    accuracies_history.append([acc_train, acc_val])\n",
        "    accuracies_history_time.append(time_elapsed)\n",
        "\n",
        "    # also compute test loss\n",
        "    loss_val = loss(params, X_val[:N], Y_val[:N])\n",
        "    loss_val_history.append( loss_val )\n",
        "    loss_val_history_time.append( time_elapsed )\n",
        "\n",
        "    print(f\"Time:{time_elapsed:3.1f}sec \\t Epoch:{nb_epoch:2.1f} \\t Loss [{loss_train:2.2f} / {loss_val:2.2f}] \\t Accuracy Train/Valid: [{acc_train:2.2f}% / {acc_val:2.2f}%]\")\n",
        "\n",
        "  # generate the \"update mechanism\" and update the state of the optimizer\n",
        "  updates, opt_state = optimizer.update(grads, opt_state, params)\n",
        "  # apply the \"update mechanism\"\n",
        "  params = optax.apply_updates(params, updates)\n",
        "\n",
        "  #opt_state, params = do_update(grads, opt_state, params)\n",
        "    \n",
        "  # save the loss\n",
        "  loss_train_history_time.append( time_elapsed )\n",
        "  loss_train_history.append( loss_train.item() )"
      ]
    },
    {
      "cell_type": "code",
      "execution_count": null,
      "id": "piAB-CzY7Vn5",
      "metadata": {
        "colab": {
          "base_uri": "https://localhost:8080/",
          "height": 306
        },
        "id": "piAB-CzY7Vn5",
        "outputId": "76dc5503-3548-4b6c-e1b2-6727fb5b7cc9"
      },
      "outputs": [
        {
          "output_type": "execute_result",
          "data": {
            "text/plain": [
              "<matplotlib.legend.Legend at 0x7fa48012e970>"
            ]
          },
          "metadata": {},
          "execution_count": 20
        },
        {
          "output_type": "display_data",
          "data": {
            "text/plain": [
              "<Figure size 432x288 with 1 Axes>"
            ],
            "image/png": "[encoded data removed]"
          },
          "metadata": {
            "needs_background": "light"
          }
        }
      ],
      "source": [
        "plt.plot(loss_train_history_time, loss_train_history, \"b-\", lw = 3, label=\"train\")\n",
        "plt.plot(loss_val_history_time, loss_val_history, \"r-+\", lw = 3, label=\"test\")\n",
        "plt.xlabel(\"seconds\", fontsize=20)\n",
        "plt.ylabel(\"loss\", fontsize=20)\n",
        "plt.grid(True)\n",
        "plt.legend()\n"
      ]
    },
    {
      "cell_type": "code",
      "execution_count": null,
      "id": "nXcOlMrxVCCT",
      "metadata": {
        "colab": {
          "base_uri": "https://localhost:8080/",
          "height": 310
        },
        "id": "nXcOlMrxVCCT",
        "outputId": "fc589ccf-3581-4706-df40-a085130747ae"
      },
      "outputs": [
        {
          "output_type": "execute_result",
          "data": {
            "text/plain": [
              "<matplotlib.legend.Legend at 0x7fa480014b80>"
            ]
          },
          "metadata": {},
          "execution_count": 21
        },
        {
          "output_type": "display_data",
          "data": {
            "text/plain": [
              "<Figure size 432x288 with 1 Axes>"
            ],
            "image/png": "[encoded data removed]"
          },
          "metadata": {
            "needs_background": "light"
          }
        }
      ],
      "source": [
        "accuracies_history = np.array(accuracies_history)\n",
        "plt.plot(accuracies_history_time, accuracies_history[:,0], \"b-\", lw = 3, label=\"train\")\n",
        "plt.plot(accuracies_history_time, accuracies_history[:,1], \"r-+\", lw = 3, label=\"test\")\n",
        "plt.xlabel(\"seconds\", fontsize=20)\n",
        "plt.ylabel(\"accuracy\", fontsize=20)\n",
        "plt.ylim(0,100)\n",
        "plt.grid(True)\n",
        "plt.legend()"
      ]
    },
    {
      "cell_type": "code",
      "execution_count": null,
      "id": "yxoaTX7yZuvL",
      "metadata": {
        "colab": {
          "base_uri": "https://localhost:8080/",
          "height": 67,
          "referenced_widgets": [
            "240bd1fc0f0447c5808bdad7c9b4aab6",
            "05ca672de8f049cdb148a35c3c7d8074",
            "de77e192a4a746e5a2f7b44e97ee3806",
            "8786194097c44d5ebbc1857d468e8013",
            "4c6df28ac7d442a48ba90459b9e0d8b4",
            "ceda190f70b64e87b3f63267cadcd2be",
            "a20520019ab648a29bab5ce08fceb151",
            "c3a8514a69664787b57c3e8aec5d88ae",
            "ebba82b496c148a0bc8674c55769104e",
            "1a09d732fafa40bfa5ce3abfb554eb97",
            "953027ab585841d89bea9d231e6c4a53"
          ]
        },
        "id": "yxoaTX7yZuvL",
        "outputId": "910bd8d6-d3ec-4e91-f55a-2737afa46131"
      },
      "outputs": [
        {
          "output_type": "display_data",
          "data": {
            "text/plain": [
              "  0%|          | 0/7 [00:00<?, ?it/s]"
            ],
            "application/vnd.jupyter.widget-view+json": {
              "version_major": 2,
              "version_minor": 0,
              "model_id": "240bd1fc0f0447c5808bdad7c9b4aab6"
            }
          },
          "metadata": {}
        },
        {
          "output_type": "stream",
          "name": "stdout",
          "text": [
            "Final Validation Accuracy: 70.0%\n"
          ]
        }
      ],
      "source": [
        "# final validation accuracy\n",
        "pred_val = []\n",
        "n_forward_pass = len(X_val) // batch_size\n",
        "for k in tqdm(range(n_forward_pass)):\n",
        "  pred_val.append( prediction_class(params, X_val[k*batch_size:(k+1)*batch_size]) )\n",
        "pred_val.append( prediction_class(params, X_val[n_forward_pass*batch_size:]) )\n",
        "\n",
        "pred_val = np.concatenate(pred_val)\n",
        "acc_validation = 100*jnp.mean(pred_val == Y_val)\n",
        "print( f\"Final Validation Accuracy: {acc_validation:2.1f}%\")"
      ]
    }
  ],
  "metadata": {
    "accelerator": "GPU",
    "colab": {
      "provenance": [],
      "include_colab_link": true
    },
    "gpuClass": "standard",
    "kernelspec": {
      "display_name": "Python 3 (ipykernel)",
      "language": "python",
      "name": "python3"
    },
    "language_info": {
      "codemirror_mode": {
        "name": "ipython",
        "version": 3
      },
      "file_extension": ".py",
      "mimetype": "text/x-python",
      "name": "python",
      "nbconvert_exporter": "python",
      "pygments_lexer": "ipython3",
      "version": "3.9.15"
    },
    "widgets": {
      "application/vnd.jupyter.widget-state+json": {
        "09b32e1a1bc94b6ca9c44d149fd6a16d": {
          "model_module": "@jupyter-widgets/controls",
          "model_name": "HBoxModel",
          "model_module_version": "1.5.0",
          "state": {
            "_dom_classes": [],
            "_model_module": "@jupyter-widgets/controls",
            "_model_module_version": "1.5.0",
            "_model_name": "HBoxModel",
            "_view_count": null,
            "_view_module": "@jupyter-widgets/controls",
            "_view_module_version": "1.5.0",
            "_view_name": "HBoxView",
            "box_style": "",
            "children": [
              "IPY_MODEL_b5230c118ed94397a3fa7c264bf07956",
              "IPY_MODEL_0b508710660c4b78b67c98560c92030a",
              "IPY_MODEL_c9fb790abeea453090492a2e5198e0de"
            ],
            "layout": "IPY_MODEL_7ce7ec22122b451bb676a9036ccc65bf"
          }
        },
        "b5230c118ed94397a3fa7c264bf07956": {
          "model_module": "@jupyter-widgets/controls",
          "model_name": "HTMLModel",
          "model_module_version": "1.5.0",
          "state": {
            "_dom_classes": [],
            "_model_module": "@jupyter-widgets/controls",
            "_model_module_version": "1.5.0",
            "_model_name": "HTMLModel",
            "_view_count": null,
            "_view_module": "@jupyter-widgets/controls",
            "_view_module_version": "1.5.0",
            "_view_name": "HTMLView",
            "description": "",
            "description_tooltip": null,
            "layout": "IPY_MODEL_af5271b5bc7345b48671e8793a832869",
            "placeholder": "​",
            "style": "IPY_MODEL_fbcd62162a834a14a74edd540443b3b9",
            "value": "100%"
          }
        },
        "0b508710660c4b78b67c98560c92030a": {
          "model_module": "@jupyter-widgets/controls",
          "model_name": "FloatProgressModel",
          "model_module_version": "1.5.0",
          "state": {
            "_dom_classes": [],
            "_model_module": "@jupyter-widgets/controls",
            "_model_module_version": "1.5.0",
            "_model_name": "FloatProgressModel",
            "_view_count": null,
            "_view_module": "@jupyter-widgets/controls",
            "_view_module_version": "1.5.0",
            "_view_name": "ProgressView",
            "bar_style": "success",
            "description": "",
            "description_tooltip": null,
            "layout": "IPY_MODEL_7266b4c92b5c4a448a3aa9a0e13ce40b",
            "max": 1000,
            "min": 0,
            "orientation": "horizontal",
            "style": "IPY_MODEL_298421c2a4474c9f982bc62bd9be851c",
            "value": 1000
          }
        },
        "c9fb790abeea453090492a2e5198e0de": {
          "model_module": "@jupyter-widgets/controls",
          "model_name": "HTMLModel",
          "model_module_version": "1.5.0",
          "state": {
            "_dom_classes": [],
            "_model_module": "@jupyter-widgets/controls",
            "_model_module_version": "1.5.0",
            "_model_name": "HTMLModel",
            "_view_count": null,
            "_view_module": "@jupyter-widgets/controls",
            "_view_module_version": "1.5.0",
            "_view_name": "HTMLView",
            "description": "",
            "description_tooltip": null,
            "layout": "IPY_MODEL_e8a4e1d1eb1f46c1a3213b23fdad8663",
            "placeholder": "​",
            "style": "IPY_MODEL_71533aeb9b13411f96e7046cd0e4290a",
            "value": " 1000/1000 [01:54&lt;00:00, 10.38it/s]"
          }
        },
        "7ce7ec22122b451bb676a9036ccc65bf": {
          "model_module": "@jupyter-widgets/base",
          "model_name": "LayoutModel",
          "model_module_version": "1.2.0",
          "state": {
            "_model_module": "@jupyter-widgets/base",
            "_model_module_version": "1.2.0",
            "_model_name": "LayoutModel",
            "_view_count": null,
            "_view_module": "@jupyter-widgets/base",
            "_view_module_version": "1.2.0",
            "_view_name": "LayoutView",
            "align_content": null,
            "align_items": null,
            "align_self": null,
            "border": null,
            "bottom": null,
            "display": null,
            "flex": null,
            "flex_flow": null,
            "grid_area": null,
            "grid_auto_columns": null,
            "grid_auto_flow": null,
            "grid_auto_rows": null,
            "grid_column": null,
            "grid_gap": null,
            "grid_row": null,
            "grid_template_areas": null,
            "grid_template_columns": null,
            "grid_template_rows": null,
            "height": null,
            "justify_content": null,
            "justify_items": null,
            "left": null,
            "margin": null,
            "max_height": null,
            "max_width": null,
            "min_height": null,
            "min_width": null,
            "object_fit": null,
            "object_position": null,
            "order": null,
            "overflow": null,
            "overflow_x": null,
            "overflow_y": null,
            "padding": null,
            "right": null,
            "top": null,
            "visibility": null,
            "width": null
          }
        },
        "af5271b5bc7345b48671e8793a832869": {
          "model_module": "@jupyter-widgets/base",
          "model_name": "LayoutModel",
          "model_module_version": "1.2.0",
          "state": {
            "_model_module": "@jupyter-widgets/base",
            "_model_module_version": "1.2.0",
            "_model_name": "LayoutModel",
            "_view_count": null,
            "_view_module": "@jupyter-widgets/base",
            "_view_module_version": "1.2.0",
            "_view_name": "LayoutView",
            "align_content": null,
            "align_items": null,
            "align_self": null,
            "border": null,
            "bottom": null,
            "display": null,
            "flex": null,
            "flex_flow": null,
            "grid_area": null,
            "grid_auto_columns": null,
            "grid_auto_flow": null,
            "grid_auto_rows": null,
            "grid_column": null,
            "grid_gap": null,
            "grid_row": null,
            "grid_template_areas": null,
            "grid_template_columns": null,
            "grid_template_rows": null,
            "height": null,
            "justify_content": null,
            "justify_items": null,
            "left": null,
            "margin": null,
            "max_height": null,
            "max_width": null,
            "min_height": null,
            "min_width": null,
            "object_fit": null,
            "object_position": null,
            "order": null,
            "overflow": null,
            "overflow_x": null,
            "overflow_y": null,
            "padding": null,
            "right": null,
            "top": null,
            "visibility": null,
            "width": null
          }
        },
        "fbcd62162a834a14a74edd540443b3b9": {
          "model_module": "@jupyter-widgets/controls",
          "model_name": "DescriptionStyleModel",
          "model_module_version": "1.5.0",
          "state": {
            "_model_module": "@jupyter-widgets/controls",
            "_model_module_version": "1.5.0",
            "_model_name": "DescriptionStyleModel",
            "_view_count": null,
            "_view_module": "@jupyter-widgets/base",
            "_view_module_version": "1.2.0",
            "_view_name": "StyleView",
            "description_width": ""
          }
        },
        "7266b4c92b5c4a448a3aa9a0e13ce40b": {
          "model_module": "@jupyter-widgets/base",
          "model_name": "LayoutModel",
          "model_module_version": "1.2.0",
          "state": {
            "_model_module": "@jupyter-widgets/base",
            "_model_module_version": "1.2.0",
            "_model_name": "LayoutModel",
            "_view_count": null,
            "_view_module": "@jupyter-widgets/base",
            "_view_module_version": "1.2.0",
            "_view_name": "LayoutView",
            "align_content": null,
            "align_items": null,
            "align_self": null,
            "border": null,
            "bottom": null,
            "display": null,
            "flex": null,
            "flex_flow": null,
            "grid_area": null,
            "grid_auto_columns": null,
            "grid_auto_flow": null,
            "grid_auto_rows": null,
            "grid_column": null,
            "grid_gap": null,
            "grid_row": null,
            "grid_template_areas": null,
            "grid_template_columns": null,
            "grid_template_rows": null,
            "height": null,
            "justify_content": null,
            "justify_items": null,
            "left": null,
            "margin": null,
            "max_height": null,
            "max_width": null,
            "min_height": null,
            "min_width": null,
            "object_fit": null,
            "object_position": null,
            "order": null,
            "overflow": null,
            "overflow_x": null,
            "overflow_y": null,
            "padding": null,
            "right": null,
            "top": null,
            "visibility": null,
            "width": null
          }
        },
        "298421c2a4474c9f982bc62bd9be851c": {
          "model_module": "@jupyter-widgets/controls",
          "model_name": "ProgressStyleModel",
          "model_module_version": "1.5.0",
          "state": {
            "_model_module": "@jupyter-widgets/controls",
            "_model_module_version": "1.5.0",
            "_model_name": "ProgressStyleModel",
            "_view_count": null,
            "_view_module": "@jupyter-widgets/base",
            "_view_module_version": "1.2.0",
            "_view_name": "StyleView",
            "bar_color": null,
            "description_width": ""
          }
        },
        "e8a4e1d1eb1f46c1a3213b23fdad8663": {
          "model_module": "@jupyter-widgets/base",
          "model_name": "LayoutModel",
          "model_module_version": "1.2.0",
          "state": {
            "_model_module": "@jupyter-widgets/base",
            "_model_module_version": "1.2.0",
            "_model_name": "LayoutModel",
            "_view_count": null,
            "_view_module": "@jupyter-widgets/base",
            "_view_module_version": "1.2.0",
            "_view_name": "LayoutView",
            "align_content": null,
            "align_items": null,
            "align_self": null,
            "border": null,
            "bottom": null,
            "display": null,
            "flex": null,
            "flex_flow": null,
            "grid_area": null,
            "grid_auto_columns": null,
            "grid_auto_flow": null,
            "grid_auto_rows": null,
            "grid_column": null,
            "grid_gap": null,
            "grid_row": null,
            "grid_template_areas": null,
            "grid_template_columns": null,
            "grid_template_rows": null,
            "height": null,
            "justify_content": null,
            "justify_items": null,
            "left": null,
            "margin": null,
            "max_height": null,
            "max_width": null,
            "min_height": null,
            "min_width": null,
            "object_fit": null,
            "object_position": null,
            "order": null,
            "overflow": null,
            "overflow_x": null,
            "overflow_y": null,
            "padding": null,
            "right": null,
            "top": null,
            "visibility": null,
            "width": null
          }
        },
        "71533aeb9b13411f96e7046cd0e4290a": {
          "model_module": "@jupyter-widgets/controls",
          "model_name": "DescriptionStyleModel",
          "model_module_version": "1.5.0",
          "state": {
            "_model_module": "@jupyter-widgets/controls",
            "_model_module_version": "1.5.0",
            "_model_name": "DescriptionStyleModel",
            "_view_count": null,
            "_view_module": "@jupyter-widgets/base",
            "_view_module_version": "1.2.0",
            "_view_name": "StyleView",
            "description_width": ""
          }
        },
        "240bd1fc0f0447c5808bdad7c9b4aab6": {
          "model_module": "@jupyter-widgets/controls",
          "model_name": "HBoxModel",
          "model_module_version": "1.5.0",
          "state": {
            "_dom_classes": [],
            "_model_module": "@jupyter-widgets/controls",
            "_model_module_version": "1.5.0",
            "_model_name": "HBoxModel",
            "_view_count": null,
            "_view_module": "@jupyter-widgets/controls",
            "_view_module_version": "1.5.0",
            "_view_name": "HBoxView",
            "box_style": "",
            "children": [
              "IPY_MODEL_05ca672de8f049cdb148a35c3c7d8074",
              "IPY_MODEL_de77e192a4a746e5a2f7b44e97ee3806",
              "IPY_MODEL_8786194097c44d5ebbc1857d468e8013"
            ],
            "layout": "IPY_MODEL_4c6df28ac7d442a48ba90459b9e0d8b4"
          }
        },
        "05ca672de8f049cdb148a35c3c7d8074": {
          "model_module": "@jupyter-widgets/controls",
          "model_name": "HTMLModel",
          "model_module_version": "1.5.0",
          "state": {
            "_dom_classes": [],
            "_model_module": "@jupyter-widgets/controls",
            "_model_module_version": "1.5.0",
            "_model_name": "HTMLModel",
            "_view_count": null,
            "_view_module": "@jupyter-widgets/controls",
            "_view_module_version": "1.5.0",
            "_view_name": "HTMLView",
            "description": "",
            "description_tooltip": null,
            "layout": "IPY_MODEL_ceda190f70b64e87b3f63267cadcd2be",
            "placeholder": "​",
            "style": "IPY_MODEL_a20520019ab648a29bab5ce08fceb151",
            "value": "100%"
          }
        },
        "de77e192a4a746e5a2f7b44e97ee3806": {
          "model_module": "@jupyter-widgets/controls",
          "model_name": "FloatProgressModel",
          "model_module_version": "1.5.0",
          "state": {
            "_dom_classes": [],
            "_model_module": "@jupyter-widgets/controls",
            "_model_module_version": "1.5.0",
            "_model_name": "FloatProgressModel",
            "_view_count": null,
            "_view_module": "@jupyter-widgets/controls",
            "_view_module_version": "1.5.0",
            "_view_name": "ProgressView",
            "bar_style": "success",
            "description": "",
            "description_tooltip": null,
            "layout": "IPY_MODEL_c3a8514a69664787b57c3e8aec5d88ae",
            "max": 7,
            "min": 0,
            "orientation": "horizontal",
            "style": "IPY_MODEL_ebba82b496c148a0bc8674c55769104e",
            "value": 7
          }
        },
        "8786194097c44d5ebbc1857d468e8013": {
          "model_module": "@jupyter-widgets/controls",
          "model_name": "HTMLModel",
          "model_module_version": "1.5.0",
          "state": {
            "_dom_classes": [],
            "_model_module": "@jupyter-widgets/controls",
            "_model_module_version": "1.5.0",
            "_model_name": "HTMLModel",
            "_view_count": null,
            "_view_module": "@jupyter-widgets/controls",
            "_view_module_version": "1.5.0",
            "_view_name": "HTMLView",
            "description": "",
            "description_tooltip": null,
            "layout": "IPY_MODEL_1a09d732fafa40bfa5ce3abfb554eb97",
            "placeholder": "​",
            "style": "IPY_MODEL_953027ab585841d89bea9d231e6c4a53",
            "value": " 7/7 [00:01&lt;00:00,  1.19s/it]"
          }
        },
        "4c6df28ac7d442a48ba90459b9e0d8b4": {
          "model_module": "@jupyter-widgets/base",
          "model_name": "LayoutModel",
          "model_module_version": "1.2.0",
          "state": {
            "_model_module": "@jupyter-widgets/base",
            "_model_module_version": "1.2.0",
            "_model_name": "LayoutModel",
            "_view_count": null,
            "_view_module": "@jupyter-widgets/base",
            "_view_module_version": "1.2.0",
            "_view_name": "LayoutView",
            "align_content": null,
            "align_items": null,
            "align_self": null,
            "border": null,
            "bottom": null,
            "display": null,
            "flex": null,
            "flex_flow": null,
            "grid_area": null,
            "grid_auto_columns": null,
            "grid_auto_flow": null,
            "grid_auto_rows": null,
            "grid_column": null,
            "grid_gap": null,
            "grid_row": null,
            "grid_template_areas": null,
            "grid_template_columns": null,
            "grid_template_rows": null,
            "height": null,
            "justify_content": null,
            "justify_items": null,
            "left": null,
            "margin": null,
            "max_height": null,
            "max_width": null,
            "min_height": null,
            "min_width": null,
            "object_fit": null,
            "object_position": null,
            "order": null,
            "overflow": null,
            "overflow_x": null,
            "overflow_y": null,
            "padding": null,
            "right": null,
            "top": null,
            "visibility": null,
            "width": null
          }
        },
        "ceda190f70b64e87b3f63267cadcd2be": {
          "model_module": "@jupyter-widgets/base",
          "model_name": "LayoutModel",
          "model_module_version": "1.2.0",
          "state": {
            "_model_module": "@jupyter-widgets/base",
            "_model_module_version": "1.2.0",
            "_model_name": "LayoutModel",
            "_view_count": null,
            "_view_module": "@jupyter-widgets/base",
            "_view_module_version": "1.2.0",
            "_view_name": "LayoutView",
            "align_content": null,
            "align_items": null,
            "align_self": null,
            "border": null,
            "bottom": null,
            "display": null,
            "flex": null,
            "flex_flow": null,
            "grid_area": null,
            "grid_auto_columns": null,
            "grid_auto_flow": null,
            "grid_auto_rows": null,
            "grid_column": null,
            "grid_gap": null,
            "grid_row": null,
            "grid_template_areas": null,
            "grid_template_columns": null,
            "grid_template_rows": null,
            "height": null,
            "justify_content": null,
            "justify_items": null,
            "left": null,
            "margin": null,
            "max_height": null,
            "max_width": null,
            "min_height": null,
            "min_width": null,
            "object_fit": null,
            "object_position": null,
            "order": null,
            "overflow": null,
            "overflow_x": null,
            "overflow_y": null,
            "padding": null,
            "right": null,
            "top": null,
            "visibility": null,
            "width": null
          }
        },
        "a20520019ab648a29bab5ce08fceb151": {
          "model_module": "@jupyter-widgets/controls",
          "model_name": "DescriptionStyleModel",
          "model_module_version": "1.5.0",
          "state": {
            "_model_module": "@jupyter-widgets/controls",
            "_model_module_version": "1.5.0",
            "_model_name": "DescriptionStyleModel",
            "_view_count": null,
            "_view_module": "@jupyter-widgets/base",
            "_view_module_version": "1.2.0",
            "_view_name": "StyleView",
            "description_width": ""
          }
        },
        "c3a8514a69664787b57c3e8aec5d88ae": {
          "model_module": "@jupyter-widgets/base",
          "model_name": "LayoutModel",
          "model_module_version": "1.2.0",
          "state": {
            "_model_module": "@jupyter-widgets/base",
            "_model_module_version": "1.2.0",
            "_model_name": "LayoutModel",
            "_view_count": null,
            "_view_module": "@jupyter-widgets/base",
            "_view_module_version": "1.2.0",
            "_view_name": "LayoutView",
            "align_content": null,
            "align_items": null,
            "align_self": null,
            "border": null,
            "bottom": null,
            "display": null,
            "flex": null,
            "flex_flow": null,
            "grid_area": null,
            "grid_auto_columns": null,
            "grid_auto_flow": null,
            "grid_auto_rows": null,
            "grid_column": null,
            "grid_gap": null,
            "grid_row": null,
            "grid_template_areas": null,
            "grid_template_columns": null,
            "grid_template_rows": null,
            "height": null,
            "justify_content": null,
            "justify_items": null,
            "left": null,
            "margin": null,
            "max_height": null,
            "max_width": null,
            "min_height": null,
            "min_width": null,
            "object_fit": null,
            "object_position": null,
            "order": null,
            "overflow": null,
            "overflow_x": null,
            "overflow_y": null,
            "padding": null,
            "right": null,
            "top": null,
            "visibility": null,
            "width": null
          }
        },
        "ebba82b496c148a0bc8674c55769104e": {
          "model_module": "@jupyter-widgets/controls",
          "model_name": "ProgressStyleModel",
          "model_module_version": "1.5.0",
          "state": {
            "_model_module": "@jupyter-widgets/controls",
            "_model_module_version": "1.5.0",
            "_model_name": "ProgressStyleModel",
            "_view_count": null,
            "_view_module": "@jupyter-widgets/base",
            "_view_module_version": "1.2.0",
            "_view_name": "StyleView",
            "bar_color": null,
            "description_width": ""
          }
        },
        "1a09d732fafa40bfa5ce3abfb554eb97": {
          "model_module": "@jupyter-widgets/base",
          "model_name": "LayoutModel",
          "model_module_version": "1.2.0",
          "state": {
            "_model_module": "@jupyter-widgets/base",
            "_model_module_version": "1.2.0",
            "_model_name": "LayoutModel",
            "_view_count": null,
            "_view_module": "@jupyter-widgets/base",
            "_view_module_version": "1.2.0",
            "_view_name": "LayoutView",
            "align_content": null,
            "align_items": null,
            "align_self": null,
            "border": null,
            "bottom": null,
            "display": null,
            "flex": null,
            "flex_flow": null,
            "grid_area": null,
            "grid_auto_columns": null,
            "grid_auto_flow": null,
            "grid_auto_rows": null,
            "grid_column": null,
            "grid_gap": null,
            "grid_row": null,
            "grid_template_areas": null,
            "grid_template_columns": null,
            "grid_template_rows": null,
            "height": null,
            "justify_content": null,
            "justify_items": null,
            "left": null,
            "margin": null,
            "max_height": null,
            "max_width": null,
            "min_height": null,
            "min_width": null,
            "object_fit": null,
            "object_position": null,
            "order": null,
            "overflow": null,
            "overflow_x": null,
            "overflow_y": null,
            "padding": null,
            "right": null,
            "top": null,
            "visibility": null,
            "width": null
          }
        },
        "953027ab585841d89bea9d231e6c4a53": {
          "model_module": "@jupyter-widgets/controls",
          "model_name": "DescriptionStyleModel",
          "model_module_version": "1.5.0",
          "state": {
            "_model_module": "@jupyter-widgets/controls",
            "_model_module_version": "1.5.0",
            "_model_name": "DescriptionStyleModel",
            "_view_count": null,
            "_view_module": "@jupyter-widgets/base",
            "_view_module_version": "1.2.0",
            "_view_name": "StyleView",
            "description_width": ""
          }
        }
      }
    }
  },
  "nbformat": 4,
  "nbformat_minor": 5
}