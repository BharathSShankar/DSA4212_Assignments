{
  "cells": [
    {
      "cell_type": "markdown",
      "source": [
        "# DSA4212 Assignment 1: Starter Kit"
      ],
      "metadata": {
        "id": "Ug_BugpvHOwU"
      },
      "id": "Ug_BugpvHOwU"
    },
    {
      "cell_type": "code",
      "execution_count": null,
      "id": "7a534f49-955b-4027-847e-fa9268011df8",
      "metadata": {
        "id": "7a534f49-955b-4027-847e-fa9268011df8"
      },
      "outputs": [],
      "source": [
        "import numpy as np\n",
        "## Progress bar\n",
        "from tqdm.auto import tqdm\n",
        "import pylab as plt\n",
        "import copy\n",
        "import time\n",
        "\n",
        "np.random.seed(42)"
      ]
    },
    {
      "cell_type": "code",
      "execution_count": null,
      "id": "63b61f24-cd33-4f13-a595-0ec43d18373f",
      "metadata": {
        "colab": {
          "base_uri": "https://localhost:8080/"
        },
        "id": "63b61f24-cd33-4f13-a595-0ec43d18373f",
        "outputId": "a6153d5f-dfc6-48f3-98bd-cb0b6e4be529"
      },
      "outputs": [
        {
          "output_type": "stream",
          "name": "stdout",
          "text": [
            "All ok -- code is running on a Google Colab\n"
          ]
        }
      ],
      "source": [
        "if 'google.colab' in str(get_ipython()):\n",
        "  print(\"All ok -- code is running on a Google Colab\")\n",
        "else:\n",
        "    print(\"===\"*15, \" WARNING \",\"===\"*15)\n",
        "    print(\"For DSA4212 assignment 1, code needs to be run on a Google Colab with a single GPU\")\n",
        "    print(\"===\"*15, \" WARNING \",\"===\"*15)\n",
        "\n"
      ]
    },
    {
      "cell_type": "code",
      "source": [
        "!nvidia-smi -L\n",
        "!lscpu |grep 'Model name'\n",
        "!free -h --si | awk  '/Mem:/{print $2}'"
      ],
      "metadata": {
        "colab": {
          "base_uri": "https://localhost:8080/"
        },
        "id": "HWyW1qS2UohJ",
        "outputId": "dd8072cd-fb43-4334-d9e1-dd193327b076"
      },
      "id": "HWyW1qS2UohJ",
      "execution_count": null,
      "outputs": [
        {
          "output_type": "stream",
          "name": "stdout",
          "text": [
            "GPU 0: Tesla T4 (UUID: GPU-54a53245-b744-df6f-cdd4-af32c911b174)\n",
            "Model name:                      Intel(R) Xeon(R) CPU @ 2.30GHz\n",
            "12G\n"
          ]
        }
      ]
    },
    {
      "cell_type": "code",
      "source": [
        "# load FLAX and install it if not installed already\n",
        "try:\n",
        "    import flax\n",
        "except ModuleNotFoundError: # Install flax if missing\n",
        "    !pip install --quiet flax\n",
        "    import flax\n",
        "\n",
        "import flax\n",
        "from flax import linen as nn"
      ],
      "metadata": {
        "id": "R22bHHED1tJH"
      },
      "id": "R22bHHED1tJH",
      "execution_count": null,
      "outputs": []
    },
    {
      "cell_type": "code",
      "execution_count": null,
      "id": "8962196c-b966-4645-85f4-61359b5a9b90",
      "metadata": {
        "id": "8962196c-b966-4645-85f4-61359b5a9b90"
      },
      "outputs": [],
      "source": [
        "import jax\n",
        "import jax.numpy as jnp\n",
        "from typing import Any, Sequence\n",
        "\n",
        "try:\n",
        "    import optax\n",
        "except ModuleNotFoundError: # Install optax if missing\n",
        "    !pip install --quiet optax\n",
        "    import optax"
      ]
    },
    {
      "cell_type": "markdown",
      "source": [
        "# Connect to Google Drive & Load data"
      ],
      "metadata": {
        "id": "CwmX1u6N0TlR"
      },
      "id": "CwmX1u6N0TlR"
    },
    {
      "cell_type": "code",
      "source": [
        "# mount the Google Drive\n",
        "from google.colab import drive\n",
        "drive.mount(\"/content/drive\")"
      ],
      "metadata": {
        "colab": {
          "base_uri": "https://localhost:8080/"
        },
        "id": "URl6pEbT0ROQ",
        "outputId": "a137cb02-b118-423e-e589-c44c3cb9964e"
      },
      "id": "URl6pEbT0ROQ",
      "execution_count": null,
      "outputs": [
        {
          "output_type": "stream",
          "name": "stdout",
          "text": [
            "Drive already mounted at /content/drive; to attempt to forcibly remount, call drive.mount(\"/content/drive\", force_remount=True).\n"
          ]
        }
      ]
    },
    {
      "cell_type": "code",
      "source": [
        "%pwd"
      ],
      "metadata": {
        "colab": {
          "base_uri": "https://localhost:8080/",
          "height": 35
        },
        "id": "NKk6REiZ0_K-",
        "outputId": "44239686-77dc-4e5c-904d-58767d42f083"
      },
      "id": "NKk6REiZ0_K-",
      "execution_count": null,
      "outputs": [
        {
          "output_type": "execute_result",
          "data": {
            "text/plain": [
              "'/content'"
            ],
            "application/vnd.google.colaboratory.intrinsic+json": {
              "type": "string"
            }
          },
          "metadata": {},
          "execution_count": 5
        }
      ]
    },
    {
      "cell_type": "code",
      "source": [
        "# goto to data folder -- you may need to change this location\n",
        "%cd /content/drive/MyDrive/DSA4212Assignment1/data"
      ],
      "metadata": {
        "colab": {
          "base_uri": "https://localhost:8080/"
        },
        "id": "EH69mPNX0rXr",
        "outputId": "cf404e95-8de4-4f1c-e3c5-bd27da13a4bc"
      },
      "id": "EH69mPNX0rXr",
      "execution_count": null,
      "outputs": [
        {
          "output_type": "stream",
          "name": "stdout",
          "text": [
            "/content/drive/MyDrive/DSA4212Assignment1/data\n"
          ]
        }
      ]
    },
    {
      "cell_type": "code",
      "execution_count": null,
      "id": "8b2efbfc-d4e6-41c7-89cd-a7127c9f1538",
      "metadata": {
        "colab": {
          "base_uri": "https://localhost:8080/"
        },
        "id": "8b2efbfc-d4e6-41c7-89cd-a7127c9f1538",
        "outputId": "5b9f824e-9307-4ebc-e821-2ad46324a4da"
      },
      "outputs": [
        {
          "output_type": "stream",
          "name": "stdout",
          "text": [
            "Img Shape: 128x128x3\n"
          ]
        }
      ],
      "source": [
        "class_names=[\"fish\", \"dog\", \"device\", \"chainsaw\", \"church\", \"horn\", \"truck\", \"petrol\", \"golf\", \"parachute\"]\n",
        "\n",
        "# load data -- be patient, does take a few secs\n",
        "data_train_all = np.load(\"assignment_1_train.npz\")\n",
        "data_train_LRFlip = np.load(\"assignment_1_train_FlipLR.npz\")\n",
        "data_test = np.load(\"assignment_1_test.npz\")\n",
        "\n",
        "X_train_all = data_train_all[\"img\"].astype(np.float32) / 255.   # set pixel intensities to [0,1]\n",
        "X_train_all = np.concatenate((X_train_all, data_train_LRFlip[\"img\"].astype(np.float32) / 255.)) # concatenate augmented data\n",
        "X_test = data_test[\"img\"].astype(np.float32) / 255.\n",
        "Y_train_all = data_train_all[\"label\"].astype(int)\n",
        "Y_train_all = np.concatenate((Y_train_all, data_train_LRFlip[\"label\"].astype(int))) # concatenate augmented data\n",
        "Y_test = data_test[\"label\"].astype(int)\n",
        "\n",
        "\n",
        "_,H,W,C = X_train_all.shape\n",
        "print(f\"Img Shape: {H}x{W}x{C}\")"
      ]
    },
    {
      "cell_type": "code",
      "source": [
        "# shuffle the train set\n",
        "indices_shuffled = np.arange(len(X_train_all))\n",
        "np.random.shuffle(indices_shuffled)\n",
        "X_train_all = X_train_all[indices_shuffled]\n",
        "Y_train_all = Y_train_all[indices_shuffled]\n",
        "\n",
        "# shuffle the validation set\n",
        "indices_shuffled = np.arange(len(X_test))\n",
        "np.random.shuffle(indices_shuffled)\n",
        "X_test = X_test[indices_shuffled]\n",
        "Y_test = Y_test[indices_shuffled]"
      ],
      "metadata": {
        "id": "12Px5nZG4LEU"
      },
      "id": "12Px5nZG4LEU",
      "execution_count": null,
      "outputs": []
    },
    {
      "cell_type": "code",
      "execution_count": null,
      "id": "74b46f91-a59b-46c3-96d1-f1febdb7a876",
      "metadata": {
        "colab": {
          "base_uri": "https://localhost:8080/"
        },
        "id": "74b46f91-a59b-46c3-96d1-f1febdb7a876",
        "outputId": "5ecadfcf-b896-41c9-8587-8d8a2ed0f6c8"
      },
      "outputs": [
        {
          "output_type": "stream",
          "name": "stdout",
          "text": [
            "Training Set Size: 3.40 Go\n",
            "Validaton Set Size: 0.71 Go\n"
          ]
        }
      ],
      "source": [
        "sz_train = X_train_all.size * X_train_all.itemsize / 2.**30\n",
        "sz_val = X_test.size * X_test.itemsize / 2.**30\n",
        "\n",
        "print(f\"Training Set Size: {sz_train:2.2f} Go\")\n",
        "print(f\"Validaton Set Size: {sz_val:2.2f} Go\")"
      ]
    },
    {
      "cell_type": "markdown",
      "source": [
        "# Split Train / Validation / Test\n",
        "\n",
        "The test set can only be used for the final evaluation of the model: one cannot use the test set when tuning the models. Consequently, we are going to split `X_train_all` into a train-set and a validation-set."
      ],
      "metadata": {
        "id": "CxtPWBv9zCdv"
      },
      "id": "CxtPWBv9zCdv"
    },
    {
      "cell_type": "code",
      "source": [
        "len_train_all = len(X_train_all)\n",
        "len_train = int(0.8 * len_train_all)\n",
        "len_val = len_train_all - len_train\n",
        "len_tets = len(X_test)\n",
        "\n",
        "X_train = X_train_all[:len_train]\n",
        "Y_train = Y_train_all[:len_train]\n",
        "\n",
        "X_val = X_train_all[len_train:]\n",
        "Y_val = Y_train_all[len_train:]\n"
      ],
      "metadata": {
        "id": "yZelycNpzGc_"
      },
      "id": "yZelycNpzGc_",
      "execution_count": null,
      "outputs": []
    },
    {
      "cell_type": "code",
      "execution_count": null,
      "id": "4520ac10-c1a0-4387-8b73-6869529640d1",
      "metadata": {
        "id": "4520ac10-c1a0-4387-8b73-6869529640d1"
      },
      "outputs": [],
      "source": [
        "class LayerNorm(nn.Module):\n",
        "    \"\"\"\n",
        "    input:\n",
        "    ======\n",
        "     x: tensor with D channels of dimension (B,H,W,D)\n",
        "     \n",
        "    output:\n",
        "    ======\n",
        "     x_normalized: tensor with D channels of dimension (B,H,W,D)\n",
        "     \n",
        "     \n",
        "    Description:\n",
        "    ===========\n",
        "    for each each element `i` and each dimension `d`,\n",
        "    normalize the 2D array x[i,:,:,d] by substracting its mean and divide by its standard deviation\n",
        "       x_normalized[i,:,:,d] = (x[i,:,:,d] - mean) / stdev\n",
        "    \"\"\"\n",
        "    @nn.compact\n",
        "    def __call__(self, inputs):\n",
        "        eps = 10**-3\n",
        "        mean = jnp.expand_dims(jnp.mean(inputs, axis=(1,2)), axis=(1,2))\n",
        "        std = jnp.expand_dims(jnp.std(inputs, axis=(1,2)), axis=(1,2))\n",
        "        return (inputs - mean) / (eps + std)\n",
        "\n",
        "class NiN(nn.Module):\n",
        "    \"\"\" a simple convolutional neural network \"\"\"\n",
        "    n_class: int              # number of possible classes\n",
        "    \n",
        "    @nn.compact\n",
        "    def __call__(self, x):\n",
        "        \"\"\"\n",
        "        inputs:\n",
        "        ======\n",
        "         inputs: batch of images of dimension (X,H,W,3)\n",
        "\n",
        "        outputs:\n",
        "        ======\n",
        "         probas: predictive probability vector\n",
        "        \"\"\"\n",
        "        \n",
        "        # convolutional layers + normalization\n",
        "        x = nn.Conv(features=16, kernel_size=(3,3),\n",
        "                    strides = 2, padding='SAME',\n",
        "                    kernel_init=nn.initializers.lecun_normal(),\n",
        "                    bias_init=nn.initializers.zeros)(x)\n",
        "        x = LayerNorm()(x)\n",
        "        x = nn.selu( x)\n",
        "        x = nn.Conv(features=32, kernel_size=(1,1),\n",
        "                    strides = 1, padding='SAME', \n",
        "                    kernel_init=nn.initializers.lecun_normal(),\n",
        "                    bias_init=nn.initializers.zeros)(x)\n",
        "        x = LayerNorm()(x)\n",
        "        x = nn.selu( x)\n",
        "        x = nn.Conv(features=64, kernel_size=(1,1),\n",
        "                    strides = 1, padding='SAME', \n",
        "                    kernel_init=nn.initializers.lecun_normal(),\n",
        "                    bias_init=nn.initializers.zeros)(x)\n",
        "        x = LayerNorm()(x)\n",
        "        x = nn.selu( x)\n",
        "        x = nn.max_pool(x, window_shape = (2, 2))\n",
        "        x = nn.Conv(features=128, kernel_size=(3,3),\n",
        "                    strides = 2, padding='SAME',\n",
        "                    kernel_init=nn.initializers.lecun_normal(),\n",
        "                    bias_init=nn.initializers.zeros)(x)\n",
        "        x = LayerNorm()(x)\n",
        "        x = nn.selu( x)\n",
        "        x = nn.max_pool(x, window_shape = (2, 2))\n",
        "            \n",
        "        # pooling -- average across the dimension (1,2)\n",
        "        x =  x.mean(axis=(1,2))\n",
        "        \n",
        "        # last dense layer\n",
        "        x = nn.Dense(self.n_class)(x)\n",
        "        \n",
        "        #convert to proba\n",
        "        probas = nn.log_softmax(x)\n",
        "        return probas"
      ]
    },
    {
      "cell_type": "code",
      "execution_count": null,
      "id": "839c5a48-464a-4897-960c-28996963d8a6",
      "metadata": {
        "colab": {
          "base_uri": "https://localhost:8080/"
        },
        "id": "839c5a48-464a-4897-960c-28996963d8a6",
        "outputId": "a8d347d2-257b-4559-f6cd-006eadcc75ae"
      },
      "outputs": [
        {
          "output_type": "stream",
          "name": "stdout",
          "text": [
            "Number of Neural Parameters: 78k\n"
          ]
        }
      ],
      "source": [
        "# generate a random generator \"key\" that is used to initialize the net parameters\n",
        "key = jax.random.PRNGKey(0)\n",
        "net = NiN(n_class = 10)\n",
        "\n",
        "# to initialize the network, one needs to propagate some data through it\n",
        "# and provide with a RNG key\n",
        "key, key_ = jax.random.split(key)\n",
        "batch_size = 32\n",
        "batch_of_images = X_train[:batch_size,:,:,:]\n",
        "params_init = net.init(key_, batch_of_images)\n",
        "\n",
        "# count the number of parameters\n",
        "param_count = sum(x.size for x in jax.tree_util.tree_leaves(params_init))\n",
        "print(f\"Number of Neural Parameters: {param_count//1000}k\")"
      ]
    },
    {
      "cell_type": "code",
      "source": [
        "@jax.jit\n",
        "def loss(params, x, y):\n",
        "  \"\"\" cross-entropy loss\n",
        "  inputs:\n",
        "  ======\n",
        "   params: neural network weights\n",
        "   x: (B,H,W,3) -- batch of images\n",
        "   y: (B) -- labels\n",
        "  \"\"\"\n",
        "  n_class = 10\n",
        "\n",
        "  # compute Cross-Entropy\n",
        "  pred = net.apply(params, x)\n",
        "  y_hot = jax.nn.one_hot(y, n_class)\n",
        "  CEs = -jnp.sum(y_hot * pred, axis=1)\n",
        "  return jnp.mean(CEs)\n",
        "\n",
        "# generate the gradient function\n",
        "loss_value_and_grad = jax.jit( jax.value_and_grad(loss) )"
      ],
      "metadata": {
        "id": "yDozNNo22SjL"
      },
      "id": "yDozNNo22SjL",
      "execution_count": null,
      "outputs": []
    },
    {
      "cell_type": "code",
      "source": [
        "@jax.jit\n",
        "def prediction_class(params, x):\n",
        "  \"\"\" make a prediction \"\"\"\n",
        "  pred = net.apply(params, x)\n",
        "  pred_class = jnp.argmax(pred, axis=1)\n",
        "  return pred_class\n",
        "\n",
        "@jax.jit\n",
        "def accuracy(params, x, y):\n",
        "  \"\"\"\n",
        "  compute the accuracy on a batch of images\n",
        "\n",
        "  inputs:\n",
        "  ======\n",
        "   params: neural network weights\n",
        "   x: (B,H,W,3) -- batch of images\n",
        "   y: (B) -- labels\n",
        "  \"\"\"\n",
        "  n_class = 10\n",
        "\n",
        "  # compute Cross-Entropy\n",
        "  pred_class = prediction_class(params, x)\n",
        "  return jnp.mean(pred_class == y)\n",
        "\n",
        "# generate the gradient function\n",
        "loss_value_and_grad = jax.jit( jax.value_and_grad(loss) )"
      ],
      "metadata": {
        "id": "K6hppCFpRwco"
      },
      "id": "K6hppCFpRwco",
      "execution_count": null,
      "outputs": []
    },
    {
      "cell_type": "code",
      "source": [
        "try:\n",
        "    import augmax\n",
        "except:\n",
        "    !pip install augmax\n",
        "    import augmax\n",
        "    \n",
        "transform = augmax.Chain(\n",
        "    # augmax.Rotate(),\n",
        "    #augmax.RandomCrop(118, 118),\n",
        "    # augmax.VerticalFlip(),\n",
        "    augmax.HorizontalFlip(),\n",
        ")"
      ],
      "metadata": {
        "id": "f14LpHhCLEEB"
      },
      "id": "f14LpHhCLEEB",
      "execution_count": null,
      "outputs": []
    },
    {
      "cell_type": "code",
      "source": [
        "vec_transform = jax.jit(jax.vmap(transform))"
      ],
      "metadata": {
        "id": "4JoJ3zaBL8yh"
      },
      "id": "4JoJ3zaBL8yh",
      "execution_count": null,
      "outputs": []
    },
    {
      "cell_type": "code",
      "source": [
        "niter = 1000\n",
        "# let us randomize the weights again to start from scratch\n",
        "params = copy.deepcopy(params_init)\n",
        "\n",
        "#define the ADAM optimizer\n",
        "optimizer = optax.chain(\n",
        "    optax.adamw(learning_rate=1e-2, weight_decay=1e-5),\n",
        "    optax.scale_by_schedule(\n",
        "        step_size_fn=optax.exponential_decay(\n",
        "            init_value=1,\n",
        "            decay_rate=0.95,\n",
        "            transition_steps=niter,\n",
        "            transition_begin=int(niter*0.25)\n",
        "        )\n",
        "    )\n",
        ")\n",
        "\n",
        "#generate the initial state of the optimizer\n",
        "opt_state = optimizer.init(params)"
      ],
      "metadata": {
        "id": "zQtLKLvl2_l5"
      },
      "id": "zQtLKLvl2_l5",
      "execution_count": null,
      "outputs": []
    },
    {
      "cell_type": "code",
      "source": [
        "# put data to GPU\n",
        "X_train = jax.device_put(X_train)\n",
        "X_val = jax.device_put(X_val)"
      ],
      "metadata": {
        "id": "FQOMAd029Ogs"
      },
      "id": "FQOMAd029Ogs",
      "execution_count": null,
      "outputs": []
    },
    {
      "cell_type": "code",
      "source": [
        "niter = 1000\n",
        "batch_size = 512\n",
        "\n",
        "sub_rngs = jax.random.split(key_, batch_size)\n",
        "\n",
        "# save the train loss\n",
        "loss_train_history = []\n",
        "loss_train_history_time = []\n",
        "\n",
        "# save the validation loss\n",
        "loss_val_history = []\n",
        "loss_val_history_time = []\n",
        "\n",
        "# save accuracies\n",
        "accuracies_history = []\n",
        "accuracies_history_time = []\n",
        "\n",
        "time_start = time.time()\n",
        "for k in tqdm( range(niter) ):\n",
        "  # create a batch\n",
        "  indices = jnp.arange(k*batch_size, (k+1)*batch_size) % len(X_train)\n",
        "  X_batch = X_train[indices]\n",
        "  Y_batch = Y_train[indices]\n",
        "  #X_batch = vec_transform(sub_rngs, X_batch)\n",
        "\n",
        "  # compute loss and gradients\n",
        "  loss_train, grads = loss_value_and_grad(params, X_batch, Y_batch)\n",
        "  time_elapsed = time.time() - time_start\n",
        "\n",
        "  if k % 50 == 0:\n",
        "    # compute the validation accuracy on a batch only (to save a bit of time)\n",
        "    N = 512\n",
        "    acc_val = 100*accuracy(params, X_val[:N], Y_val[:N])\n",
        "    acc_train = 100*accuracy(params, X_train[:N], Y_train[:N])\n",
        "    nb_epoch = float(k+1)*batch_size / len(X_train)\n",
        "    accuracies_history.append([acc_train, acc_val])\n",
        "    accuracies_history_time.append(time_elapsed)\n",
        "\n",
        "    # also compute test loss\n",
        "    loss_val = loss(params, X_val[:N], Y_val[:N])\n",
        "    loss_val_history.append( loss_val )\n",
        "    loss_val_history_time.append( time_elapsed )\n",
        "\n",
        "    print(f\"Time:{time_elapsed:3.1f}siec \\t Epoch:{nb_epoch:2.1f} \\t Loss [{loss_train:2.2f} / {loss_val:2.2f}] \\t Accuracy Train/Valid: [{acc_train:2.2f}% / {acc_val:2.2f}%]\")\n",
        "\n",
        "  # generate the \"update mechanism\" and update the state of the optimizer\n",
        "  updates, opt_state = optimizer.update(grads, opt_state, params)\n",
        "  # apply the \"update mechanism\"\n",
        "  params = optax.apply_updates(params, updates)\n",
        "\n",
        "  #opt_state, params = do_update(grads, opt_state, params)\n",
        "    \n",
        "  # save the loss\n",
        "  loss_train_history_time.append( time_elapsed )\n",
        "  loss_train_history.append( loss_train.item() )"
      ],
      "metadata": {
        "colab": {
          "base_uri": "https://localhost:8080/",
          "height": 245,
          "referenced_widgets": [
            "addff01fe5cf46ce9659c04458f40053",
            "ba9a25023527409dad6e605aa9d0f404",
            "3bb69ebb16474d50bb4b62f0712be5e7",
            "ef9d5b6e1d714028b556ad7abfc92f51",
            "c3f8dd9a875d4135ba18d141b5cacdb3",
            "b56bab61491c480a8c4f4a037fe067a1",
            "0b9b4197dc5e48e1bae418c319acf75f",
            "f0b66c71a47a41c6abaf22989b667b74",
            "830a9eaf554249219f2a695a54fb0a7f",
            "423df62973d04299806825885a6203ad",
            "e0da7a14665f4f6a8ce0273c63b27db9"
          ]
        },
        "id": "cY4B774F5ys5",
        "outputId": "10a88780-79c3-42bf-c42a-ae6b522dcf48"
      },
      "id": "cY4B774F5ys5",
      "execution_count": null,
      "outputs": [
        {
          "output_type": "display_data",
          "data": {
            "text/plain": [
              "  0%|          | 0/1000 [00:00<?, ?it/s]"
            ],
            "application/vnd.jupyter.widget-view+json": {
              "version_major": 2,
              "version_minor": 0,
              "model_id": "addff01fe5cf46ce9659c04458f40053"
            }
          },
          "metadata": {}
        },
        {
          "output_type": "stream",
          "name": "stdout",
          "text": [
            "Time:11.9siec \t Epoch:0.0 \t Loss [2.32 / 2.33] \t Accuracy Train/Valid: [10.35% / 8.98%]\n",
            "Time:26.5siec \t Epoch:1.8 \t Loss [1.71 / 1.72] \t Accuracy Train/Valid: [49.02% / 48.05%]\n",
            "Time:37.2siec \t Epoch:3.5 \t Loss [1.45 / 1.37] \t Accuracy Train/Valid: [55.47% / 57.42%]\n",
            "Time:48.0siec \t Epoch:5.2 \t Loss [1.20 / 1.16] \t Accuracy Train/Valid: [63.67% / 65.23%]\n",
            "Time:58.8siec \t Epoch:6.9 \t Loss [1.08 / 1.10] \t Accuracy Train/Valid: [65.43% / 68.16%]\n",
            "Time:69.6siec \t Epoch:8.6 \t Loss [1.05 / 1.02] \t Accuracy Train/Valid: [67.58% / 70.90%]\n",
            "Time:80.5siec \t Epoch:10.4 \t Loss [1.08 / 0.99] \t Accuracy Train/Valid: [66.99% / 69.53%]\n",
            "Time:91.3siec \t Epoch:12.1 \t Loss [0.87 / 0.91] \t Accuracy Train/Valid: [74.02% / 73.44%]\n",
            "Time:102.2siec \t Epoch:13.8 \t Loss [0.87 / 0.88] \t Accuracy Train/Valid: [72.85% / 74.61%]\n",
            "Time:113.2siec \t Epoch:15.5 \t Loss [0.92 / 0.85] \t Accuracy Train/Valid: [73.24% / 75.20%]\n",
            "Time:124.2siec \t Epoch:17.2 \t Loss [0.79 / 0.83] \t Accuracy Train/Valid: [75.78% / 73.63%]\n"
          ]
        }
      ]
    },
    {
      "cell_type": "code",
      "source": [
        "plt.plot(loss_train_history_time, loss_train_history, \"b-\", lw = 3, label=\"train\")\n",
        "plt.plot(loss_val_history_time, loss_val_history, \"r-+\", lw = 3, label=\"validation\")\n",
        "plt.xlabel(\"seconds\", fontsize=20)\n",
        "plt.ylabel(\"loss\", fontsize=20)\n",
        "plt.grid(True)\n",
        "plt.legend()"
      ],
      "metadata": {
        "colab": {
          "base_uri": "https://localhost:8080/",
          "height": 306
        },
        "id": "piAB-CzY7Vn5",
        "outputId": "430bc397-0df5-4bf5-bba2-c2d72721e257"
      },
      "id": "piAB-CzY7Vn5",
      "execution_count": null,
      "outputs": [
        {
          "output_type": "execute_result",
          "data": {
            "text/plain": [
              "<matplotlib.legend.Legend at 0x7f68802088e0>"
            ]
          },
          "metadata": {},
          "execution_count": 39
        },
        {
          "output_type": "display_data",
          "data": {
            "text/plain": [
              "<Figure size 432x288 with 1 Axes>"
            ],
            "image/png": "[encoded data removed]"
          },
          "metadata": {
            "needs_background": "light"
          }
        }
      ]
    },
    {
      "cell_type": "code",
      "source": [
        "accuracies_history = np.array(accuracies_history)\n",
        "plt.plot(accuracies_history_time, accuracies_history[:,0], \"b-\", lw = 3, label=\"train\")\n",
        "plt.plot(accuracies_history_time, accuracies_history[:,1], \"r-+\", lw = 3, label=\"validation\")\n",
        "plt.xlabel(\"seconds\", fontsize=20)\n",
        "plt.ylabel(\"accuracy\", fontsize=20)\n",
        "plt.ylim(0,100)\n",
        "plt.grid(True)\n",
        "plt.legend()"
      ],
      "metadata": {
        "colab": {
          "base_uri": "https://localhost:8080/",
          "height": 310
        },
        "id": "nXcOlMrxVCCT",
        "outputId": "0246815c-cf3a-4773-e4e6-ba9ddd7981b4"
      },
      "id": "nXcOlMrxVCCT",
      "execution_count": null,
      "outputs": [
        {
          "output_type": "execute_result",
          "data": {
            "text/plain": [
              "<matplotlib.legend.Legend at 0x7f68801054c0>"
            ]
          },
          "metadata": {},
          "execution_count": 40
        },
        {
          "output_type": "display_data",
          "data": {
            "text/plain": [
              "<Figure size 432x288 with 1 Axes>"
            ],
            "image/png": "[encoded data removed]"
          },
          "metadata": {
            "needs_background": "light"
          }
        }
      ]
    },
    {
      "cell_type": "markdown",
      "source": [
        "# Test Accuracy\n",
        "Note we have at no point used the test-set previously."
      ],
      "metadata": {
        "id": "ugMZ4XE72-eX"
      },
      "id": "ugMZ4XE72-eX"
    },
    {
      "cell_type": "code",
      "source": [
        "# final test accuracy\n",
        "pred_test = []\n",
        "n_forward_pass = len(X_test) // batch_size\n",
        "for k in tqdm(range(n_forward_pass)):\n",
        "  pred_test.append( prediction_class(params, X_test[k*batch_size:(k+1)*batch_size]) )\n",
        "# final forward pass\n",
        "pred_test.append( prediction_class(params, X_test[n_forward_pass*batch_size:]) )\n",
        "\n",
        "pred_test = np.concatenate(pred_test)\n",
        "acc_test = 100*jnp.mean(pred_test == Y_test)\n",
        "print( f\"Final Test Accuracy: {acc_test:2.1f}%\")"
      ],
      "metadata": {
        "colab": {
          "base_uri": "https://localhost:8080/",
          "height": 67,
          "referenced_widgets": [
            "2c9f744d5a6c476e90a506752120e91d",
            "760b356ec59c4c84822df80e05f20108",
            "9735af66b89d423f9f04633518bd338f",
            "8d225b3f144649ba84f9701d8e322094",
            "c5b28780fba245388462e1b2dfb7242d",
            "803a57a2798c4025bd6fcde6035b67f3",
            "34e14072cfeb4d8fbc856d60276b9be8",
            "de5fff2cc3fc48d688bc52ddce6aa3c3",
            "1dde99faf57b487a85c84a84e8ba29e8",
            "21c2fa0b87fd44bba49a0d3c75335a93",
            "17b3f71ab09a43debbe106e9c9f51aff"
          ]
        },
        "id": "yxoaTX7yZuvL",
        "outputId": "832042d5-f4b2-4d01-8680-ddef0cec2836"
      },
      "id": "yxoaTX7yZuvL",
      "execution_count": null,
      "outputs": [
        {
          "output_type": "display_data",
          "data": {
            "text/plain": [
              "  0%|          | 0/7 [00:00<?, ?it/s]"
            ],
            "application/vnd.jupyter.widget-view+json": {
              "version_major": 2,
              "version_minor": 0,
              "model_id": "2c9f744d5a6c476e90a506752120e91d"
            }
          },
          "metadata": {}
        },
        {
          "output_type": "stream",
          "name": "stdout",
          "text": [
            "Final Test Accuracy: 76.0%\n"
          ]
        }
      ]
    },
    {
      "cell_type": "code",
      "source": [],
      "metadata": {
        "id": "1DNxYP6Wa_rR"
      },
      "id": "1DNxYP6Wa_rR",
      "execution_count": null,
      "outputs": []
    }
  ],
  "metadata": {
    "kernelspec": {
      "display_name": "Python 3 (ipykernel)",
      "language": "python",
      "name": "python3"
    },
    "language_info": {
      "codemirror_mode": {
        "name": "ipython",
        "version": 3
      },
      "file_extension": ".py",
      "mimetype": "text/x-python",
      "name": "python",
      "nbconvert_exporter": "python",
      "pygments_lexer": "ipython3",
      "version": "3.8.12"
    },
    "colab": {
      "provenance": []
    },
    "accelerator": "GPU",
    "gpuClass": "standard",
    "widgets": {
      "application/vnd.jupyter.widget-state+json": {
        "addff01fe5cf46ce9659c04458f40053": {
          "model_module": "@jupyter-widgets/controls",
          "model_name": "HBoxModel",
          "model_module_version": "1.5.0",
          "state": {
            "_dom_classes": [],
            "_model_module": "@jupyter-widgets/controls",
            "_model_module_version": "1.5.0",
            "_model_name": "HBoxModel",
            "_view_count": null,
            "_view_module": "@jupyter-widgets/controls",
            "_view_module_version": "1.5.0",
            "_view_name": "HBoxView",
            "box_style": "",
            "children": [
              "IPY_MODEL_ba9a25023527409dad6e605aa9d0f404",
              "IPY_MODEL_3bb69ebb16474d50bb4b62f0712be5e7",
              "IPY_MODEL_ef9d5b6e1d714028b556ad7abfc92f51"
            ],
            "layout": "IPY_MODEL_c3f8dd9a875d4135ba18d141b5cacdb3"
          }
        },
        "ba9a25023527409dad6e605aa9d0f404": {
          "model_module": "@jupyter-widgets/controls",
          "model_name": "HTMLModel",
          "model_module_version": "1.5.0",
          "state": {
            "_dom_classes": [],
            "_model_module": "@jupyter-widgets/controls",
            "_model_module_version": "1.5.0",
            "_model_name": "HTMLModel",
            "_view_count": null,
            "_view_module": "@jupyter-widgets/controls",
            "_view_module_version": "1.5.0",
            "_view_name": "HTMLView",
            "description": "",
            "description_tooltip": null,
            "layout": "IPY_MODEL_b56bab61491c480a8c4f4a037fe067a1",
            "placeholder": "​",
            "style": "IPY_MODEL_0b9b4197dc5e48e1bae418c319acf75f",
            "value": " 54%"
          }
        },
        "3bb69ebb16474d50bb4b62f0712be5e7": {
          "model_module": "@jupyter-widgets/controls",
          "model_name": "FloatProgressModel",
          "model_module_version": "1.5.0",
          "state": {
            "_dom_classes": [],
            "_model_module": "@jupyter-widgets/controls",
            "_model_module_version": "1.5.0",
            "_model_name": "FloatProgressModel",
            "_view_count": null,
            "_view_module": "@jupyter-widgets/controls",
            "_view_module_version": "1.5.0",
            "_view_name": "ProgressView",
            "bar_style": "",
            "description": "",
            "description_tooltip": null,
            "layout": "IPY_MODEL_f0b66c71a47a41c6abaf22989b667b74",
            "max": 1000,
            "min": 0,
            "orientation": "horizontal",
            "style": "IPY_MODEL_830a9eaf554249219f2a695a54fb0a7f",
            "value": 543
          }
        },
        "ef9d5b6e1d714028b556ad7abfc92f51": {
          "model_module": "@jupyter-widgets/controls",
          "model_name": "HTMLModel",
          "model_module_version": "1.5.0",
          "state": {
            "_dom_classes": [],
            "_model_module": "@jupyter-widgets/controls",
            "_model_module_version": "1.5.0",
            "_model_name": "HTMLModel",
            "_view_count": null,
            "_view_module": "@jupyter-widgets/controls",
            "_view_module_version": "1.5.0",
            "_view_name": "HTMLView",
            "description": "",
            "description_tooltip": null,
            "layout": "IPY_MODEL_423df62973d04299806825885a6203ad",
            "placeholder": "​",
            "style": "IPY_MODEL_e0da7a14665f4f6a8ce0273c63b27db9",
            "value": " 543/1000 [02:13&lt;01:37,  4.68it/s]"
          }
        },
        "c3f8dd9a875d4135ba18d141b5cacdb3": {
          "model_module": "@jupyter-widgets/base",
          "model_name": "LayoutModel",
          "model_module_version": "1.2.0",
          "state": {
            "_model_module": "@jupyter-widgets/base",
            "_model_module_version": "1.2.0",
            "_model_name": "LayoutModel",
            "_view_count": null,
            "_view_module": "@jupyter-widgets/base",
            "_view_module_version": "1.2.0",
            "_view_name": "LayoutView",
            "align_content": null,
            "align_items": null,
            "align_self": null,
            "border": null,
            "bottom": null,
            "display": null,
            "flex": null,
            "flex_flow": null,
            "grid_area": null,
            "grid_auto_columns": null,
            "grid_auto_flow": null,
            "grid_auto_rows": null,
            "grid_column": null,
            "grid_gap": null,
            "grid_row": null,
            "grid_template_areas": null,
            "grid_template_columns": null,
            "grid_template_rows": null,
            "height": null,
            "justify_content": null,
            "justify_items": null,
            "left": null,
            "margin": null,
            "max_height": null,
            "max_width": null,
            "min_height": null,
            "min_width": null,
            "object_fit": null,
            "object_position": null,
            "order": null,
            "overflow": null,
            "overflow_x": null,
            "overflow_y": null,
            "padding": null,
            "right": null,
            "top": null,
            "visibility": null,
            "width": null
          }
        },
        "b56bab61491c480a8c4f4a037fe067a1": {
          "model_module": "@jupyter-widgets/base",
          "model_name": "LayoutModel",
          "model_module_version": "1.2.0",
          "state": {
            "_model_module": "@jupyter-widgets/base",
            "_model_module_version": "1.2.0",
            "_model_name": "LayoutModel",
            "_view_count": null,
            "_view_module": "@jupyter-widgets/base",
            "_view_module_version": "1.2.0",
            "_view_name": "LayoutView",
            "align_content": null,
            "align_items": null,
            "align_self": null,
            "border": null,
            "bottom": null,
            "display": null,
            "flex": null,
            "flex_flow": null,
            "grid_area": null,
            "grid_auto_columns": null,
            "grid_auto_flow": null,
            "grid_auto_rows": null,
            "grid_column": null,
            "grid_gap": null,
            "grid_row": null,
            "grid_template_areas": null,
            "grid_template_columns": null,
            "grid_template_rows": null,
            "height": null,
            "justify_content": null,
            "justify_items": null,
            "left": null,
            "margin": null,
            "max_height": null,
            "max_width": null,
            "min_height": null,
            "min_width": null,
            "object_fit": null,
            "object_position": null,
            "order": null,
            "overflow": null,
            "overflow_x": null,
            "overflow_y": null,
            "padding": null,
            "right": null,
            "top": null,
            "visibility": null,
            "width": null
          }
        },
        "0b9b4197dc5e48e1bae418c319acf75f": {
          "model_module": "@jupyter-widgets/controls",
          "model_name": "DescriptionStyleModel",
          "model_module_version": "1.5.0",
          "state": {
            "_model_module": "@jupyter-widgets/controls",
            "_model_module_version": "1.5.0",
            "_model_name": "DescriptionStyleModel",
            "_view_count": null,
            "_view_module": "@jupyter-widgets/base",
            "_view_module_version": "1.2.0",
            "_view_name": "StyleView",
            "description_width": ""
          }
        },
        "f0b66c71a47a41c6abaf22989b667b74": {
          "model_module": "@jupyter-widgets/base",
          "model_name": "LayoutModel",
          "model_module_version": "1.2.0",
          "state": {
            "_model_module": "@jupyter-widgets/base",
            "_model_module_version": "1.2.0",
            "_model_name": "LayoutModel",
            "_view_count": null,
            "_view_module": "@jupyter-widgets/base",
            "_view_module_version": "1.2.0",
            "_view_name": "LayoutView",
            "align_content": null,
            "align_items": null,
            "align_self": null,
            "border": null,
            "bottom": null,
            "display": null,
            "flex": null,
            "flex_flow": null,
            "grid_area": null,
            "grid_auto_columns": null,
            "grid_auto_flow": null,
            "grid_auto_rows": null,
            "grid_column": null,
            "grid_gap": null,
            "grid_row": null,
            "grid_template_areas": null,
            "grid_template_columns": null,
            "grid_template_rows": null,
            "height": null,
            "justify_content": null,
            "justify_items": null,
            "left": null,
            "margin": null,
            "max_height": null,
            "max_width": null,
            "min_height": null,
            "min_width": null,
            "object_fit": null,
            "object_position": null,
            "order": null,
            "overflow": null,
            "overflow_x": null,
            "overflow_y": null,
            "padding": null,
            "right": null,
            "top": null,
            "visibility": null,
            "width": null
          }
        },
        "830a9eaf554249219f2a695a54fb0a7f": {
          "model_module": "@jupyter-widgets/controls",
          "model_name": "ProgressStyleModel",
          "model_module_version": "1.5.0",
          "state": {
            "_model_module": "@jupyter-widgets/controls",
            "_model_module_version": "1.5.0",
            "_model_name": "ProgressStyleModel",
            "_view_count": null,
            "_view_module": "@jupyter-widgets/base",
            "_view_module_version": "1.2.0",
            "_view_name": "StyleView",
            "bar_color": null,
            "description_width": ""
          }
        },
        "423df62973d04299806825885a6203ad": {
          "model_module": "@jupyter-widgets/base",
          "model_name": "LayoutModel",
          "model_module_version": "1.2.0",
          "state": {
            "_model_module": "@jupyter-widgets/base",
            "_model_module_version": "1.2.0",
            "_model_name": "LayoutModel",
            "_view_count": null,
            "_view_module": "@jupyter-widgets/base",
            "_view_module_version": "1.2.0",
            "_view_name": "LayoutView",
            "align_content": null,
            "align_items": null,
            "align_self": null,
            "border": null,
            "bottom": null,
            "display": null,
            "flex": null,
            "flex_flow": null,
            "grid_area": null,
            "grid_auto_columns": null,
            "grid_auto_flow": null,
            "grid_auto_rows": null,
            "grid_column": null,
            "grid_gap": null,
            "grid_row": null,
            "grid_template_areas": null,
            "grid_template_columns": null,
            "grid_template_rows": null,
            "height": null,
            "justify_content": null,
            "justify_items": null,
            "left": null,
            "margin": null,
            "max_height": null,
            "max_width": null,
            "min_height": null,
            "min_width": null,
            "object_fit": null,
            "object_position": null,
            "order": null,
            "overflow": null,
            "overflow_x": null,
            "overflow_y": null,
            "padding": null,
            "right": null,
            "top": null,
            "visibility": null,
            "width": null
          }
        },
        "e0da7a14665f4f6a8ce0273c63b27db9": {
          "model_module": "@jupyter-widgets/controls",
          "model_name": "DescriptionStyleModel",
          "model_module_version": "1.5.0",
          "state": {
            "_model_module": "@jupyter-widgets/controls",
            "_model_module_version": "1.5.0",
            "_model_name": "DescriptionStyleModel",
            "_view_count": null,
            "_view_module": "@jupyter-widgets/base",
            "_view_module_version": "1.2.0",
            "_view_name": "StyleView",
            "description_width": ""
          }
        },
        "2c9f744d5a6c476e90a506752120e91d": {
          "model_module": "@jupyter-widgets/controls",
          "model_name": "HBoxModel",
          "model_module_version": "1.5.0",
          "state": {
            "_dom_classes": [],
            "_model_module": "@jupyter-widgets/controls",
            "_model_module_version": "1.5.0",
            "_model_name": "HBoxModel",
            "_view_count": null,
            "_view_module": "@jupyter-widgets/controls",
            "_view_module_version": "1.5.0",
            "_view_name": "HBoxView",
            "box_style": "",
            "children": [
              "IPY_MODEL_760b356ec59c4c84822df80e05f20108",
              "IPY_MODEL_9735af66b89d423f9f04633518bd338f",
              "IPY_MODEL_8d225b3f144649ba84f9701d8e322094"
            ],
            "layout": "IPY_MODEL_c5b28780fba245388462e1b2dfb7242d"
          }
        },
        "760b356ec59c4c84822df80e05f20108": {
          "model_module": "@jupyter-widgets/controls",
          "model_name": "HTMLModel",
          "model_module_version": "1.5.0",
          "state": {
            "_dom_classes": [],
            "_model_module": "@jupyter-widgets/controls",
            "_model_module_version": "1.5.0",
            "_model_name": "HTMLModel",
            "_view_count": null,
            "_view_module": "@jupyter-widgets/controls",
            "_view_module_version": "1.5.0",
            "_view_name": "HTMLView",
            "description": "",
            "description_tooltip": null,
            "layout": "IPY_MODEL_803a57a2798c4025bd6fcde6035b67f3",
            "placeholder": "​",
            "style": "IPY_MODEL_34e14072cfeb4d8fbc856d60276b9be8",
            "value": "100%"
          }
        },
        "9735af66b89d423f9f04633518bd338f": {
          "model_module": "@jupyter-widgets/controls",
          "model_name": "FloatProgressModel",
          "model_module_version": "1.5.0",
          "state": {
            "_dom_classes": [],
            "_model_module": "@jupyter-widgets/controls",
            "_model_module_version": "1.5.0",
            "_model_name": "FloatProgressModel",
            "_view_count": null,
            "_view_module": "@jupyter-widgets/controls",
            "_view_module_version": "1.5.0",
            "_view_name": "ProgressView",
            "bar_style": "success",
            "description": "",
            "description_tooltip": null,
            "layout": "IPY_MODEL_de5fff2cc3fc48d688bc52ddce6aa3c3",
            "max": 7,
            "min": 0,
            "orientation": "horizontal",
            "style": "IPY_MODEL_1dde99faf57b487a85c84a84e8ba29e8",
            "value": 7
          }
        },
        "8d225b3f144649ba84f9701d8e322094": {
          "model_module": "@jupyter-widgets/controls",
          "model_name": "HTMLModel",
          "model_module_version": "1.5.0",
          "state": {
            "_dom_classes": [],
            "_model_module": "@jupyter-widgets/controls",
            "_model_module_version": "1.5.0",
            "_model_name": "HTMLModel",
            "_view_count": null,
            "_view_module": "@jupyter-widgets/controls",
            "_view_module_version": "1.5.0",
            "_view_name": "HTMLView",
            "description": "",
            "description_tooltip": null,
            "layout": "IPY_MODEL_21c2fa0b87fd44bba49a0d3c75335a93",
            "placeholder": "​",
            "style": "IPY_MODEL_17b3f71ab09a43debbe106e9c9f51aff",
            "value": " 7/7 [00:00&lt;00:00,  7.68it/s]"
          }
        },
        "c5b28780fba245388462e1b2dfb7242d": {
          "model_module": "@jupyter-widgets/base",
          "model_name": "LayoutModel",
          "model_module_version": "1.2.0",
          "state": {
            "_model_module": "@jupyter-widgets/base",
            "_model_module_version": "1.2.0",
            "_model_name": "LayoutModel",
            "_view_count": null,
            "_view_module": "@jupyter-widgets/base",
            "_view_module_version": "1.2.0",
            "_view_name": "LayoutView",
            "align_content": null,
            "align_items": null,
            "align_self": null,
            "border": null,
            "bottom": null,
            "display": null,
            "flex": null,
            "flex_flow": null,
            "grid_area": null,
            "grid_auto_columns": null,
            "grid_auto_flow": null,
            "grid_auto_rows": null,
            "grid_column": null,
            "grid_gap": null,
            "grid_row": null,
            "grid_template_areas": null,
            "grid_template_columns": null,
            "grid_template_rows": null,
            "height": null,
            "justify_content": null,
            "justify_items": null,
            "left": null,
            "margin": null,
            "max_height": null,
            "max_width": null,
            "min_height": null,
            "min_width": null,
            "object_fit": null,
            "object_position": null,
            "order": null,
            "overflow": null,
            "overflow_x": null,
            "overflow_y": null,
            "padding": null,
            "right": null,
            "top": null,
            "visibility": null,
            "width": null
          }
        },
        "803a57a2798c4025bd6fcde6035b67f3": {
          "model_module": "@jupyter-widgets/base",
          "model_name": "LayoutModel",
          "model_module_version": "1.2.0",
          "state": {
            "_model_module": "@jupyter-widgets/base",
            "_model_module_version": "1.2.0",
            "_model_name": "LayoutModel",
            "_view_count": null,
            "_view_module": "@jupyter-widgets/base",
            "_view_module_version": "1.2.0",
            "_view_name": "LayoutView",
            "align_content": null,
            "align_items": null,
            "align_self": null,
            "border": null,
            "bottom": null,
            "display": null,
            "flex": null,
            "flex_flow": null,
            "grid_area": null,
            "grid_auto_columns": null,
            "grid_auto_flow": null,
            "grid_auto_rows": null,
            "grid_column": null,
            "grid_gap": null,
            "grid_row": null,
            "grid_template_areas": null,
            "grid_template_columns": null,
            "grid_template_rows": null,
            "height": null,
            "justify_content": null,
            "justify_items": null,
            "left": null,
            "margin": null,
            "max_height": null,
            "max_width": null,
            "min_height": null,
            "min_width": null,
            "object_fit": null,
            "object_position": null,
            "order": null,
            "overflow": null,
            "overflow_x": null,
            "overflow_y": null,
            "padding": null,
            "right": null,
            "top": null,
            "visibility": null,
            "width": null
          }
        },
        "34e14072cfeb4d8fbc856d60276b9be8": {
          "model_module": "@jupyter-widgets/controls",
          "model_name": "DescriptionStyleModel",
          "model_module_version": "1.5.0",
          "state": {
            "_model_module": "@jupyter-widgets/controls",
            "_model_module_version": "1.5.0",
            "_model_name": "DescriptionStyleModel",
            "_view_count": null,
            "_view_module": "@jupyter-widgets/base",
            "_view_module_version": "1.2.0",
            "_view_name": "StyleView",
            "description_width": ""
          }
        },
        "de5fff2cc3fc48d688bc52ddce6aa3c3": {
          "model_module": "@jupyter-widgets/base",
          "model_name": "LayoutModel",
          "model_module_version": "1.2.0",
          "state": {
            "_model_module": "@jupyter-widgets/base",
            "_model_module_version": "1.2.0",
            "_model_name": "LayoutModel",
            "_view_count": null,
            "_view_module": "@jupyter-widgets/base",
            "_view_module_version": "1.2.0",
            "_view_name": "LayoutView",
            "align_content": null,
            "align_items": null,
            "align_self": null,
            "border": null,
            "bottom": null,
            "display": null,
            "flex": null,
            "flex_flow": null,
            "grid_area": null,
            "grid_auto_columns": null,
            "grid_auto_flow": null,
            "grid_auto_rows": null,
            "grid_column": null,
            "grid_gap": null,
            "grid_row": null,
            "grid_template_areas": null,
            "grid_template_columns": null,
            "grid_template_rows": null,
            "height": null,
            "justify_content": null,
            "justify_items": null,
            "left": null,
            "margin": null,
            "max_height": null,
            "max_width": null,
            "min_height": null,
            "min_width": null,
            "object_fit": null,
            "object_position": null,
            "order": null,
            "overflow": null,
            "overflow_x": null,
            "overflow_y": null,
            "padding": null,
            "right": null,
            "top": null,
            "visibility": null,
            "width": null
          }
        },
        "1dde99faf57b487a85c84a84e8ba29e8": {
          "model_module": "@jupyter-widgets/controls",
          "model_name": "ProgressStyleModel",
          "model_module_version": "1.5.0",
          "state": {
            "_model_module": "@jupyter-widgets/controls",
            "_model_module_version": "1.5.0",
            "_model_name": "ProgressStyleModel",
            "_view_count": null,
            "_view_module": "@jupyter-widgets/base",
            "_view_module_version": "1.2.0",
            "_view_name": "StyleView",
            "bar_color": null,
            "description_width": ""
          }
        },
        "21c2fa0b87fd44bba49a0d3c75335a93": {
          "model_module": "@jupyter-widgets/base",
          "model_name": "LayoutModel",
          "model_module_version": "1.2.0",
          "state": {
            "_model_module": "@jupyter-widgets/base",
            "_model_module_version": "1.2.0",
            "_model_name": "LayoutModel",
            "_view_count": null,
            "_view_module": "@jupyter-widgets/base",
            "_view_module_version": "1.2.0",
            "_view_name": "LayoutView",
            "align_content": null,
            "align_items": null,
            "align_self": null,
            "border": null,
            "bottom": null,
            "display": null,
            "flex": null,
            "flex_flow": null,
            "grid_area": null,
            "grid_auto_columns": null,
            "grid_auto_flow": null,
            "grid_auto_rows": null,
            "grid_column": null,
            "grid_gap": null,
            "grid_row": null,
            "grid_template_areas": null,
            "grid_template_columns": null,
            "grid_template_rows": null,
            "height": null,
            "justify_content": null,
            "justify_items": null,
            "left": null,
            "margin": null,
            "max_height": null,
            "max_width": null,
            "min_height": null,
            "min_width": null,
            "object_fit": null,
            "object_position": null,
            "order": null,
            "overflow": null,
            "overflow_x": null,
            "overflow_y": null,
            "padding": null,
            "right": null,
            "top": null,
            "visibility": null,
            "width": null
          }
        },
        "17b3f71ab09a43debbe106e9c9f51aff": {
          "model_module": "@jupyter-widgets/controls",
          "model_name": "DescriptionStyleModel",
          "model_module_version": "1.5.0",
          "state": {
            "_model_module": "@jupyter-widgets/controls",
            "_model_module_version": "1.5.0",
            "_model_name": "DescriptionStyleModel",
            "_view_count": null,
            "_view_module": "@jupyter-widgets/base",
            "_view_module_version": "1.2.0",
            "_view_name": "StyleView",
            "description_width": ""
          }
        }
      }
    }
  },
  "nbformat": 4,
  "nbformat_minor": 5
}