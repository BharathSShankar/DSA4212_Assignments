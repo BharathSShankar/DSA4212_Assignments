{
  "cells": [
    {
      "cell_type": "markdown",
      "source": [
        "# Librarires imported"
      ],
      "metadata": {
        "id": "Ug_BugpvHOwU"
      },
      "id": "Ug_BugpvHOwU"
    },
    {
      "cell_type": "code",
      "execution_count": null,
      "id": "7a534f49-955b-4027-847e-fa9268011df8",
      "metadata": {
        "id": "7a534f49-955b-4027-847e-fa9268011df8"
      },
      "outputs": [],
      "source": [
        "import numpy as np\n",
        "## Progress bar\n",
        "from tqdm.auto import tqdm\n",
        "import pylab as plt\n",
        "import copy\n",
        "import time"
      ]
    },
    {
      "cell_type": "code",
      "source": [
        "try:\n",
        "    import augmax\n",
        "except:\n",
        "    !pip install augmax\n",
        "    import augmax"
      ],
      "metadata": {
        "id": "UJNYbQrDFq-h"
      },
      "id": "UJNYbQrDFq-h",
      "execution_count": null,
      "outputs": []
    },
    {
      "cell_type": "code",
      "source": [
        "# load FLAX and install it if not installed already\n",
        "try:\n",
        "    import flax\n",
        "except ModuleNotFoundError: # Install flax if missing\n",
        "    !pip install --quiet flax\n",
        "    import flax\n",
        "\n",
        "import flax\n",
        "from flax import linen as nn"
      ],
      "metadata": {
        "id": "qXfYOBp7WJ2u"
      },
      "id": "qXfYOBp7WJ2u",
      "execution_count": null,
      "outputs": []
    },
    {
      "cell_type": "code",
      "source": [
        "import jax\n",
        "import jax.numpy as jnp\n",
        "from typing import Any, Sequence\n",
        "\n",
        "try:\n",
        "    import optax\n",
        "except ModuleNotFoundError: # Install optax if missing\n",
        "    !pip install --quiet optax\n",
        "    import optax\n",
        "np.random.seed(42)"
      ],
      "metadata": {
        "id": "CLXuXw2mWLwL"
      },
      "id": "CLXuXw2mWLwL",
      "execution_count": null,
      "outputs": []
    },
    {
      "cell_type": "markdown",
      "source": [
        "# Connect to Google Drive & Load data"
      ],
      "metadata": {
        "id": "CwmX1u6N0TlR"
      },
      "id": "CwmX1u6N0TlR"
    },
    {
      "cell_type": "code",
      "source": [
        "# mount the Google Drive\n",
        "from google.colab import drive\n",
        "drive.mount(\"/content/drive\")"
      ],
      "metadata": {
        "colab": {
          "base_uri": "https://localhost:8080/"
        },
        "id": "URl6pEbT0ROQ",
        "outputId": "5e12eb73-cf35-4dad-d2cb-9eaf6d5bd74c"
      },
      "id": "URl6pEbT0ROQ",
      "execution_count": null,
      "outputs": [
        {
          "output_type": "stream",
          "name": "stdout",
          "text": [
            "Drive already mounted at /content/drive; to attempt to forcibly remount, call drive.mount(\"/content/drive\", force_remount=True).\n"
          ]
        }
      ]
    },
    {
      "cell_type": "code",
      "source": [
        "# goto to data folder -- you may need to change this location\n",
        "%cd /content/drive/MyDrive/DSA4212Assignment1/data"
      ],
      "metadata": {
        "colab": {
          "base_uri": "https://localhost:8080/"
        },
        "id": "EH69mPNX0rXr",
        "outputId": "b68b1ae2-58af-4a75-f05b-8230653836a8"
      },
      "id": "EH69mPNX0rXr",
      "execution_count": null,
      "outputs": [
        {
          "output_type": "stream",
          "name": "stdout",
          "text": [
            "/content/drive/MyDrive/DSA4212Assignment1/data\n"
          ]
        }
      ]
    },
    {
      "cell_type": "code",
      "execution_count": null,
      "id": "8b2efbfc-d4e6-41c7-89cd-a7127c9f1538",
      "metadata": {
        "colab": {
          "base_uri": "https://localhost:8080/"
        },
        "id": "8b2efbfc-d4e6-41c7-89cd-a7127c9f1538",
        "outputId": "77601694-cab5-4fdd-d5c7-d97c141adc00"
      },
      "outputs": [
        {
          "output_type": "stream",
          "name": "stdout",
          "text": [
            "Img Shape: 128x128x3\n"
          ]
        }
      ],
      "source": [
        "class_names=[\"fish\", \"dog\", \"device\", \"chainsaw\", \"church\", \"horn\", \"truck\", \"petrol\", \"golf\", \"parachute\"]\n",
        "\n",
        "# load data -- be patient, does take a few secs\n",
        "data_train_all = np.load(\"assignment_1_train.npz\")\n",
        "data_test = np.load(\"assignment_1_test.npz\")\n",
        "\n",
        "X_train_all = data_train_all[\"img\"].astype(np.float32) / 255.   # set pixel intensities to [0,1]\n",
        "X_test = data_test[\"img\"].astype(np.float32) / 255.\n",
        "Y_train_all = data_train_all[\"label\"].astype(int)\n",
        "Y_test = data_test[\"label\"].astype(int)\n",
        "\n",
        "_,H,W,C = X_train_all.shape\n",
        "print(f\"Img Shape: {H}x{W}x{C}\")"
      ]
    },
    {
      "cell_type": "code",
      "source": [
        "# shuffle the train set\n",
        "indices_shuffled = np.arange(len(X_train_all))\n",
        "np.random.shuffle(indices_shuffled)\n",
        "X_train_all = X_train_all[indices_shuffled]\n",
        "Y_train_all = Y_train_all[indices_shuffled]\n",
        "\n",
        "# shuffle the validation set\n",
        "indices_shuffled = np.arange(len(X_test))\n",
        "np.random.shuffle(indices_shuffled)\n",
        "X_test = X_test[indices_shuffled]\n",
        "Y_test = Y_test[indices_shuffled]"
      ],
      "metadata": {
        "id": "12Px5nZG4LEU"
      },
      "id": "12Px5nZG4LEU",
      "execution_count": null,
      "outputs": []
    },
    {
      "cell_type": "code",
      "execution_count": null,
      "id": "74b46f91-a59b-46c3-96d1-f1febdb7a876",
      "metadata": {
        "colab": {
          "base_uri": "https://localhost:8080/"
        },
        "id": "74b46f91-a59b-46c3-96d1-f1febdb7a876",
        "outputId": "c46e1c0c-a620-4279-c2da-ad26ac75d4e2"
      },
      "outputs": [
        {
          "output_type": "stream",
          "name": "stdout",
          "text": [
            "Training Set Size: 1.70 Go\n",
            "Validaton Set Size: 0.71 Go\n"
          ]
        }
      ],
      "source": [
        "sz_train = X_train_all.size * X_train_all.itemsize / 2.**30\n",
        "sz_val = X_test.size * X_test.itemsize / 2.**30\n",
        "\n",
        "print(f\"Training Set Size: {sz_train:2.2f} Go\")\n",
        "print(f\"Validaton Set Size: {sz_val:2.2f} Go\")"
      ]
    },
    {
      "cell_type": "markdown",
      "source": [
        "# Split Train / Validation / Test\n",
        "\n",
        "The test set can only be used for the final evaluation of the model: one cannot use the test set when tuning the models. Consequently, we are going to split `X_train_all` into a train-set and a validation-set."
      ],
      "metadata": {
        "id": "CxtPWBv9zCdv"
      },
      "id": "CxtPWBv9zCdv"
    },
    {
      "cell_type": "code",
      "source": [
        "len_train_all = len(X_train_all)\n",
        "len_train = int(0.8 * len_train_all)\n",
        "len_val = len_train_all - len_train\n",
        "len_tets = len(X_test)\n",
        "\n",
        "X_train = X_train_all[:len_train]\n",
        "Y_train = Y_train_all[:len_train]\n",
        "\n",
        "X_val = X_train_all[len_train:]\n",
        "Y_val = Y_train_all[len_train:]"
      ],
      "metadata": {
        "id": "yZelycNpzGc_"
      },
      "id": "yZelycNpzGc_",
      "execution_count": null,
      "outputs": []
    },
    {
      "cell_type": "markdown",
      "source": [
        "# Helper functions"
      ],
      "metadata": {
        "id": "diSqreByWSu8"
      },
      "id": "diSqreByWSu8"
    },
    {
      "cell_type": "code",
      "source": [
        "transform = augmax.Chain(\n",
        "    augmax.Normalize(),\n",
        ")\n",
        "\n",
        "transform2 = augmax.Chain(\n",
        "    # augmax.Rotate(),\n",
        "    #augmax.RandomCrop(118, 118),\n",
        "    # augmax.VerticalFlip(),\n",
        "    augmax.HorizontalFlip(),\n",
        ")\n",
        "\n",
        "vec_transform1 = jax.jit(jax.vmap(transform))\n",
        "vec_transform2 = jax.jit(jax.vmap(transform2))"
      ],
      "metadata": {
        "id": "6KIiDN_XFwi3"
      },
      "id": "6KIiDN_XFwi3",
      "execution_count": null,
      "outputs": []
    },
    {
      "cell_type": "code",
      "source": [
        "@jax.jit\n",
        "def loss(params, x, y):\n",
        "  \"\"\" cross-entropy loss\n",
        "  inputs:\n",
        "  ======\n",
        "   params: neural network weights\n",
        "   x: (B,H,W,3) -- batch of images\n",
        "   y: (B) -- labels\n",
        "  \"\"\"\n",
        "  n_class = 10\n",
        "\n",
        "  # compute Cross-Entropy\n",
        "  pred = net.apply(params, x)\n",
        "  y_hot = jax.nn.one_hot(y, n_class)\n",
        "  CEs = -jnp.sum(y_hot * pred, axis=1)\n",
        "  return jnp.mean(CEs)\n",
        "\n",
        "# generate the gradient function\n",
        "loss_value_and_grad = jax.jit( jax.value_and_grad(loss) )\n",
        "\n",
        "@jax.jit\n",
        "def prediction_class(params, x):\n",
        "  \"\"\" make a prediction \"\"\"\n",
        "  pred = net.apply(params, x)\n",
        "  pred_class = jnp.argmax(pred, axis=1)\n",
        "  return pred_class\n",
        "\n",
        "@jax.jit\n",
        "def accuracy(params, x, y):\n",
        "  \"\"\"\n",
        "  compute the accuracy on a batch of images\n",
        "\n",
        "  inputs:\n",
        "  ======\n",
        "   params: neural network weights\n",
        "   x: (B,H,W,3) -- batch of images\n",
        "   y: (B) -- labels\n",
        "  \"\"\"\n",
        "  n_class = 10\n",
        "\n",
        "  # compute Cross-Entropy\n",
        "  pred_class = prediction_class(params, x)\n",
        "  return jnp.mean(pred_class == y)\n",
        "\n",
        "# generate the gradient function\n",
        "loss_value_and_grad = jax.jit( jax.value_and_grad(loss) )"
      ],
      "metadata": {
        "id": "C-mpMzISWUT7"
      },
      "id": "C-mpMzISWUT7",
      "execution_count": null,
      "outputs": []
    },
    {
      "cell_type": "markdown",
      "source": [
        "# Model"
      ],
      "metadata": {
        "id": "u3Zn2CyuWPHI"
      },
      "id": "u3Zn2CyuWPHI"
    },
    {
      "cell_type": "code",
      "execution_count": null,
      "id": "4520ac10-c1a0-4387-8b73-6869529640d1",
      "metadata": {
        "id": "4520ac10-c1a0-4387-8b73-6869529640d1"
      },
      "outputs": [],
      "source": [
        "class LayerNorm(nn.Module):\n",
        "    \"\"\"\n",
        "    input:\n",
        "    ======\n",
        "     x: tensor with D channels of dimension (B,H,W,D)\n",
        "     \n",
        "    output:\n",
        "    ======\n",
        "     x_normalized: tensor with D channels of dimension (B,H,W,D)\n",
        "     \n",
        "     \n",
        "    Description:\n",
        "    ===========\n",
        "    for each each element `i` and each dimension `d`,\n",
        "    normalize the 2D array x[i,:,:,d] by substracting its mean and divide by its standard deviation\n",
        "       x_normalized[i,:,:,d] = (x[i,:,:,d] - mean) / stdev\n",
        "    \"\"\"\n",
        "    @nn.compact\n",
        "    def __call__(self, inputs):\n",
        "        eps = 10**-3\n",
        "        mean = jnp.expand_dims(jnp.mean(inputs, axis=(1,2)), axis=(1,2))\n",
        "        std = jnp.expand_dims(jnp.std(inputs, axis=(1,2)), axis=(1,2))\n",
        "        return (inputs - mean) / (eps + std)\n",
        "\n",
        "class SimpleCNN(nn.Module):\n",
        "    \"\"\" a simple convolutional neural network \"\"\"\n",
        "    n_filters: Sequence[int]  # sequence -- number of CNN filters in each layer\n",
        "    n_class: int              # number of possible classes\n",
        "    \n",
        "    @nn.compact\n",
        "    def __call__(self, x):\n",
        "        \"\"\"\n",
        "        inputs:\n",
        "        ======\n",
        "         inputs: batch of images of dimension (X,H,W,3)\n",
        "\n",
        "        outputs:\n",
        "        ======\n",
        "         probas: predictive log probability vector\n",
        "        \"\"\"\n",
        "        \n",
        "        # convolutional layers + normalization\n",
        "        for i, feat_dim in enumerate(self.n_filters):\n",
        "          x = nn.Conv(features=feat_dim, kernel_size=(3,3),\n",
        "                      strides = 2, padding='SAME', name=f'layers_{i}_1',\n",
        "                      kernel_init=nn.initializers.lecun_normal(),\n",
        "                      bias_init=nn.initializers.zeros)(x)\n",
        "          x = LayerNorm()(x)\n",
        "          x = nn.selu( x)\n",
        "          x = nn.max_pool(x, window_shape = (2, 2), strides=(2, 2))\n",
        "            \n",
        "        # pooling -- average across the dimension (1,2)\n",
        "        x =  x.mean(axis=(1,2))\n",
        "        \n",
        "        # last dense layer\n",
        "        x = nn.Dense(self.n_class)(x)\n",
        "        \n",
        "        #convert to proba\n",
        "        logprobas = nn.log_softmax(x)\n",
        "        return logprobas"
      ]
    },
    {
      "cell_type": "markdown",
      "source": [
        "# Training and initalising the model"
      ],
      "metadata": {
        "id": "exq5TMkXWjD4"
      },
      "id": "exq5TMkXWjD4"
    },
    {
      "cell_type": "markdown",
      "source": [
        "## Initalisation"
      ],
      "metadata": {
        "id": "pWm3vVeWXEGZ"
      },
      "id": "pWm3vVeWXEGZ"
    },
    {
      "cell_type": "code",
      "source": [
        "# generate a random generator \"key\" that is used to initialize the net parameters\n",
        "key = jax.random.PRNGKey(0)\n",
        "net = SimpleCNN(n_filters=[32,64, 128], n_class = 10)\n",
        "\n",
        "# to initialize the network, one needs to propagate some data through it\n",
        "# and provide with a RNG key\n",
        "key, key_ = jax.random.split(key)\n",
        "batch_size = 32\n",
        "batch_of_images = X_train[:batch_size,:,:,:]\n",
        "params_init = net.init(key_, batch_of_images)"
      ],
      "metadata": {
        "id": "C8s2pKpAH42y"
      },
      "id": "C8s2pKpAH42y",
      "execution_count": null,
      "outputs": []
    },
    {
      "cell_type": "code",
      "source": [
        "# let us randomize the weights again to start from scratch\n",
        "niter = 1000\n",
        "params = copy.deepcopy(params_init)\n",
        "\n",
        "#define the ADAM optimizer\n",
        "# exponential_decay_scheduler = optax.exponential_decay(init_value=0.01, transition_steps=niter,\n",
        "#                                                       decay_rate=0.99, transition_begin=int(niter*0.25),\n",
        "#                                                       staircase=False)\n",
        "# optimizer = optax.adamw(learning_rate=1e-2,\n",
        "#                         weight_decay=1e-5,)\n",
        "\n",
        "# optimizer = optax.adam(learning_rate=0.01, eps=0.001)\n",
        "\n",
        "optimizer = optax.chain(\n",
        "    optax.adamw(learning_rate=1e-2, weight_decay=1e-5),\n",
        "    optax.scale_by_schedule(\n",
        "        step_size_fn=optax.exponential_decay(\n",
        "            init_value=1,\n",
        "            decay_rate=0.95,\n",
        "            transition_steps=niter,\n",
        "            transition_begin=int(niter*0.25)\n",
        "        )\n",
        "    )\n",
        ")"
      ],
      "metadata": {
        "id": "zQtLKLvl2_l5"
      },
      "id": "zQtLKLvl2_l5",
      "execution_count": null,
      "outputs": []
    },
    {
      "cell_type": "code",
      "source": [
        "# put data to GPU\n",
        "X_train = jax.device_put(X_train)\n",
        "X_val = jax.device_put(X_val)"
      ],
      "metadata": {
        "id": "FQOMAd029Ogs"
      },
      "id": "FQOMAd029Ogs",
      "execution_count": null,
      "outputs": []
    },
    {
      "cell_type": "markdown",
      "source": [
        "## Training loop"
      ],
      "metadata": {
        "id": "oXyb1qRhWdIb"
      },
      "id": "oXyb1qRhWdIb"
    },
    {
      "cell_type": "code",
      "source": [
        "#generate the initial state of the optimizer\n",
        "opt_state = optimizer.init(params)\n",
        "batch_size = 512 \n",
        "sub_rngs = jax.random.split(key_, batch_size)\n",
        "\n",
        "# save the train loss\n",
        "loss_train_history = []\n",
        "loss_train_history_time = []\n",
        "\n",
        "# save the validation loss\n",
        "loss_val_history = []\n",
        "loss_val_history_time = []\n",
        "\n",
        "# save accuracies\n",
        "accuracies_history = []\n",
        "accuracies_history_time = []\n",
        "\n",
        "time_start = time.time()\n",
        "\n",
        "for k in tqdm( range(niter) ):\n",
        "  # create a batch\n",
        "  indices = jnp.arange(k*batch_size, (k+1)*batch_size) % len(X_train)\n",
        "  X_batch = X_train[indices]\n",
        "  Y_batch = Y_train[indices]\n",
        "\n",
        "  X_batch = vec_transform2(sub_rngs, X_batch)\n",
        "\n",
        "  # compute loss and gradients\n",
        "  loss_train, grads = loss_value_and_grad(params, X_batch, Y_batch)\n",
        "  time_elapsed = time.time() - time_start\n",
        "\n",
        "  if k % 50 == 0:\n",
        "    # compute the validation accuracy on a batch only (to save a bit of time)\n",
        "    N = 512 \n",
        "    acc_val = 100*accuracy(params, X_val[:N], Y_val[:N])\n",
        "    acc_train = 100*accuracy(params, X_train[:N], Y_train[:N])\n",
        "    nb_epoch = float(k+1)*batch_size / len(X_train)\n",
        "    accuracies_history.append([acc_train, acc_val])\n",
        "    accuracies_history_time.append(time_elapsed)\n",
        "\n",
        "    # also compute test loss\n",
        "    loss_val = loss(params, X_val[:N], Y_val[:N])\n",
        "    loss_val_history.append( loss_val )\n",
        "    loss_val_history_time.append( time_elapsed )\n",
        "\n",
        "    print(f\"Time:{time_elapsed:3.1f}sec \\t Epoch:{nb_epoch:2.1f} \\t Loss [{loss_train:2.2f} / {loss_val:2.2f}] \\t Accuracy Train/Valid: [{acc_train:2.2f}% / {acc_val:2.2f}%]\")\n",
        "\n",
        "  # generate the \"update mechanism\" and update the state of the optimizer\n",
        "  updates, opt_state = optimizer.update(grads, opt_state, params)\n",
        "  # apply the \"update mechanism\"\n",
        "  params = optax.apply_updates(params, updates)\n",
        "\n",
        "  #opt_state, params = do_update(grads, opt_state, params)\n",
        "    \n",
        "  # save the loss\n",
        "  loss_train_history_time.append( time_elapsed )\n",
        "  loss_train_history.append( loss_train.item() )"
      ],
      "metadata": {
        "colab": {
          "base_uri": "https://localhost:8080/",
          "height": 406,
          "referenced_widgets": [
            "35482ee4b8dc42ae9cc2a1e3c4e09071",
            "a0f92aec3cca478f946ec02c3caa088a",
            "3f2b97a5da424e0d94005a94de29adbb",
            "beaeebe8eefb417296d4148891799424",
            "6cb0e72508f2459c988c8ebf1591d727",
            "3f34b0ad8c024f1bb544eddc9e110cf2",
            "c61bbd2c3fca4769888657e67e973cd5",
            "17270ab6227b4512995353369c77c46d",
            "fae6174b52da4249b5a6d8b18d8e2631",
            "b8514d9f177f4254bd977520fd700dba",
            "8ac9079c9d434cf1a0a4e1a82c37076c"
          ]
        },
        "id": "cY4B774F5ys5",
        "outputId": "a2749cff-c534-4eb2-9cef-0ba3ffd4bcc0"
      },
      "id": "cY4B774F5ys5",
      "execution_count": null,
      "outputs": [
        {
          "output_type": "display_data",
          "data": {
            "text/plain": [
              "  0%|          | 0/1000 [00:00<?, ?it/s]"
            ],
            "application/vnd.jupyter.widget-view+json": {
              "version_major": 2,
              "version_minor": 0,
              "model_id": "35482ee4b8dc42ae9cc2a1e3c4e09071"
            }
          },
          "metadata": {}
        },
        {
          "output_type": "stream",
          "name": "stdout",
          "text": [
            "Time:1.5sec \t Epoch:0.1 \t Loss [2.41 / 2.42] \t Accuracy Train/Valid: [8.79% / 11.33%]\n",
            "Time:5.7sec \t Epoch:3.5 \t Loss [1.87 / 1.92] \t Accuracy Train/Valid: [44.73% / 36.13%]\n",
            "Time:8.8sec \t Epoch:7.0 \t Loss [1.41 / 1.67] \t Accuracy Train/Valid: [56.05% / 46.09%]\n",
            "Time:12.4sec \t Epoch:10.4 \t Loss [1.21 / 1.52] \t Accuracy Train/Valid: [65.62% / 50.78%]\n",
            "Time:15.5sec \t Epoch:13.8 \t Loss [1.04 / 1.47] \t Accuracy Train/Valid: [71.29% / 51.17%]\n",
            "Time:18.5sec \t Epoch:17.3 \t Loss [0.85 / 1.46] \t Accuracy Train/Valid: [77.93% / 50.20%]\n",
            "Time:21.6sec \t Epoch:20.7 \t Loss [0.77 / 1.46] \t Accuracy Train/Valid: [84.18% / 51.56%]\n",
            "Time:25.1sec \t Epoch:24.2 \t Loss [0.56 / 1.39] \t Accuracy Train/Valid: [89.65% / 52.15%]\n",
            "Time:28.2sec \t Epoch:27.6 \t Loss [0.55 / 1.42] \t Accuracy Train/Valid: [92.38% / 52.73%]\n",
            "Time:31.3sec \t Epoch:31.1 \t Loss [0.50 / 1.44] \t Accuracy Train/Valid: [92.77% / 52.34%]\n",
            "Time:34.4sec \t Epoch:34.5 \t Loss [0.40 / 1.42] \t Accuracy Train/Valid: [92.97% / 54.30%]\n",
            "Time:37.8sec \t Epoch:37.9 \t Loss [0.37 / 1.42] \t Accuracy Train/Valid: [93.36% / 54.10%]\n",
            "Time:41.1sec \t Epoch:41.4 \t Loss [0.28 / 1.44] \t Accuracy Train/Valid: [96.88% / 51.17%]\n",
            "Time:44.2sec \t Epoch:44.8 \t Loss [0.28 / 1.43] \t Accuracy Train/Valid: [97.07% / 55.66%]\n",
            "Time:47.2sec \t Epoch:48.3 \t Loss [0.18 / 1.45] \t Accuracy Train/Valid: [99.61% / 53.91%]\n",
            "Time:50.5sec \t Epoch:51.7 \t Loss [0.15 / 1.41] \t Accuracy Train/Valid: [99.41% / 56.25%]\n",
            "Time:53.9sec \t Epoch:55.2 \t Loss [0.11 / 1.50] \t Accuracy Train/Valid: [100.00% / 53.32%]\n",
            "Time:57.0sec \t Epoch:58.6 \t Loss [0.11 / 1.50] \t Accuracy Train/Valid: [98.83% / 53.71%]\n",
            "Time:60.0sec \t Epoch:62.0 \t Loss [0.09 / 1.48] \t Accuracy Train/Valid: [100.00% / 55.86%]\n",
            "Time:63.2sec \t Epoch:65.5 \t Loss [0.09 / 1.52] \t Accuracy Train/Valid: [99.80% / 56.05%]\n"
          ]
        }
      ]
    },
    {
      "cell_type": "markdown",
      "source": [
        "## Results"
      ],
      "metadata": {
        "id": "WriwsGURWfCC"
      },
      "id": "WriwsGURWfCC"
    },
    {
      "cell_type": "code",
      "source": [
        "plt.plot(loss_train_history_time, loss_train_history, \"b-\", lw = 3, label=\"train\")\n",
        "plt.plot(loss_val_history_time, loss_val_history, \"r-+\", lw = 3, label=\"validation\")\n",
        "plt.xlabel(\"seconds\", fontsize=20)\n",
        "plt.ylabel(\"loss\", fontsize=20)\n",
        "plt.grid(True)\n",
        "plt.legend()\n"
      ],
      "metadata": {
        "colab": {
          "base_uri": "https://localhost:8080/",
          "height": 306
        },
        "id": "piAB-CzY7Vn5",
        "outputId": "5e7f6ebf-4c28-48d9-c538-ae934424d004"
      },
      "id": "piAB-CzY7Vn5",
      "execution_count": null,
      "outputs": [
        {
          "output_type": "execute_result",
          "data": {
            "text/plain": [
              "<matplotlib.legend.Legend at 0x7f7ae056c910>"
            ]
          },
          "metadata": {},
          "execution_count": 121
        },
        {
          "output_type": "display_data",
          "data": {
            "text/plain": [
              "<Figure size 432x288 with 1 Axes>"
            ],
            "image/png": "[encoded data removed]"
          },
          "metadata": {
            "needs_background": "light"
          }
        }
      ]
    },
    {
      "cell_type": "code",
      "source": [
        "accuracies_history = np.array(accuracies_history)\n",
        "plt.plot(accuracies_history_time, accuracies_history[:,0], \"b-\", lw = 3, label=\"train\")\n",
        "plt.plot(accuracies_history_time, accuracies_history[:,1], \"r-+\", lw = 3, label=\"validation\")\n",
        "plt.xlabel(\"seconds\", fontsize=20)\n",
        "plt.ylabel(\"accuracy\", fontsize=20)\n",
        "plt.ylim(0,100)\n",
        "plt.grid(True)\n",
        "plt.legend()"
      ],
      "metadata": {
        "colab": {
          "base_uri": "https://localhost:8080/",
          "height": 310
        },
        "id": "nXcOlMrxVCCT",
        "outputId": "30cddbe9-2956-4430-af21-329895509f4a"
      },
      "id": "nXcOlMrxVCCT",
      "execution_count": null,
      "outputs": [
        {
          "output_type": "execute_result",
          "data": {
            "text/plain": [
              "<matplotlib.legend.Legend at 0x7f7ae041d220>"
            ]
          },
          "metadata": {},
          "execution_count": 122
        },
        {
          "output_type": "display_data",
          "data": {
            "text/plain": [
              "<Figure size 432x288 with 1 Axes>"
            ],
            "image/png": "[encoded data removed]"
          },
          "metadata": {
            "needs_background": "light"
          }
        }
      ]
    },
    {
      "cell_type": "markdown",
      "source": [
        "## Test Accuracy\n",
        "Note we have at no point used the test-set previously."
      ],
      "metadata": {
        "id": "ugMZ4XE72-eX"
      },
      "id": "ugMZ4XE72-eX"
    },
    {
      "cell_type": "code",
      "source": [
        "# final test accuracy\n",
        "pred_test = []\n",
        "n_forward_pass = len(X_test) // batch_size\n",
        "for k in tqdm(range(n_forward_pass)):\n",
        "  pred_test.append( prediction_class(params, X_test[k*batch_size:(k+1)*batch_size]) )\n",
        "# final forward pass\n",
        "pred_test.append( prediction_class(params, X_test[n_forward_pass*batch_size:]) )\n",
        "\n",
        "pred_test = np.concatenate(pred_test)\n",
        "acc_test = 100*jnp.mean(pred_test == Y_test)\n",
        "print( f\"Final Test Accuracy: {acc_test:2.1f}%\")"
      ],
      "metadata": {
        "colab": {
          "base_uri": "https://localhost:8080/",
          "height": 67,
          "referenced_widgets": [
            "b13e5af5a608499192e594d50c6bb7c1",
            "cc919fb9892f41a08e3b8a5ccf89228a",
            "42d5111f2e8e4544b44e08d3639dde07",
            "b4b1e59f032d4f35950b6354433af227",
            "b211c4cce7f74416b46755a471adac0c",
            "8cf43834c8f14e7b99de998b6257edae",
            "7760d84b2ae4425ebcdb1e2dc59e0d89",
            "c6e6a2c1e9ff4ce2ac8c38359b0b2a8e",
            "5cf4e4c2558b4b8fa98a6e62835f31bf",
            "9a5af18b8d6a4eb0a6473109d9a48e0a",
            "d35ceb84ce6b4ba18de4343065829cc2"
          ]
        },
        "id": "yxoaTX7yZuvL",
        "outputId": "40df3ac5-4737-43c1-bf9e-ee32aba446ab"
      },
      "id": "yxoaTX7yZuvL",
      "execution_count": null,
      "outputs": [
        {
          "output_type": "display_data",
          "data": {
            "text/plain": [
              "  0%|          | 0/7 [00:00<?, ?it/s]"
            ],
            "application/vnd.jupyter.widget-view+json": {
              "version_major": 2,
              "version_minor": 0,
              "model_id": "b13e5af5a608499192e594d50c6bb7c1"
            }
          },
          "metadata": {}
        },
        {
          "output_type": "stream",
          "name": "stdout",
          "text": [
            "Final Test Accuracy: 75.2%\n"
          ]
        }
      ]
    },
    {
      "cell_type": "code",
      "source": [],
      "metadata": {
        "id": "1DNxYP6Wa_rR"
      },
      "id": "1DNxYP6Wa_rR",
      "execution_count": null,
      "outputs": []
    }
  ],
  "metadata": {
    "kernelspec": {
      "display_name": "Python 3 (ipykernel)",
      "language": "python",
      "name": "python3"
    },
    "language_info": {
      "codemirror_mode": {
        "name": "ipython",
        "version": 3
      },
      "file_extension": ".py",
      "mimetype": "text/x-python",
      "name": "python",
      "nbconvert_exporter": "python",
      "pygments_lexer": "ipython3",
      "version": "3.8.12"
    },
    "colab": {
      "provenance": [],
      "toc_visible": true
    },
    "accelerator": "GPU",
    "gpuClass": "standard",
    "widgets": {
      "application/vnd.jupyter.widget-state+json": {
        "35482ee4b8dc42ae9cc2a1e3c4e09071": {
          "model_module": "@jupyter-widgets/controls",
          "model_name": "HBoxModel",
          "model_module_version": "1.5.0",
          "state": {
            "_dom_classes": [],
            "_model_module": "@jupyter-widgets/controls",
            "_model_module_version": "1.5.0",
            "_model_name": "HBoxModel",
            "_view_count": null,
            "_view_module": "@jupyter-widgets/controls",
            "_view_module_version": "1.5.0",
            "_view_name": "HBoxView",
            "box_style": "",
            "children": [
              "IPY_MODEL_a0f92aec3cca478f946ec02c3caa088a",
              "IPY_MODEL_3f2b97a5da424e0d94005a94de29adbb",
              "IPY_MODEL_beaeebe8eefb417296d4148891799424"
            ],
            "layout": "IPY_MODEL_6cb0e72508f2459c988c8ebf1591d727"
          }
        },
        "a0f92aec3cca478f946ec02c3caa088a": {
          "model_module": "@jupyter-widgets/controls",
          "model_name": "HTMLModel",
          "model_module_version": "1.5.0",
          "state": {
            "_dom_classes": [],
            "_model_module": "@jupyter-widgets/controls",
            "_model_module_version": "1.5.0",
            "_model_name": "HTMLModel",
            "_view_count": null,
            "_view_module": "@jupyter-widgets/controls",
            "_view_module_version": "1.5.0",
            "_view_name": "HTMLView",
            "description": "",
            "description_tooltip": null,
            "layout": "IPY_MODEL_3f34b0ad8c024f1bb544eddc9e110cf2",
            "placeholder": "​",
            "style": "IPY_MODEL_c61bbd2c3fca4769888657e67e973cd5",
            "value": "100%"
          }
        },
        "3f2b97a5da424e0d94005a94de29adbb": {
          "model_module": "@jupyter-widgets/controls",
          "model_name": "FloatProgressModel",
          "model_module_version": "1.5.0",
          "state": {
            "_dom_classes": [],
            "_model_module": "@jupyter-widgets/controls",
            "_model_module_version": "1.5.0",
            "_model_name": "FloatProgressModel",
            "_view_count": null,
            "_view_module": "@jupyter-widgets/controls",
            "_view_module_version": "1.5.0",
            "_view_name": "ProgressView",
            "bar_style": "success",
            "description": "",
            "description_tooltip": null,
            "layout": "IPY_MODEL_17270ab6227b4512995353369c77c46d",
            "max": 1000,
            "min": 0,
            "orientation": "horizontal",
            "style": "IPY_MODEL_fae6174b52da4249b5a6d8b18d8e2631",
            "value": 1000
          }
        },
        "beaeebe8eefb417296d4148891799424": {
          "model_module": "@jupyter-widgets/controls",
          "model_name": "HTMLModel",
          "model_module_version": "1.5.0",
          "state": {
            "_dom_classes": [],
            "_model_module": "@jupyter-widgets/controls",
            "_model_module_version": "1.5.0",
            "_model_name": "HTMLModel",
            "_view_count": null,
            "_view_module": "@jupyter-widgets/controls",
            "_view_module_version": "1.5.0",
            "_view_name": "HTMLView",
            "description": "",
            "description_tooltip": null,
            "layout": "IPY_MODEL_b8514d9f177f4254bd977520fd700dba",
            "placeholder": "​",
            "style": "IPY_MODEL_8ac9079c9d434cf1a0a4e1a82c37076c",
            "value": " 1000/1000 [01:06&lt;00:00, 15.92it/s]"
          }
        },
        "6cb0e72508f2459c988c8ebf1591d727": {
          "model_module": "@jupyter-widgets/base",
          "model_name": "LayoutModel",
          "model_module_version": "1.2.0",
          "state": {
            "_model_module": "@jupyter-widgets/base",
            "_model_module_version": "1.2.0",
            "_model_name": "LayoutModel",
            "_view_count": null,
            "_view_module": "@jupyter-widgets/base",
            "_view_module_version": "1.2.0",
            "_view_name": "LayoutView",
            "align_content": null,
            "align_items": null,
            "align_self": null,
            "border": null,
            "bottom": null,
            "display": null,
            "flex": null,
            "flex_flow": null,
            "grid_area": null,
            "grid_auto_columns": null,
            "grid_auto_flow": null,
            "grid_auto_rows": null,
            "grid_column": null,
            "grid_gap": null,
            "grid_row": null,
            "grid_template_areas": null,
            "grid_template_columns": null,
            "grid_template_rows": null,
            "height": null,
            "justify_content": null,
            "justify_items": null,
            "left": null,
            "margin": null,
            "max_height": null,
            "max_width": null,
            "min_height": null,
            "min_width": null,
            "object_fit": null,
            "object_position": null,
            "order": null,
            "overflow": null,
            "overflow_x": null,
            "overflow_y": null,
            "padding": null,
            "right": null,
            "top": null,
            "visibility": null,
            "width": null
          }
        },
        "3f34b0ad8c024f1bb544eddc9e110cf2": {
          "model_module": "@jupyter-widgets/base",
          "model_name": "LayoutModel",
          "model_module_version": "1.2.0",
          "state": {
            "_model_module": "@jupyter-widgets/base",
            "_model_module_version": "1.2.0",
            "_model_name": "LayoutModel",
            "_view_count": null,
            "_view_module": "@jupyter-widgets/base",
            "_view_module_version": "1.2.0",
            "_view_name": "LayoutView",
            "align_content": null,
            "align_items": null,
            "align_self": null,
            "border": null,
            "bottom": null,
            "display": null,
            "flex": null,
            "flex_flow": null,
            "grid_area": null,
            "grid_auto_columns": null,
            "grid_auto_flow": null,
            "grid_auto_rows": null,
            "grid_column": null,
            "grid_gap": null,
            "grid_row": null,
            "grid_template_areas": null,
            "grid_template_columns": null,
            "grid_template_rows": null,
            "height": null,
            "justify_content": null,
            "justify_items": null,
            "left": null,
            "margin": null,
            "max_height": null,
            "max_width": null,
            "min_height": null,
            "min_width": null,
            "object_fit": null,
            "object_position": null,
            "order": null,
            "overflow": null,
            "overflow_x": null,
            "overflow_y": null,
            "padding": null,
            "right": null,
            "top": null,
            "visibility": null,
            "width": null
          }
        },
        "c61bbd2c3fca4769888657e67e973cd5": {
          "model_module": "@jupyter-widgets/controls",
          "model_name": "DescriptionStyleModel",
          "model_module_version": "1.5.0",
          "state": {
            "_model_module": "@jupyter-widgets/controls",
            "_model_module_version": "1.5.0",
            "_model_name": "DescriptionStyleModel",
            "_view_count": null,
            "_view_module": "@jupyter-widgets/base",
            "_view_module_version": "1.2.0",
            "_view_name": "StyleView",
            "description_width": ""
          }
        },
        "17270ab6227b4512995353369c77c46d": {
          "model_module": "@jupyter-widgets/base",
          "model_name": "LayoutModel",
          "model_module_version": "1.2.0",
          "state": {
            "_model_module": "@jupyter-widgets/base",
            "_model_module_version": "1.2.0",
            "_model_name": "LayoutModel",
            "_view_count": null,
            "_view_module": "@jupyter-widgets/base",
            "_view_module_version": "1.2.0",
            "_view_name": "LayoutView",
            "align_content": null,
            "align_items": null,
            "align_self": null,
            "border": null,
            "bottom": null,
            "display": null,
            "flex": null,
            "flex_flow": null,
            "grid_area": null,
            "grid_auto_columns": null,
            "grid_auto_flow": null,
            "grid_auto_rows": null,
            "grid_column": null,
            "grid_gap": null,
            "grid_row": null,
            "grid_template_areas": null,
            "grid_template_columns": null,
            "grid_template_rows": null,
            "height": null,
            "justify_content": null,
            "justify_items": null,
            "left": null,
            "margin": null,
            "max_height": null,
            "max_width": null,
            "min_height": null,
            "min_width": null,
            "object_fit": null,
            "object_position": null,
            "order": null,
            "overflow": null,
            "overflow_x": null,
            "overflow_y": null,
            "padding": null,
            "right": null,
            "top": null,
            "visibility": null,
            "width": null
          }
        },
        "fae6174b52da4249b5a6d8b18d8e2631": {
          "model_module": "@jupyter-widgets/controls",
          "model_name": "ProgressStyleModel",
          "model_module_version": "1.5.0",
          "state": {
            "_model_module": "@jupyter-widgets/controls",
            "_model_module_version": "1.5.0",
            "_model_name": "ProgressStyleModel",
            "_view_count": null,
            "_view_module": "@jupyter-widgets/base",
            "_view_module_version": "1.2.0",
            "_view_name": "StyleView",
            "bar_color": null,
            "description_width": ""
          }
        },
        "b8514d9f177f4254bd977520fd700dba": {
          "model_module": "@jupyter-widgets/base",
          "model_name": "LayoutModel",
          "model_module_version": "1.2.0",
          "state": {
            "_model_module": "@jupyter-widgets/base",
            "_model_module_version": "1.2.0",
            "_model_name": "LayoutModel",
            "_view_count": null,
            "_view_module": "@jupyter-widgets/base",
            "_view_module_version": "1.2.0",
            "_view_name": "LayoutView",
            "align_content": null,
            "align_items": null,
            "align_self": null,
            "border": null,
            "bottom": null,
            "display": null,
            "flex": null,
            "flex_flow": null,
            "grid_area": null,
            "grid_auto_columns": null,
            "grid_auto_flow": null,
            "grid_auto_rows": null,
            "grid_column": null,
            "grid_gap": null,
            "grid_row": null,
            "grid_template_areas": null,
            "grid_template_columns": null,
            "grid_template_rows": null,
            "height": null,
            "justify_content": null,
            "justify_items": null,
            "left": null,
            "margin": null,
            "max_height": null,
            "max_width": null,
            "min_height": null,
            "min_width": null,
            "object_fit": null,
            "object_position": null,
            "order": null,
            "overflow": null,
            "overflow_x": null,
            "overflow_y": null,
            "padding": null,
            "right": null,
            "top": null,
            "visibility": null,
            "width": null
          }
        },
        "8ac9079c9d434cf1a0a4e1a82c37076c": {
          "model_module": "@jupyter-widgets/controls",
          "model_name": "DescriptionStyleModel",
          "model_module_version": "1.5.0",
          "state": {
            "_model_module": "@jupyter-widgets/controls",
            "_model_module_version": "1.5.0",
            "_model_name": "DescriptionStyleModel",
            "_view_count": null,
            "_view_module": "@jupyter-widgets/base",
            "_view_module_version": "1.2.0",
            "_view_name": "StyleView",
            "description_width": ""
          }
        },
        "b13e5af5a608499192e594d50c6bb7c1": {
          "model_module": "@jupyter-widgets/controls",
          "model_name": "HBoxModel",
          "model_module_version": "1.5.0",
          "state": {
            "_dom_classes": [],
            "_model_module": "@jupyter-widgets/controls",
            "_model_module_version": "1.5.0",
            "_model_name": "HBoxModel",
            "_view_count": null,
            "_view_module": "@jupyter-widgets/controls",
            "_view_module_version": "1.5.0",
            "_view_name": "HBoxView",
            "box_style": "",
            "children": [
              "IPY_MODEL_cc919fb9892f41a08e3b8a5ccf89228a",
              "IPY_MODEL_42d5111f2e8e4544b44e08d3639dde07",
              "IPY_MODEL_b4b1e59f032d4f35950b6354433af227"
            ],
            "layout": "IPY_MODEL_b211c4cce7f74416b46755a471adac0c"
          }
        },
        "cc919fb9892f41a08e3b8a5ccf89228a": {
          "model_module": "@jupyter-widgets/controls",
          "model_name": "HTMLModel",
          "model_module_version": "1.5.0",
          "state": {
            "_dom_classes": [],
            "_model_module": "@jupyter-widgets/controls",
            "_model_module_version": "1.5.0",
            "_model_name": "HTMLModel",
            "_view_count": null,
            "_view_module": "@jupyter-widgets/controls",
            "_view_module_version": "1.5.0",
            "_view_name": "HTMLView",
            "description": "",
            "description_tooltip": null,
            "layout": "IPY_MODEL_8cf43834c8f14e7b99de998b6257edae",
            "placeholder": "​",
            "style": "IPY_MODEL_7760d84b2ae4425ebcdb1e2dc59e0d89",
            "value": "100%"
          }
        },
        "42d5111f2e8e4544b44e08d3639dde07": {
          "model_module": "@jupyter-widgets/controls",
          "model_name": "FloatProgressModel",
          "model_module_version": "1.5.0",
          "state": {
            "_dom_classes": [],
            "_model_module": "@jupyter-widgets/controls",
            "_model_module_version": "1.5.0",
            "_model_name": "FloatProgressModel",
            "_view_count": null,
            "_view_module": "@jupyter-widgets/controls",
            "_view_module_version": "1.5.0",
            "_view_name": "ProgressView",
            "bar_style": "success",
            "description": "",
            "description_tooltip": null,
            "layout": "IPY_MODEL_c6e6a2c1e9ff4ce2ac8c38359b0b2a8e",
            "max": 7,
            "min": 0,
            "orientation": "horizontal",
            "style": "IPY_MODEL_5cf4e4c2558b4b8fa98a6e62835f31bf",
            "value": 7
          }
        },
        "b4b1e59f032d4f35950b6354433af227": {
          "model_module": "@jupyter-widgets/controls",
          "model_name": "HTMLModel",
          "model_module_version": "1.5.0",
          "state": {
            "_dom_classes": [],
            "_model_module": "@jupyter-widgets/controls",
            "_model_module_version": "1.5.0",
            "_model_name": "HTMLModel",
            "_view_count": null,
            "_view_module": "@jupyter-widgets/controls",
            "_view_module_version": "1.5.0",
            "_view_name": "HTMLView",
            "description": "",
            "description_tooltip": null,
            "layout": "IPY_MODEL_9a5af18b8d6a4eb0a6473109d9a48e0a",
            "placeholder": "​",
            "style": "IPY_MODEL_d35ceb84ce6b4ba18de4343065829cc2",
            "value": " 7/7 [00:00&lt;00:00, 36.34it/s]"
          }
        },
        "b211c4cce7f74416b46755a471adac0c": {
          "model_module": "@jupyter-widgets/base",
          "model_name": "LayoutModel",
          "model_module_version": "1.2.0",
          "state": {
            "_model_module": "@jupyter-widgets/base",
            "_model_module_version": "1.2.0",
            "_model_name": "LayoutModel",
            "_view_count": null,
            "_view_module": "@jupyter-widgets/base",
            "_view_module_version": "1.2.0",
            "_view_name": "LayoutView",
            "align_content": null,
            "align_items": null,
            "align_self": null,
            "border": null,
            "bottom": null,
            "display": null,
            "flex": null,
            "flex_flow": null,
            "grid_area": null,
            "grid_auto_columns": null,
            "grid_auto_flow": null,
            "grid_auto_rows": null,
            "grid_column": null,
            "grid_gap": null,
            "grid_row": null,
            "grid_template_areas": null,
            "grid_template_columns": null,
            "grid_template_rows": null,
            "height": null,
            "justify_content": null,
            "justify_items": null,
            "left": null,
            "margin": null,
            "max_height": null,
            "max_width": null,
            "min_height": null,
            "min_width": null,
            "object_fit": null,
            "object_position": null,
            "order": null,
            "overflow": null,
            "overflow_x": null,
            "overflow_y": null,
            "padding": null,
            "right": null,
            "top": null,
            "visibility": null,
            "width": null
          }
        },
        "8cf43834c8f14e7b99de998b6257edae": {
          "model_module": "@jupyter-widgets/base",
          "model_name": "LayoutModel",
          "model_module_version": "1.2.0",
          "state": {
            "_model_module": "@jupyter-widgets/base",
            "_model_module_version": "1.2.0",
            "_model_name": "LayoutModel",
            "_view_count": null,
            "_view_module": "@jupyter-widgets/base",
            "_view_module_version": "1.2.0",
            "_view_name": "LayoutView",
            "align_content": null,
            "align_items": null,
            "align_self": null,
            "border": null,
            "bottom": null,
            "display": null,
            "flex": null,
            "flex_flow": null,
            "grid_area": null,
            "grid_auto_columns": null,
            "grid_auto_flow": null,
            "grid_auto_rows": null,
            "grid_column": null,
            "grid_gap": null,
            "grid_row": null,
            "grid_template_areas": null,
            "grid_template_columns": null,
            "grid_template_rows": null,
            "height": null,
            "justify_content": null,
            "justify_items": null,
            "left": null,
            "margin": null,
            "max_height": null,
            "max_width": null,
            "min_height": null,
            "min_width": null,
            "object_fit": null,
            "object_position": null,
            "order": null,
            "overflow": null,
            "overflow_x": null,
            "overflow_y": null,
            "padding": null,
            "right": null,
            "top": null,
            "visibility": null,
            "width": null
          }
        },
        "7760d84b2ae4425ebcdb1e2dc59e0d89": {
          "model_module": "@jupyter-widgets/controls",
          "model_name": "DescriptionStyleModel",
          "model_module_version": "1.5.0",
          "state": {
            "_model_module": "@jupyter-widgets/controls",
            "_model_module_version": "1.5.0",
            "_model_name": "DescriptionStyleModel",
            "_view_count": null,
            "_view_module": "@jupyter-widgets/base",
            "_view_module_version": "1.2.0",
            "_view_name": "StyleView",
            "description_width": ""
          }
        },
        "c6e6a2c1e9ff4ce2ac8c38359b0b2a8e": {
          "model_module": "@jupyter-widgets/base",
          "model_name": "LayoutModel",
          "model_module_version": "1.2.0",
          "state": {
            "_model_module": "@jupyter-widgets/base",
            "_model_module_version": "1.2.0",
            "_model_name": "LayoutModel",
            "_view_count": null,
            "_view_module": "@jupyter-widgets/base",
            "_view_module_version": "1.2.0",
            "_view_name": "LayoutView",
            "align_content": null,
            "align_items": null,
            "align_self": null,
            "border": null,
            "bottom": null,
            "display": null,
            "flex": null,
            "flex_flow": null,
            "grid_area": null,
            "grid_auto_columns": null,
            "grid_auto_flow": null,
            "grid_auto_rows": null,
            "grid_column": null,
            "grid_gap": null,
            "grid_row": null,
            "grid_template_areas": null,
            "grid_template_columns": null,
            "grid_template_rows": null,
            "height": null,
            "justify_content": null,
            "justify_items": null,
            "left": null,
            "margin": null,
            "max_height": null,
            "max_width": null,
            "min_height": null,
            "min_width": null,
            "object_fit": null,
            "object_position": null,
            "order": null,
            "overflow": null,
            "overflow_x": null,
            "overflow_y": null,
            "padding": null,
            "right": null,
            "top": null,
            "visibility": null,
            "width": null
          }
        },
        "5cf4e4c2558b4b8fa98a6e62835f31bf": {
          "model_module": "@jupyter-widgets/controls",
          "model_name": "ProgressStyleModel",
          "model_module_version": "1.5.0",
          "state": {
            "_model_module": "@jupyter-widgets/controls",
            "_model_module_version": "1.5.0",
            "_model_name": "ProgressStyleModel",
            "_view_count": null,
            "_view_module": "@jupyter-widgets/base",
            "_view_module_version": "1.2.0",
            "_view_name": "StyleView",
            "bar_color": null,
            "description_width": ""
          }
        },
        "9a5af18b8d6a4eb0a6473109d9a48e0a": {
          "model_module": "@jupyter-widgets/base",
          "model_name": "LayoutModel",
          "model_module_version": "1.2.0",
          "state": {
            "_model_module": "@jupyter-widgets/base",
            "_model_module_version": "1.2.0",
            "_model_name": "LayoutModel",
            "_view_count": null,
            "_view_module": "@jupyter-widgets/base",
            "_view_module_version": "1.2.0",
            "_view_name": "LayoutView",
            "align_content": null,
            "align_items": null,
            "align_self": null,
            "border": null,
            "bottom": null,
            "display": null,
            "flex": null,
            "flex_flow": null,
            "grid_area": null,
            "grid_auto_columns": null,
            "grid_auto_flow": null,
            "grid_auto_rows": null,
            "grid_column": null,
            "grid_gap": null,
            "grid_row": null,
            "grid_template_areas": null,
            "grid_template_columns": null,
            "grid_template_rows": null,
            "height": null,
            "justify_content": null,
            "justify_items": null,
            "left": null,
            "margin": null,
            "max_height": null,
            "max_width": null,
            "min_height": null,
            "min_width": null,
            "object_fit": null,
            "object_position": null,
            "order": null,
            "overflow": null,
            "overflow_x": null,
            "overflow_y": null,
            "padding": null,
            "right": null,
            "top": null,
            "visibility": null,
            "width": null
          }
        },
        "d35ceb84ce6b4ba18de4343065829cc2": {
          "model_module": "@jupyter-widgets/controls",
          "model_name": "DescriptionStyleModel",
          "model_module_version": "1.5.0",
          "state": {
            "_model_module": "@jupyter-widgets/controls",
            "_model_module_version": "1.5.0",
            "_model_name": "DescriptionStyleModel",
            "_view_count": null,
            "_view_module": "@jupyter-widgets/base",
            "_view_module_version": "1.2.0",
            "_view_name": "StyleView",
            "description_width": ""
          }
        }
      }
    }
  },
  "nbformat": 4,
  "nbformat_minor": 5
}