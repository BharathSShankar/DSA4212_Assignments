{
  "cells": [
    {
      "cell_type": "markdown",
      "source": [
        "# Librarires imported"
      ],
      "metadata": {
        "id": "Ug_BugpvHOwU"
      },
      "id": "Ug_BugpvHOwU"
    },
    {
      "cell_type": "code",
      "execution_count": null,
      "id": "7a534f49-955b-4027-847e-fa9268011df8",
      "metadata": {
        "id": "7a534f49-955b-4027-847e-fa9268011df8"
      },
      "outputs": [],
      "source": [
        "import numpy as np\n",
        "## Progress bar\n",
        "from tqdm.auto import tqdm\n",
        "import pylab as plt\n",
        "import copy\n",
        "import time"
      ]
    },
    {
      "cell_type": "code",
      "source": [
        "try:\n",
        "    import augmax\n",
        "except:\n",
        "    !pip install augmax\n",
        "    import augmax"
      ],
      "metadata": {
        "colab": {
          "base_uri": "https://localhost:8080/"
        },
        "id": "UJNYbQrDFq-h",
        "outputId": "68abc47c-c30b-4358-b8e7-5a6a788cddb0"
      },
      "id": "UJNYbQrDFq-h",
      "execution_count": null,
      "outputs": [
        {
          "output_type": "stream",
          "name": "stdout",
          "text": [
            "Looking in indexes: https://pypi.org/simple, https://us-python.pkg.dev/colab-wheels/public/simple/\n",
            "Collecting augmax\n",
            "  Downloading augmax-0.3.1-py3-none-any.whl (21 kB)\n",
            "Collecting einops>=0.3\n",
            "  Downloading einops-0.6.0-py3-none-any.whl (41 kB)\n",
            "\u001b[2K     \u001b[90m━━━━━━━━━━━━━━━━━━━━━━━━━━━━━━━━━━━━━━━━\u001b[0m \u001b[32m41.6/41.6 KB\u001b[0m \u001b[31m4.4 MB/s\u001b[0m eta \u001b[36m0:00:00\u001b[0m\n",
            "\u001b[?25hRequirement already satisfied: jax>=0.1 in /usr/local/lib/python3.9/dist-packages (from augmax) (0.4.6)\n",
            "Requirement already satisfied: opt-einsum in /usr/local/lib/python3.9/dist-packages (from jax>=0.1->augmax) (3.3.0)\n",
            "Requirement already satisfied: scipy>=1.5 in /usr/local/lib/python3.9/dist-packages (from jax>=0.1->augmax) (1.10.1)\n",
            "Requirement already satisfied: numpy>=1.20 in /usr/local/lib/python3.9/dist-packages (from jax>=0.1->augmax) (1.22.4)\n",
            "Installing collected packages: einops, augmax\n",
            "Successfully installed augmax-0.3.1 einops-0.6.0\n"
          ]
        }
      ]
    },
    {
      "cell_type": "code",
      "source": [
        "# load FLAX and install it if not installed already\n",
        "try:\n",
        "    import flax\n",
        "except ModuleNotFoundError: # Install flax if missing\n",
        "    !pip install --quiet flax\n",
        "    import flax\n",
        "\n",
        "import flax\n",
        "from flax import linen as nn"
      ],
      "metadata": {
        "id": "qXfYOBp7WJ2u",
        "colab": {
          "base_uri": "https://localhost:8080/"
        },
        "outputId": "ee094c37-abe7-42f4-819a-f6bbec96895e"
      },
      "id": "qXfYOBp7WJ2u",
      "execution_count": null,
      "outputs": [
        {
          "output_type": "stream",
          "name": "stdout",
          "text": [
            "\u001b[2K     \u001b[90m━━━━━━━━━━━━━━━━━━━━━━━━━━━━━━━━━━━━━━━\u001b[0m \u001b[32m214.2/214.2 KB\u001b[0m \u001b[31m5.5 MB/s\u001b[0m eta \u001b[36m0:00:00\u001b[0m\n",
            "\u001b[2K     \u001b[90m━━━━━━━━━━━━━━━━━━━━━━━━━━━━━━━━━━━━━━━━\u001b[0m \u001b[32m8.4/8.4 MB\u001b[0m \u001b[31m60.4 MB/s\u001b[0m eta \u001b[36m0:00:00\u001b[0m\n",
            "\u001b[2K     \u001b[90m━━━━━━━━━━━━━━━━━━━━━━━━━━━━━━━━━━━━━━\u001b[0m \u001b[32m154.9/154.9 KB\u001b[0m \u001b[31m15.7 MB/s\u001b[0m eta \u001b[36m0:00:00\u001b[0m\n",
            "\u001b[2K     \u001b[90m━━━━━━━━━━━━━━━━━━━━━━━━━━━━━━━━━━━━━━\u001b[0m \u001b[32m238.7/238.7 KB\u001b[0m \u001b[31m13.5 MB/s\u001b[0m eta \u001b[36m0:00:00\u001b[0m\n",
            "\u001b[2K     \u001b[90m━━━━━━━━━━━━━━━━━━━━━━━━━━━━━━━━━━━━━━━━\u001b[0m \u001b[32m76.0/76.0 KB\u001b[0m \u001b[31m7.0 MB/s\u001b[0m eta \u001b[36m0:00:00\u001b[0m\n",
            "\u001b[2K     \u001b[90m━━━━━━━━━━━━━━━━━━━━━━━━━━━━━━━━━━━━━━━━\u001b[0m \u001b[32m84.5/84.5 KB\u001b[0m \u001b[31m6.7 MB/s\u001b[0m eta \u001b[36m0:00:00\u001b[0m\n",
            "\u001b[2K     \u001b[90m━━━━━━━━━━━━━━━━━━━━━━━━━━━━━━━━━━━━━━━━\u001b[0m \u001b[32m1.1/1.1 MB\u001b[0m \u001b[31m43.0 MB/s\u001b[0m eta \u001b[36m0:00:00\u001b[0m\n",
            "\u001b[2K     \u001b[90m━━━━━━━━━━━━━━━━━━━━━━━━━━━━━━━━━━━━━━━━\u001b[0m \u001b[32m87.9/87.9 KB\u001b[0m \u001b[31m2.4 MB/s\u001b[0m eta \u001b[36m0:00:00\u001b[0m\n",
            "\u001b[2K     \u001b[90m━━━━━━━━━━━━━━━━━━━━━━━━━━━━━━━━━━━━━━━━\u001b[0m \u001b[32m1.2/1.2 MB\u001b[0m \u001b[31m61.6 MB/s\u001b[0m eta \u001b[36m0:00:00\u001b[0m\n",
            "\u001b[?25h  Preparing metadata (setup.py) ... \u001b[?25l\u001b[?25hdone\n",
            "  Building wheel for jax (setup.py) ... \u001b[?25l\u001b[?25hdone\n",
            "\u001b[31mERROR: pip's dependency resolver does not currently take into account all the packages that are installed. This behaviour is the source of the following dependency conflicts.\n",
            "ipython 7.9.0 requires jedi>=0.10, which is not installed.\u001b[0m\u001b[31m\n",
            "\u001b[0m"
          ]
        },
        {
          "output_type": "stream",
          "name": "stderr",
          "text": [
            "/usr/local/lib/python3.9/dist-packages/flax/core/frozen_dict.py:169: FutureWarning: jax.tree_util.register_keypaths is deprecated, and will be removed in a future release. Please use `register_pytree_with_keys()` instead.\n",
            "  jax.tree_util.register_keypaths(\n"
          ]
        }
      ]
    },
    {
      "cell_type": "code",
      "source": [
        "import jax\n",
        "import jax.numpy as jnp\n",
        "from typing import Any, Sequence\n",
        "\n",
        "try:\n",
        "    import optax\n",
        "except ModuleNotFoundError: # Install optax if missing\n",
        "    !pip install --quiet optax\n",
        "    import optax"
      ],
      "metadata": {
        "id": "CLXuXw2mWLwL"
      },
      "id": "CLXuXw2mWLwL",
      "execution_count": null,
      "outputs": []
    },
    {
      "cell_type": "markdown",
      "source": [
        "# Connect to Google Drive & Load data"
      ],
      "metadata": {
        "id": "CwmX1u6N0TlR"
      },
      "id": "CwmX1u6N0TlR"
    },
    {
      "cell_type": "code",
      "source": [
        "# mount the Google Drive\n",
        "from google.colab import drive\n",
        "drive.mount(\"/content/drive\")"
      ],
      "metadata": {
        "colab": {
          "base_uri": "https://localhost:8080/"
        },
        "id": "URl6pEbT0ROQ",
        "outputId": "9f2914f5-c8cf-475b-e921-5057f0de1c73"
      },
      "id": "URl6pEbT0ROQ",
      "execution_count": null,
      "outputs": [
        {
          "output_type": "stream",
          "name": "stdout",
          "text": [
            "Mounted at /content/drive\n"
          ]
        }
      ]
    },
    {
      "cell_type": "code",
      "source": [
        "# goto to data folder -- you may need to change this location\n",
        "%cd /content/drive/MyDrive/DSA4212Assignment1/data"
      ],
      "metadata": {
        "colab": {
          "base_uri": "https://localhost:8080/"
        },
        "id": "EH69mPNX0rXr",
        "outputId": "de3a7a47-0b4a-420e-f13c-d65864bbc862"
      },
      "id": "EH69mPNX0rXr",
      "execution_count": null,
      "outputs": [
        {
          "output_type": "stream",
          "name": "stdout",
          "text": [
            "/content/drive/MyDrive/DSA4212Assignment1/data\n"
          ]
        }
      ]
    },
    {
      "cell_type": "code",
      "execution_count": null,
      "id": "8b2efbfc-d4e6-41c7-89cd-a7127c9f1538",
      "metadata": {
        "colab": {
          "base_uri": "https://localhost:8080/"
        },
        "id": "8b2efbfc-d4e6-41c7-89cd-a7127c9f1538",
        "outputId": "9e91e07f-7b5b-453b-85a5-a35865917e9a"
      },
      "outputs": [
        {
          "output_type": "stream",
          "name": "stdout",
          "text": [
            "Img Shape: 128x128x3\n"
          ]
        }
      ],
      "source": [
        "class_names=[\"fish\", \"dog\", \"device\", \"chainsaw\", \"church\", \"horn\", \"truck\", \"petrol\", \"golf\", \"parachute\"]\n",
        "\n",
        "# load data -- be patient, does take a few secs\n",
        "data_train_all = np.load(\"assignment_1_train.npz\")\n",
        "data_test = np.load(\"assignment_1_test.npz\")\n",
        "\n",
        "X_train_all = data_train_all[\"img\"].astype(np.float32) / 255.   # set pixel intensities to [0,1]\n",
        "X_test = data_test[\"img\"].astype(np.float32) / 255.\n",
        "Y_train_all = data_train_all[\"label\"].astype(int)\n",
        "Y_test = data_test[\"label\"].astype(int)\n",
        "\n",
        "_,H,W,C = X_train_all.shape\n",
        "print(f\"Img Shape: {H}x{W}x{C}\")"
      ]
    },
    {
      "cell_type": "code",
      "source": [
        "# shuffle the train set\n",
        "indices_shuffled = np.arange(len(X_train_all))\n",
        "np.random.shuffle(indices_shuffled)\n",
        "X_train_all = X_train_all[indices_shuffled]\n",
        "Y_train_all = Y_train_all[indices_shuffled]\n",
        "\n",
        "# shuffle the validation set\n",
        "indices_shuffled = np.arange(len(X_test))\n",
        "np.random.shuffle(indices_shuffled)\n",
        "X_test = X_test[indices_shuffled]\n",
        "Y_test = Y_test[indices_shuffled]"
      ],
      "metadata": {
        "id": "12Px5nZG4LEU"
      },
      "id": "12Px5nZG4LEU",
      "execution_count": null,
      "outputs": []
    },
    {
      "cell_type": "code",
      "execution_count": null,
      "id": "74b46f91-a59b-46c3-96d1-f1febdb7a876",
      "metadata": {
        "colab": {
          "base_uri": "https://localhost:8080/"
        },
        "id": "74b46f91-a59b-46c3-96d1-f1febdb7a876",
        "outputId": "6841dfbc-837f-4192-9779-e103f52c657a"
      },
      "outputs": [
        {
          "output_type": "stream",
          "name": "stdout",
          "text": [
            "Training Set Size: 1.70 Go\n",
            "Validaton Set Size: 0.71 Go\n"
          ]
        }
      ],
      "source": [
        "sz_train = X_train_all.size * X_train_all.itemsize / 2.**30\n",
        "sz_val = X_test.size * X_test.itemsize / 2.**30\n",
        "\n",
        "print(f\"Training Set Size: {sz_train:2.2f} Go\")\n",
        "print(f\"Validaton Set Size: {sz_val:2.2f} Go\")"
      ]
    },
    {
      "cell_type": "markdown",
      "source": [
        "# Split Train / Validation / Test\n",
        "\n",
        "The test set can only be used for the final evaluation of the model: one cannot use the test set when tuning the models. Consequently, we are going to split `X_train_all` into a train-set and a validation-set."
      ],
      "metadata": {
        "id": "CxtPWBv9zCdv"
      },
      "id": "CxtPWBv9zCdv"
    },
    {
      "cell_type": "code",
      "source": [
        "len_train_all = len(X_train_all)\n",
        "len_train = int(0.8 * len_train_all)\n",
        "len_val = len_train_all - len_train\n",
        "len_tets = len(X_test)\n",
        "\n",
        "X_train = X_train_all[:len_train]\n",
        "Y_train = Y_train_all[:len_train]\n",
        "\n",
        "X_val = X_train_all[len_train:]\n",
        "Y_val = Y_train_all[len_train:]"
      ],
      "metadata": {
        "id": "yZelycNpzGc_"
      },
      "id": "yZelycNpzGc_",
      "execution_count": null,
      "outputs": []
    },
    {
      "cell_type": "markdown",
      "source": [
        "# Helper functions"
      ],
      "metadata": {
        "id": "diSqreByWSu8"
      },
      "id": "diSqreByWSu8"
    },
    {
      "cell_type": "code",
      "source": [
        "transform = augmax.Chain(\n",
        "    augmax.Normalize(),\n",
        ")\n",
        "\n",
        "transform2 = augmax.Chain(\n",
        "    # augmax.Rotate(),\n",
        "    #augmax.RandomCrop(118, 118),\n",
        "    # augmax.VerticalFlip(),\n",
        "    augmax.HorizontalFlip(),\n",
        ")\n",
        "\n",
        "vec_transform1 = jax.jit(jax.vmap(transform))\n",
        "vec_transform2 = jax.jit(jax.vmap(transform2))"
      ],
      "metadata": {
        "id": "6KIiDN_XFwi3"
      },
      "id": "6KIiDN_XFwi3",
      "execution_count": null,
      "outputs": []
    },
    {
      "cell_type": "code",
      "source": [
        "@jax.jit\n",
        "def loss(params, x, y):\n",
        "  \"\"\" cross-entropy loss\n",
        "  inputs:\n",
        "  ======\n",
        "   params: neural network weights\n",
        "   x: (B,H,W,3) -- batch of images\n",
        "   y: (B) -- labels\n",
        "  \"\"\"\n",
        "  n_class = 10\n",
        "\n",
        "  # compute Cross-Entropy\n",
        "  pred = net.apply(params, x)\n",
        "  y_hot = jax.nn.one_hot(y, n_class)\n",
        "  CEs = -jnp.sum(y_hot * pred, axis=1)\n",
        "  return jnp.mean(CEs)\n",
        "\n",
        "# generate the gradient function\n",
        "loss_value_and_grad = jax.jit( jax.value_and_grad(loss) )\n",
        "\n",
        "@jax.jit\n",
        "def prediction_class(params, x):\n",
        "  \"\"\" make a prediction \"\"\"\n",
        "  pred = net.apply(params, x)\n",
        "  pred_class = jnp.argmax(pred, axis=1)\n",
        "  return pred_class\n",
        "\n",
        "@jax.jit\n",
        "def accuracy(params, x, y):\n",
        "  \"\"\"\n",
        "  compute the accuracy on a batch of images\n",
        "\n",
        "  inputs:\n",
        "  ======\n",
        "   params: neural network weights\n",
        "   x: (B,H,W,3) -- batch of images\n",
        "   y: (B) -- labels\n",
        "  \"\"\"\n",
        "  n_class = 10\n",
        "\n",
        "  # compute Cross-Entropy\n",
        "  pred_class = prediction_class(params, x)\n",
        "  return jnp.mean(pred_class == y)\n",
        "\n",
        "# generate the gradient function\n",
        "loss_value_and_grad = jax.jit( jax.value_and_grad(loss) )"
      ],
      "metadata": {
        "id": "C-mpMzISWUT7"
      },
      "id": "C-mpMzISWUT7",
      "execution_count": null,
      "outputs": []
    },
    {
      "cell_type": "markdown",
      "source": [
        "# Model"
      ],
      "metadata": {
        "id": "u3Zn2CyuWPHI"
      },
      "id": "u3Zn2CyuWPHI"
    },
    {
      "cell_type": "code",
      "execution_count": null,
      "id": "4520ac10-c1a0-4387-8b73-6869529640d1",
      "metadata": {
        "id": "4520ac10-c1a0-4387-8b73-6869529640d1"
      },
      "outputs": [],
      "source": [
        "class LayerNorm(nn.Module):\n",
        "    \"\"\"\n",
        "    input:\n",
        "    ======\n",
        "     x: tensor with D channels of dimension (B,H,W,D)\n",
        "     \n",
        "    output:\n",
        "    ======\n",
        "     x_normalized: tensor with D channels of dimension (B,H,W,D)\n",
        "     \n",
        "     \n",
        "    Description:\n",
        "    ===========\n",
        "    for each each element `i` and each dimension `d`,\n",
        "    normalize the 2D array x[i,:,:,d] by substracting its mean and divide by its standard deviation\n",
        "       x_normalized[i,:,:,d] = (x[i,:,:,d] - mean) / stdev\n",
        "    \"\"\"\n",
        "    @nn.compact\n",
        "    def __call__(self, inputs):\n",
        "        eps = 10**-3\n",
        "        mean = jnp.expand_dims(jnp.mean(inputs, axis=(1,2)), axis=(1,2))\n",
        "        std = jnp.expand_dims(jnp.std(inputs, axis=(1,2)), axis=(1,2))\n",
        "        return (inputs - mean) / (eps + std)\n",
        "\n",
        "class SimpleCNN(nn.Module):\n",
        "    \"\"\" a simple convolutional neural network \"\"\"\n",
        "    n_filters: Sequence[int]  # sequence -- number of CNN filters in each layer\n",
        "    n_class: int              # number of possible classes\n",
        "    \n",
        "    @nn.compact\n",
        "    def __call__(self, x):\n",
        "        \"\"\"\n",
        "        inputs:\n",
        "        ======\n",
        "         inputs: batch of images of dimension (X,H,W,3)\n",
        "\n",
        "        outputs:\n",
        "        ======\n",
        "         probas: predictive probability vector\n",
        "        \"\"\"\n",
        "        \n",
        "        # convolutional layers + normalization\n",
        "        for i, feat_dim in enumerate(self.n_filters):\n",
        "          x = nn.Conv(features=feat_dim, kernel_size=(3,3), strides = 2, padding='SAME', name=f'layers_{i}_1')(x)\n",
        "          x = LayerNorm()(x)\n",
        "          x = nn.max_pool(x, window_shape = (2, 2), strides = (2,2))\n",
        "          x = nn.elu( x)\n",
        "            \n",
        "        # pooling -- average across the dimension (1,2)\n",
        "        x =  x.mean(axis=(1,2))\n",
        "        \n",
        "        # last dense layer\n",
        "        x = nn.Dense(self.n_class)(x)\n",
        "        \n",
        "        #convert to proba\n",
        "        probas = nn.log_softmax(x)\n",
        "        return probas"
      ]
    },
    {
      "cell_type": "markdown",
      "source": [
        "# Training and initalising the model"
      ],
      "metadata": {
        "id": "exq5TMkXWjD4"
      },
      "id": "exq5TMkXWjD4"
    },
    {
      "cell_type": "markdown",
      "source": [
        "## Initalisation"
      ],
      "metadata": {
        "id": "pWm3vVeWXEGZ"
      },
      "id": "pWm3vVeWXEGZ"
    },
    {
      "cell_type": "code",
      "execution_count": null,
      "id": "839c5a48-464a-4897-960c-28996963d8a6",
      "metadata": {
        "colab": {
          "base_uri": "https://localhost:8080/"
        },
        "id": "839c5a48-464a-4897-960c-28996963d8a6",
        "outputId": "50d79378-ab7b-4600-9713-6b21e696c937"
      },
      "outputs": [
        {
          "output_type": "stream",
          "name": "stdout",
          "text": [
            "Number of Neural Parameters: 94k\n"
          ]
        }
      ],
      "source": [
        "# generate a random generator \"key\" that is used to initialize the net parameters\n",
        "key = jax.random.PRNGKey(0)\n",
        "net = SimpleCNN(n_filters=[32,64, 128], n_class = 10)\n",
        "\n",
        "# to initialize the network, one needs to propagate some data through it\n",
        "# and provide with a RNG key\n",
        "key, key_ = jax.random.split(key)\n",
        "batch_size = 32\n",
        "batch_of_images = X_train[:batch_size,:,:,:]\n",
        "params_init = net.init(key_, batch_of_images)\n",
        "\n",
        "# count the number of parameters\n",
        "param_count = sum(x.size for x in jax.tree_util.tree_leaves(params_init))\n",
        "print(f\"Number of Neural Parameters: {param_count//1000}k\")"
      ]
    },
    {
      "cell_type": "code",
      "source": [
        "# let us randomize the weights again to start from scratch\n",
        "niter = 1000\n",
        "params = copy.deepcopy(params_init)\n",
        "\n",
        "#define the ADAM optimizer\n",
        "exponential_decay_scheduler = optax.exponential_decay(init_value=0.01, transition_steps=niter,\n",
        "                                                      decay_rate=0.99, transition_begin=int(niter*0.25),\n",
        "                                                      staircase=False)\n",
        "optimizer = optax.adam(exponential_decay_scheduler)\n",
        "\n",
        "#generate the initial state of the optimizer\n",
        "opt_state = optimizer.init(params)"
      ],
      "metadata": {
        "id": "zQtLKLvl2_l5"
      },
      "id": "zQtLKLvl2_l5",
      "execution_count": null,
      "outputs": []
    },
    {
      "cell_type": "code",
      "source": [
        "# put data to GPU\n",
        "X_train = jax.device_put(X_train)\n",
        "X_val = jax.device_put(X_val)"
      ],
      "metadata": {
        "id": "FQOMAd029Ogs"
      },
      "id": "FQOMAd029Ogs",
      "execution_count": null,
      "outputs": []
    },
    {
      "cell_type": "markdown",
      "source": [
        "## Training loop"
      ],
      "metadata": {
        "id": "oXyb1qRhWdIb"
      },
      "id": "oXyb1qRhWdIb"
    },
    {
      "cell_type": "code",
      "source": [
        "batch_size = 512\n",
        "\n",
        "sub_rngs = jax.random.split(key_, batch_size)\n",
        "\n",
        "# save the train loss\n",
        "loss_train_history = []\n",
        "loss_train_history_time = []\n",
        "\n",
        "# save the validation loss\n",
        "loss_val_history = []\n",
        "loss_val_history_time = []\n",
        "\n",
        "# save accuracies\n",
        "accuracies_history = []\n",
        "accuracies_history_time = []\n",
        "\n",
        "time_start = time.time()\n",
        "\n",
        "for k in tqdm( range(niter) ):\n",
        "  # create a batch\n",
        "  indices = jnp.arange(k*batch_size, (k+1)*batch_size) % len(X_train)\n",
        "  X_batch = X_train[indices]\n",
        "  Y_batch = Y_train[indices]\n",
        "\n",
        "  X_batch = vec_transform2(sub_rngs, X_batch)\n",
        "\n",
        "  # compute loss and gradients\n",
        "  loss_train, grads = loss_value_and_grad(params, X_batch, Y_batch)\n",
        "  time_elapsed = time.time() - time_start\n",
        "\n",
        "  if k % 50 == 0:\n",
        "    # compute the validation accuracy on a batch only (to save a bit of time)\n",
        "    N = 512\n",
        "    acc_val = 100*accuracy(params, X_val[:N], Y_val[:N])\n",
        "    acc_train = 100*accuracy(params, X_train[:N], Y_train[:N])\n",
        "    nb_epoch = float(k+1)*batch_size / len(X_train)\n",
        "    accuracies_history.append([acc_train, acc_val])\n",
        "    accuracies_history_time.append(time_elapsed)\n",
        "\n",
        "    # also compute test loss\n",
        "    loss_val = loss(params, X_val[:N], Y_val[:N])\n",
        "    loss_val_history.append( loss_val )\n",
        "    loss_val_history_time.append( time_elapsed )\n",
        "\n",
        "    print(f\"Time:{time_elapsed:3.1f}sec \\t Epoch:{nb_epoch:2.1f} \\t Loss [{loss_train:2.2f} / {loss_val:2.2f}] \\t Accuracy Train/Valid: [{acc_train:2.2f}% / {acc_val:2.2f}%]\")\n",
        "\n",
        "  # generate the \"update mechanism\" and update the state of the optimizer\n",
        "  updates, opt_state = optimizer.update(grads, opt_state, params)\n",
        "  # apply the \"update mechanism\"\n",
        "  params = optax.apply_updates(params, updates)\n",
        "\n",
        "  #opt_state, params = do_update(grads, opt_state, params)\n",
        "    \n",
        "  # save the loss\n",
        "  loss_train_history_time.append( time_elapsed )\n",
        "  loss_train_history.append( loss_train.item() )"
      ],
      "metadata": {
        "colab": {
          "base_uri": "https://localhost:8080/",
          "height": 406,
          "referenced_widgets": [
            "7b22a2b426a64a20a491991bbba10c75",
            "d9c16ff212124fa3ad841ab735ad89c1",
            "95a6c0e8ece44cb59f2f68b9e2aa3ae9",
            "8fbd9551913e4666bb5cc029f3faeabd",
            "ce4257e079d846dcaefd6dc6d4e4e581",
            "8b9ffa3eb3cd42539b2e873112a0dbf4",
            "62d2481ea63a4248a60746981043b651",
            "5bd549da89d843f2a4a056d74c73d3ed",
            "f90590ac882d4805b696431ae2d3120e",
            "a53fe0782f624be7b967fcf10eca6ba4",
            "d2a2ac5aa1ae4ee5813e206af4adfa7f"
          ]
        },
        "id": "cY4B774F5ys5",
        "outputId": "5a3fea02-3d01-4c01-e6bf-29ebb905a214"
      },
      "id": "cY4B774F5ys5",
      "execution_count": null,
      "outputs": [
        {
          "output_type": "display_data",
          "data": {
            "text/plain": [
              "  0%|          | 0/1000 [00:00<?, ?it/s]"
            ],
            "application/vnd.jupyter.widget-view+json": {
              "version_major": 2,
              "version_minor": 0,
              "model_id": "7b22a2b426a64a20a491991bbba10c75"
            }
          },
          "metadata": {}
        },
        {
          "output_type": "stream",
          "name": "stdout",
          "text": [
            "Time:0.0sec \t Epoch:0.1 \t Loss [2.34 / 2.34] \t Accuracy Train/Valid: [10.16% / 8.20%]\n",
            "Time:5.7sec \t Epoch:3.5 \t Loss [1.75 / 1.79] \t Accuracy Train/Valid: [44.73% / 48.05%]\n",
            "Time:11.5sec \t Epoch:7.0 \t Loss [1.39 / 1.42] \t Accuracy Train/Valid: [54.30% / 56.25%]\n",
            "Time:17.3sec \t Epoch:10.4 \t Loss [1.09 / 1.16] \t Accuracy Train/Valid: [69.73% / 65.82%]\n",
            "Time:23.0sec \t Epoch:13.8 \t Loss [0.99 / 1.05] \t Accuracy Train/Valid: [72.27% / 66.60%]\n",
            "Time:29.0sec \t Epoch:17.3 \t Loss [0.92 / 0.99] \t Accuracy Train/Valid: [75.98% / 69.92%]\n",
            "Time:34.7sec \t Epoch:20.7 \t Loss [0.81 / 0.94] \t Accuracy Train/Valid: [77.54% / 72.07%]\n",
            "Time:40.7sec \t Epoch:24.2 \t Loss [0.84 / 0.92] \t Accuracy Train/Valid: [77.73% / 69.73%]\n",
            "Time:46.4sec \t Epoch:27.6 \t Loss [0.63 / 0.84] \t Accuracy Train/Valid: [82.42% / 73.83%]\n",
            "Time:52.3sec \t Epoch:31.1 \t Loss [0.63 / 0.85] \t Accuracy Train/Valid: [82.03% / 73.44%]\n",
            "Time:58.2sec \t Epoch:34.5 \t Loss [0.65 / 0.83] \t Accuracy Train/Valid: [82.42% / 74.02%]\n",
            "Time:64.0sec \t Epoch:37.9 \t Loss [0.60 / 0.84] \t Accuracy Train/Valid: [82.42% / 72.66%]\n",
            "Time:70.0sec \t Epoch:41.4 \t Loss [0.55 / 0.79] \t Accuracy Train/Valid: [87.70% / 74.80%]\n",
            "Time:75.8sec \t Epoch:44.8 \t Loss [0.50 / 0.77] \t Accuracy Train/Valid: [85.74% / 77.15%]\n",
            "Time:81.9sec \t Epoch:48.3 \t Loss [0.57 / 0.81] \t Accuracy Train/Valid: [86.91% / 75.59%]\n",
            "Time:87.8sec \t Epoch:51.7 \t Loss [0.52 / 0.78] \t Accuracy Train/Valid: [84.57% / 76.56%]\n",
            "Time:93.9sec \t Epoch:55.2 \t Loss [0.47 / 0.77] \t Accuracy Train/Valid: [88.87% / 76.37%]\n",
            "Time:99.8sec \t Epoch:58.6 \t Loss [0.43 / 0.76] \t Accuracy Train/Valid: [90.04% / 76.37%]\n",
            "Time:105.8sec \t Epoch:62.0 \t Loss [0.42 / 0.76] \t Accuracy Train/Valid: [87.50% / 77.34%]\n",
            "Time:111.7sec \t Epoch:65.5 \t Loss [0.43 / 0.72] \t Accuracy Train/Valid: [90.82% / 76.76%]\n"
          ]
        }
      ]
    },
    {
      "cell_type": "markdown",
      "source": [
        "## Results"
      ],
      "metadata": {
        "id": "WriwsGURWfCC"
      },
      "id": "WriwsGURWfCC"
    },
    {
      "cell_type": "code",
      "source": [
        "plt.plot(loss_train_history_time, loss_train_history, \"b-\", lw = 3, label=\"train\")\n",
        "plt.plot(loss_val_history_time, loss_val_history, \"r-+\", lw = 3, label=\"validation\")\n",
        "plt.xlabel(\"seconds\", fontsize=20)\n",
        "plt.ylabel(\"loss\", fontsize=20)\n",
        "plt.grid(True)\n",
        "plt.legend()\n"
      ],
      "metadata": {
        "colab": {
          "base_uri": "https://localhost:8080/",
          "height": 306
        },
        "id": "piAB-CzY7Vn5",
        "outputId": "db0440bd-5c6f-495a-b9d8-63d673ad3f3b"
      },
      "id": "piAB-CzY7Vn5",
      "execution_count": null,
      "outputs": [
        {
          "output_type": "execute_result",
          "data": {
            "text/plain": [
              "<matplotlib.legend.Legend at 0x7f528c156a00>"
            ]
          },
          "metadata": {},
          "execution_count": 77
        },
        {
          "output_type": "display_data",
          "data": {
            "text/plain": [
              "<Figure size 432x288 with 1 Axes>"
            ],
            "image/png": "[encoded data removed]"
          },
          "metadata": {
            "needs_background": "light"
          }
        }
      ]
    },
    {
      "cell_type": "code",
      "source": [
        "accuracies_history = np.array(accuracies_history)\n",
        "plt.plot(accuracies_history_time, accuracies_history[:,0], \"b-\", lw = 3, label=\"train\")\n",
        "plt.plot(accuracies_history_time, accuracies_history[:,1], \"r-+\", lw = 3, label=\"validation\")\n",
        "plt.xlabel(\"seconds\", fontsize=20)\n",
        "plt.ylabel(\"accuracy\", fontsize=20)\n",
        "plt.ylim(0,100)\n",
        "plt.grid(True)\n",
        "plt.legend()"
      ],
      "metadata": {
        "colab": {
          "base_uri": "https://localhost:8080/",
          "height": 310
        },
        "id": "nXcOlMrxVCCT",
        "outputId": "ed9dec26-0235-4304-d609-7d7ba494849c"
      },
      "id": "nXcOlMrxVCCT",
      "execution_count": null,
      "outputs": [
        {
          "output_type": "execute_result",
          "data": {
            "text/plain": [
              "<matplotlib.legend.Legend at 0x7f528c1e8250>"
            ]
          },
          "metadata": {},
          "execution_count": 74
        },
        {
          "output_type": "display_data",
          "data": {
            "text/plain": [
              "<Figure size 432x288 with 1 Axes>"
            ],
            "image/png": "[encoded data removed]"
          },
          "metadata": {
            "needs_background": "light"
          }
        }
      ]
    },
    {
      "cell_type": "markdown",
      "source": [
        "## Test Accuracy\n",
        "Note we have at no point used the test-set previously."
      ],
      "metadata": {
        "id": "ugMZ4XE72-eX"
      },
      "id": "ugMZ4XE72-eX"
    },
    {
      "cell_type": "code",
      "source": [
        "# final test accuracy\n",
        "pred_test = []\n",
        "n_forward_pass = len(X_test) // batch_size\n",
        "for k in tqdm(range(n_forward_pass)):\n",
        "  pred_test.append( prediction_class(params, X_test[k*batch_size:(k+1)*batch_size]) )\n",
        "# final forward pass\n",
        "pred_test.append( prediction_class(params, X_test[n_forward_pass*batch_size:]) )\n",
        "\n",
        "pred_test = np.concatenate(pred_test)\n",
        "acc_test = 100*jnp.mean(pred_test == Y_test)\n",
        "print( f\"Final Test Accuracy: {acc_test:2.1f}%\")"
      ],
      "metadata": {
        "colab": {
          "base_uri": "https://localhost:8080/",
          "height": 67,
          "referenced_widgets": [
            "78e9024a1c254e9cb33831043c3e042f",
            "67c1d88e867e4bbf928f18cbe874ddf3",
            "2f7cf89edb0e457ebb8f4e73f7001236",
            "6e60acdcccc64a7a9783f1d8dadf13f1",
            "b980bc7750414ef5a7d881507502350d",
            "34ad7bd61c734365b472efb01a92f371",
            "4eeaa28a338542deaa38e50b0beeea8c",
            "3fd6b971824d4282a9b9ab67294b2587",
            "1cde77528dfa4d5096a498e7bff00960",
            "a453463ce68b49afab7ac44404a78057",
            "94a551cdeac7478ba31b9ebc940898e3"
          ]
        },
        "id": "yxoaTX7yZuvL",
        "outputId": "c0b3672d-b4cc-4a04-f3fe-b0bcec4e255a"
      },
      "id": "yxoaTX7yZuvL",
      "execution_count": null,
      "outputs": [
        {
          "output_type": "display_data",
          "data": {
            "text/plain": [
              "  0%|          | 0/7 [00:00<?, ?it/s]"
            ],
            "application/vnd.jupyter.widget-view+json": {
              "version_major": 2,
              "version_minor": 0,
              "model_id": "78e9024a1c254e9cb33831043c3e042f"
            }
          },
          "metadata": {}
        },
        {
          "output_type": "stream",
          "name": "stdout",
          "text": [
            "Final Test Accuracy: 72.2%\n"
          ]
        }
      ]
    },
    {
      "cell_type": "code",
      "source": [],
      "metadata": {
        "id": "1DNxYP6Wa_rR"
      },
      "id": "1DNxYP6Wa_rR",
      "execution_count": null,
      "outputs": []
    }
  ],
  "metadata": {
    "kernelspec": {
      "display_name": "Python 3 (ipykernel)",
      "language": "python",
      "name": "python3"
    },
    "language_info": {
      "codemirror_mode": {
        "name": "ipython",
        "version": 3
      },
      "file_extension": ".py",
      "mimetype": "text/x-python",
      "name": "python",
      "nbconvert_exporter": "python",
      "pygments_lexer": "ipython3",
      "version": "3.8.12"
    },
    "colab": {
      "provenance": [],
      "toc_visible": true
    },
    "accelerator": "GPU",
    "gpuClass": "standard",
    "widgets": {
      "application/vnd.jupyter.widget-state+json": {
        "7b22a2b426a64a20a491991bbba10c75": {
          "model_module": "@jupyter-widgets/controls",
          "model_name": "HBoxModel",
          "model_module_version": "1.5.0",
          "state": {
            "_dom_classes": [],
            "_model_module": "@jupyter-widgets/controls",
            "_model_module_version": "1.5.0",
            "_model_name": "HBoxModel",
            "_view_count": null,
            "_view_module": "@jupyter-widgets/controls",
            "_view_module_version": "1.5.0",
            "_view_name": "HBoxView",
            "box_style": "",
            "children": [
              "IPY_MODEL_d9c16ff212124fa3ad841ab735ad89c1",
              "IPY_MODEL_95a6c0e8ece44cb59f2f68b9e2aa3ae9",
              "IPY_MODEL_8fbd9551913e4666bb5cc029f3faeabd"
            ],
            "layout": "IPY_MODEL_ce4257e079d846dcaefd6dc6d4e4e581"
          }
        },
        "d9c16ff212124fa3ad841ab735ad89c1": {
          "model_module": "@jupyter-widgets/controls",
          "model_name": "HTMLModel",
          "model_module_version": "1.5.0",
          "state": {
            "_dom_classes": [],
            "_model_module": "@jupyter-widgets/controls",
            "_model_module_version": "1.5.0",
            "_model_name": "HTMLModel",
            "_view_count": null,
            "_view_module": "@jupyter-widgets/controls",
            "_view_module_version": "1.5.0",
            "_view_name": "HTMLView",
            "description": "",
            "description_tooltip": null,
            "layout": "IPY_MODEL_8b9ffa3eb3cd42539b2e873112a0dbf4",
            "placeholder": "​",
            "style": "IPY_MODEL_62d2481ea63a4248a60746981043b651",
            "value": "100%"
          }
        },
        "95a6c0e8ece44cb59f2f68b9e2aa3ae9": {
          "model_module": "@jupyter-widgets/controls",
          "model_name": "FloatProgressModel",
          "model_module_version": "1.5.0",
          "state": {
            "_dom_classes": [],
            "_model_module": "@jupyter-widgets/controls",
            "_model_module_version": "1.5.0",
            "_model_name": "FloatProgressModel",
            "_view_count": null,
            "_view_module": "@jupyter-widgets/controls",
            "_view_module_version": "1.5.0",
            "_view_name": "ProgressView",
            "bar_style": "success",
            "description": "",
            "description_tooltip": null,
            "layout": "IPY_MODEL_5bd549da89d843f2a4a056d74c73d3ed",
            "max": 1000,
            "min": 0,
            "orientation": "horizontal",
            "style": "IPY_MODEL_f90590ac882d4805b696431ae2d3120e",
            "value": 1000
          }
        },
        "8fbd9551913e4666bb5cc029f3faeabd": {
          "model_module": "@jupyter-widgets/controls",
          "model_name": "HTMLModel",
          "model_module_version": "1.5.0",
          "state": {
            "_dom_classes": [],
            "_model_module": "@jupyter-widgets/controls",
            "_model_module_version": "1.5.0",
            "_model_name": "HTMLModel",
            "_view_count": null,
            "_view_module": "@jupyter-widgets/controls",
            "_view_module_version": "1.5.0",
            "_view_name": "HTMLView",
            "description": "",
            "description_tooltip": null,
            "layout": "IPY_MODEL_a53fe0782f624be7b967fcf10eca6ba4",
            "placeholder": "​",
            "style": "IPY_MODEL_d2a2ac5aa1ae4ee5813e206af4adfa7f",
            "value": " 1000/1000 [01:57&lt;00:00,  8.08it/s]"
          }
        },
        "ce4257e079d846dcaefd6dc6d4e4e581": {
          "model_module": "@jupyter-widgets/base",
          "model_name": "LayoutModel",
          "model_module_version": "1.2.0",
          "state": {
            "_model_module": "@jupyter-widgets/base",
            "_model_module_version": "1.2.0",
            "_model_name": "LayoutModel",
            "_view_count": null,
            "_view_module": "@jupyter-widgets/base",
            "_view_module_version": "1.2.0",
            "_view_name": "LayoutView",
            "align_content": null,
            "align_items": null,
            "align_self": null,
            "border": null,
            "bottom": null,
            "display": null,
            "flex": null,
            "flex_flow": null,
            "grid_area": null,
            "grid_auto_columns": null,
            "grid_auto_flow": null,
            "grid_auto_rows": null,
            "grid_column": null,
            "grid_gap": null,
            "grid_row": null,
            "grid_template_areas": null,
            "grid_template_columns": null,
            "grid_template_rows": null,
            "height": null,
            "justify_content": null,
            "justify_items": null,
            "left": null,
            "margin": null,
            "max_height": null,
            "max_width": null,
            "min_height": null,
            "min_width": null,
            "object_fit": null,
            "object_position": null,
            "order": null,
            "overflow": null,
            "overflow_x": null,
            "overflow_y": null,
            "padding": null,
            "right": null,
            "top": null,
            "visibility": null,
            "width": null
          }
        },
        "8b9ffa3eb3cd42539b2e873112a0dbf4": {
          "model_module": "@jupyter-widgets/base",
          "model_name": "LayoutModel",
          "model_module_version": "1.2.0",
          "state": {
            "_model_module": "@jupyter-widgets/base",
            "_model_module_version": "1.2.0",
            "_model_name": "LayoutModel",
            "_view_count": null,
            "_view_module": "@jupyter-widgets/base",
            "_view_module_version": "1.2.0",
            "_view_name": "LayoutView",
            "align_content": null,
            "align_items": null,
            "align_self": null,
            "border": null,
            "bottom": null,
            "display": null,
            "flex": null,
            "flex_flow": null,
            "grid_area": null,
            "grid_auto_columns": null,
            "grid_auto_flow": null,
            "grid_auto_rows": null,
            "grid_column": null,
            "grid_gap": null,
            "grid_row": null,
            "grid_template_areas": null,
            "grid_template_columns": null,
            "grid_template_rows": null,
            "height": null,
            "justify_content": null,
            "justify_items": null,
            "left": null,
            "margin": null,
            "max_height": null,
            "max_width": null,
            "min_height": null,
            "min_width": null,
            "object_fit": null,
            "object_position": null,
            "order": null,
            "overflow": null,
            "overflow_x": null,
            "overflow_y": null,
            "padding": null,
            "right": null,
            "top": null,
            "visibility": null,
            "width": null
          }
        },
        "62d2481ea63a4248a60746981043b651": {
          "model_module": "@jupyter-widgets/controls",
          "model_name": "DescriptionStyleModel",
          "model_module_version": "1.5.0",
          "state": {
            "_model_module": "@jupyter-widgets/controls",
            "_model_module_version": "1.5.0",
            "_model_name": "DescriptionStyleModel",
            "_view_count": null,
            "_view_module": "@jupyter-widgets/base",
            "_view_module_version": "1.2.0",
            "_view_name": "StyleView",
            "description_width": ""
          }
        },
        "5bd549da89d843f2a4a056d74c73d3ed": {
          "model_module": "@jupyter-widgets/base",
          "model_name": "LayoutModel",
          "model_module_version": "1.2.0",
          "state": {
            "_model_module": "@jupyter-widgets/base",
            "_model_module_version": "1.2.0",
            "_model_name": "LayoutModel",
            "_view_count": null,
            "_view_module": "@jupyter-widgets/base",
            "_view_module_version": "1.2.0",
            "_view_name": "LayoutView",
            "align_content": null,
            "align_items": null,
            "align_self": null,
            "border": null,
            "bottom": null,
            "display": null,
            "flex": null,
            "flex_flow": null,
            "grid_area": null,
            "grid_auto_columns": null,
            "grid_auto_flow": null,
            "grid_auto_rows": null,
            "grid_column": null,
            "grid_gap": null,
            "grid_row": null,
            "grid_template_areas": null,
            "grid_template_columns": null,
            "grid_template_rows": null,
            "height": null,
            "justify_content": null,
            "justify_items": null,
            "left": null,
            "margin": null,
            "max_height": null,
            "max_width": null,
            "min_height": null,
            "min_width": null,
            "object_fit": null,
            "object_position": null,
            "order": null,
            "overflow": null,
            "overflow_x": null,
            "overflow_y": null,
            "padding": null,
            "right": null,
            "top": null,
            "visibility": null,
            "width": null
          }
        },
        "f90590ac882d4805b696431ae2d3120e": {
          "model_module": "@jupyter-widgets/controls",
          "model_name": "ProgressStyleModel",
          "model_module_version": "1.5.0",
          "state": {
            "_model_module": "@jupyter-widgets/controls",
            "_model_module_version": "1.5.0",
            "_model_name": "ProgressStyleModel",
            "_view_count": null,
            "_view_module": "@jupyter-widgets/base",
            "_view_module_version": "1.2.0",
            "_view_name": "StyleView",
            "bar_color": null,
            "description_width": ""
          }
        },
        "a53fe0782f624be7b967fcf10eca6ba4": {
          "model_module": "@jupyter-widgets/base",
          "model_name": "LayoutModel",
          "model_module_version": "1.2.0",
          "state": {
            "_model_module": "@jupyter-widgets/base",
            "_model_module_version": "1.2.0",
            "_model_name": "LayoutModel",
            "_view_count": null,
            "_view_module": "@jupyter-widgets/base",
            "_view_module_version": "1.2.0",
            "_view_name": "LayoutView",
            "align_content": null,
            "align_items": null,
            "align_self": null,
            "border": null,
            "bottom": null,
            "display": null,
            "flex": null,
            "flex_flow": null,
            "grid_area": null,
            "grid_auto_columns": null,
            "grid_auto_flow": null,
            "grid_auto_rows": null,
            "grid_column": null,
            "grid_gap": null,
            "grid_row": null,
            "grid_template_areas": null,
            "grid_template_columns": null,
            "grid_template_rows": null,
            "height": null,
            "justify_content": null,
            "justify_items": null,
            "left": null,
            "margin": null,
            "max_height": null,
            "max_width": null,
            "min_height": null,
            "min_width": null,
            "object_fit": null,
            "object_position": null,
            "order": null,
            "overflow": null,
            "overflow_x": null,
            "overflow_y": null,
            "padding": null,
            "right": null,
            "top": null,
            "visibility": null,
            "width": null
          }
        },
        "d2a2ac5aa1ae4ee5813e206af4adfa7f": {
          "model_module": "@jupyter-widgets/controls",
          "model_name": "DescriptionStyleModel",
          "model_module_version": "1.5.0",
          "state": {
            "_model_module": "@jupyter-widgets/controls",
            "_model_module_version": "1.5.0",
            "_model_name": "DescriptionStyleModel",
            "_view_count": null,
            "_view_module": "@jupyter-widgets/base",
            "_view_module_version": "1.2.0",
            "_view_name": "StyleView",
            "description_width": ""
          }
        },
        "78e9024a1c254e9cb33831043c3e042f": {
          "model_module": "@jupyter-widgets/controls",
          "model_name": "HBoxModel",
          "model_module_version": "1.5.0",
          "state": {
            "_dom_classes": [],
            "_model_module": "@jupyter-widgets/controls",
            "_model_module_version": "1.5.0",
            "_model_name": "HBoxModel",
            "_view_count": null,
            "_view_module": "@jupyter-widgets/controls",
            "_view_module_version": "1.5.0",
            "_view_name": "HBoxView",
            "box_style": "",
            "children": [
              "IPY_MODEL_67c1d88e867e4bbf928f18cbe874ddf3",
              "IPY_MODEL_2f7cf89edb0e457ebb8f4e73f7001236",
              "IPY_MODEL_6e60acdcccc64a7a9783f1d8dadf13f1"
            ],
            "layout": "IPY_MODEL_b980bc7750414ef5a7d881507502350d"
          }
        },
        "67c1d88e867e4bbf928f18cbe874ddf3": {
          "model_module": "@jupyter-widgets/controls",
          "model_name": "HTMLModel",
          "model_module_version": "1.5.0",
          "state": {
            "_dom_classes": [],
            "_model_module": "@jupyter-widgets/controls",
            "_model_module_version": "1.5.0",
            "_model_name": "HTMLModel",
            "_view_count": null,
            "_view_module": "@jupyter-widgets/controls",
            "_view_module_version": "1.5.0",
            "_view_name": "HTMLView",
            "description": "",
            "description_tooltip": null,
            "layout": "IPY_MODEL_34ad7bd61c734365b472efb01a92f371",
            "placeholder": "​",
            "style": "IPY_MODEL_4eeaa28a338542deaa38e50b0beeea8c",
            "value": "100%"
          }
        },
        "2f7cf89edb0e457ebb8f4e73f7001236": {
          "model_module": "@jupyter-widgets/controls",
          "model_name": "FloatProgressModel",
          "model_module_version": "1.5.0",
          "state": {
            "_dom_classes": [],
            "_model_module": "@jupyter-widgets/controls",
            "_model_module_version": "1.5.0",
            "_model_name": "FloatProgressModel",
            "_view_count": null,
            "_view_module": "@jupyter-widgets/controls",
            "_view_module_version": "1.5.0",
            "_view_name": "ProgressView",
            "bar_style": "success",
            "description": "",
            "description_tooltip": null,
            "layout": "IPY_MODEL_3fd6b971824d4282a9b9ab67294b2587",
            "max": 7,
            "min": 0,
            "orientation": "horizontal",
            "style": "IPY_MODEL_1cde77528dfa4d5096a498e7bff00960",
            "value": 7
          }
        },
        "6e60acdcccc64a7a9783f1d8dadf13f1": {
          "model_module": "@jupyter-widgets/controls",
          "model_name": "HTMLModel",
          "model_module_version": "1.5.0",
          "state": {
            "_dom_classes": [],
            "_model_module": "@jupyter-widgets/controls",
            "_model_module_version": "1.5.0",
            "_model_name": "HTMLModel",
            "_view_count": null,
            "_view_module": "@jupyter-widgets/controls",
            "_view_module_version": "1.5.0",
            "_view_name": "HTMLView",
            "description": "",
            "description_tooltip": null,
            "layout": "IPY_MODEL_a453463ce68b49afab7ac44404a78057",
            "placeholder": "​",
            "style": "IPY_MODEL_94a551cdeac7478ba31b9ebc940898e3",
            "value": " 7/7 [00:00&lt;00:00, 10.78it/s]"
          }
        },
        "b980bc7750414ef5a7d881507502350d": {
          "model_module": "@jupyter-widgets/base",
          "model_name": "LayoutModel",
          "model_module_version": "1.2.0",
          "state": {
            "_model_module": "@jupyter-widgets/base",
            "_model_module_version": "1.2.0",
            "_model_name": "LayoutModel",
            "_view_count": null,
            "_view_module": "@jupyter-widgets/base",
            "_view_module_version": "1.2.0",
            "_view_name": "LayoutView",
            "align_content": null,
            "align_items": null,
            "align_self": null,
            "border": null,
            "bottom": null,
            "display": null,
            "flex": null,
            "flex_flow": null,
            "grid_area": null,
            "grid_auto_columns": null,
            "grid_auto_flow": null,
            "grid_auto_rows": null,
            "grid_column": null,
            "grid_gap": null,
            "grid_row": null,
            "grid_template_areas": null,
            "grid_template_columns": null,
            "grid_template_rows": null,
            "height": null,
            "justify_content": null,
            "justify_items": null,
            "left": null,
            "margin": null,
            "max_height": null,
            "max_width": null,
            "min_height": null,
            "min_width": null,
            "object_fit": null,
            "object_position": null,
            "order": null,
            "overflow": null,
            "overflow_x": null,
            "overflow_y": null,
            "padding": null,
            "right": null,
            "top": null,
            "visibility": null,
            "width": null
          }
        },
        "34ad7bd61c734365b472efb01a92f371": {
          "model_module": "@jupyter-widgets/base",
          "model_name": "LayoutModel",
          "model_module_version": "1.2.0",
          "state": {
            "_model_module": "@jupyter-widgets/base",
            "_model_module_version": "1.2.0",
            "_model_name": "LayoutModel",
            "_view_count": null,
            "_view_module": "@jupyter-widgets/base",
            "_view_module_version": "1.2.0",
            "_view_name": "LayoutView",
            "align_content": null,
            "align_items": null,
            "align_self": null,
            "border": null,
            "bottom": null,
            "display": null,
            "flex": null,
            "flex_flow": null,
            "grid_area": null,
            "grid_auto_columns": null,
            "grid_auto_flow": null,
            "grid_auto_rows": null,
            "grid_column": null,
            "grid_gap": null,
            "grid_row": null,
            "grid_template_areas": null,
            "grid_template_columns": null,
            "grid_template_rows": null,
            "height": null,
            "justify_content": null,
            "justify_items": null,
            "left": null,
            "margin": null,
            "max_height": null,
            "max_width": null,
            "min_height": null,
            "min_width": null,
            "object_fit": null,
            "object_position": null,
            "order": null,
            "overflow": null,
            "overflow_x": null,
            "overflow_y": null,
            "padding": null,
            "right": null,
            "top": null,
            "visibility": null,
            "width": null
          }
        },
        "4eeaa28a338542deaa38e50b0beeea8c": {
          "model_module": "@jupyter-widgets/controls",
          "model_name": "DescriptionStyleModel",
          "model_module_version": "1.5.0",
          "state": {
            "_model_module": "@jupyter-widgets/controls",
            "_model_module_version": "1.5.0",
            "_model_name": "DescriptionStyleModel",
            "_view_count": null,
            "_view_module": "@jupyter-widgets/base",
            "_view_module_version": "1.2.0",
            "_view_name": "StyleView",
            "description_width": ""
          }
        },
        "3fd6b971824d4282a9b9ab67294b2587": {
          "model_module": "@jupyter-widgets/base",
          "model_name": "LayoutModel",
          "model_module_version": "1.2.0",
          "state": {
            "_model_module": "@jupyter-widgets/base",
            "_model_module_version": "1.2.0",
            "_model_name": "LayoutModel",
            "_view_count": null,
            "_view_module": "@jupyter-widgets/base",
            "_view_module_version": "1.2.0",
            "_view_name": "LayoutView",
            "align_content": null,
            "align_items": null,
            "align_self": null,
            "border": null,
            "bottom": null,
            "display": null,
            "flex": null,
            "flex_flow": null,
            "grid_area": null,
            "grid_auto_columns": null,
            "grid_auto_flow": null,
            "grid_auto_rows": null,
            "grid_column": null,
            "grid_gap": null,
            "grid_row": null,
            "grid_template_areas": null,
            "grid_template_columns": null,
            "grid_template_rows": null,
            "height": null,
            "justify_content": null,
            "justify_items": null,
            "left": null,
            "margin": null,
            "max_height": null,
            "max_width": null,
            "min_height": null,
            "min_width": null,
            "object_fit": null,
            "object_position": null,
            "order": null,
            "overflow": null,
            "overflow_x": null,
            "overflow_y": null,
            "padding": null,
            "right": null,
            "top": null,
            "visibility": null,
            "width": null
          }
        },
        "1cde77528dfa4d5096a498e7bff00960": {
          "model_module": "@jupyter-widgets/controls",
          "model_name": "ProgressStyleModel",
          "model_module_version": "1.5.0",
          "state": {
            "_model_module": "@jupyter-widgets/controls",
            "_model_module_version": "1.5.0",
            "_model_name": "ProgressStyleModel",
            "_view_count": null,
            "_view_module": "@jupyter-widgets/base",
            "_view_module_version": "1.2.0",
            "_view_name": "StyleView",
            "bar_color": null,
            "description_width": ""
          }
        },
        "a453463ce68b49afab7ac44404a78057": {
          "model_module": "@jupyter-widgets/base",
          "model_name": "LayoutModel",
          "model_module_version": "1.2.0",
          "state": {
            "_model_module": "@jupyter-widgets/base",
            "_model_module_version": "1.2.0",
            "_model_name": "LayoutModel",
            "_view_count": null,
            "_view_module": "@jupyter-widgets/base",
            "_view_module_version": "1.2.0",
            "_view_name": "LayoutView",
            "align_content": null,
            "align_items": null,
            "align_self": null,
            "border": null,
            "bottom": null,
            "display": null,
            "flex": null,
            "flex_flow": null,
            "grid_area": null,
            "grid_auto_columns": null,
            "grid_auto_flow": null,
            "grid_auto_rows": null,
            "grid_column": null,
            "grid_gap": null,
            "grid_row": null,
            "grid_template_areas": null,
            "grid_template_columns": null,
            "grid_template_rows": null,
            "height": null,
            "justify_content": null,
            "justify_items": null,
            "left": null,
            "margin": null,
            "max_height": null,
            "max_width": null,
            "min_height": null,
            "min_width": null,
            "object_fit": null,
            "object_position": null,
            "order": null,
            "overflow": null,
            "overflow_x": null,
            "overflow_y": null,
            "padding": null,
            "right": null,
            "top": null,
            "visibility": null,
            "width": null
          }
        },
        "94a551cdeac7478ba31b9ebc940898e3": {
          "model_module": "@jupyter-widgets/controls",
          "model_name": "DescriptionStyleModel",
          "model_module_version": "1.5.0",
          "state": {
            "_model_module": "@jupyter-widgets/controls",
            "_model_module_version": "1.5.0",
            "_model_name": "DescriptionStyleModel",
            "_view_count": null,
            "_view_module": "@jupyter-widgets/base",
            "_view_module_version": "1.2.0",
            "_view_name": "StyleView",
            "description_width": ""
          }
        }
      }
    }
  },
  "nbformat": 4,
  "nbformat_minor": 5
}