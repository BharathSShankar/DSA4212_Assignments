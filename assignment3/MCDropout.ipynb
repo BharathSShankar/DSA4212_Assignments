{
 "cells": [
  {
   "attachments": {},
   "cell_type": "markdown",
   "metadata": {},
   "source": [
    "[Dropout as a Bayesian Approximation: Representing Model Uncertainty in Deep Learning](https://arxiv.org/abs/1506.02142)\n",
    "\n",
    "Monte Carlo Dropout on classification of MedMNIST."
   ]
  },
  {
   "cell_type": "code",
   "execution_count": 1,
   "metadata": {},
   "outputs": [
    {
     "name": "stdout",
     "output_type": "stream",
     "text": [
      "Using downloaded and verified file: /Users/chen/.medmnist/pathmnist.npz\n",
      "Using downloaded and verified file: /Users/chen/.medmnist/pathmnist.npz\n"
     ]
    }
   ],
   "source": [
    "import torch\n",
    "import torch.nn as nn\n",
    "import torch.optim as optim\n",
    "from torch.utils.data import DataLoader\n",
    "from torchvision.transforms import transforms\n",
    "import medmnist\n",
    "from medmnist import INFO, Evaluator\n",
    "import torch.utils.data as data\n",
    "import matplotlib.pyplot as plt\n",
    "from tqdm.auto import tqdm, trange\n",
    "import numpy as np\n",
    "\n",
    "from torchmetrics.functional.classification import multiclass_calibration_error\n",
    "\n",
    "data_flag = 'pathmnist'\n",
    "download = True\n",
    "info = INFO[data_flag]\n",
    "task = info['task']\n",
    "n_channels = info['n_channels']\n",
    "n_classes = len(info['label'])\n",
    "DataClass = getattr(medmnist, info['python_class'])\n",
    "\n",
    "transform = transforms.Compose([transforms.ToTensor()])\n",
    "train_set = DataClass(split='train', transform=transform, download=download)\n",
    "test_set = DataClass(split='test', transform=transform, download=download)\n",
    "\n",
    "train_loader = DataLoader(train_set, batch_size=32, shuffle=True)\n",
    "test_loader = DataLoader(test_set, batch_size=32, shuffle=False)\n"
   ]
  },
  {
   "cell_type": "code",
   "execution_count": 2,
   "metadata": {},
   "outputs": [],
   "source": [
    "class MC_Dropout_CNN(nn.Module):\n",
    "    def __init__(self, num_classes, dropout_rate):\n",
    "        super(MC_Dropout_CNN, self).__init__()\n",
    "        self.conv1 = nn.Conv2d(3, 16, kernel_size=3, stride=1, padding=1)\n",
    "        self.relu1 = nn.ReLU()\n",
    "        self.pool1 = nn.MaxPool2d(kernel_size=2, stride=2, padding=0)\n",
    "        self.dropout1 = nn.Dropout(dropout_rate)\n",
    "        self.conv2 = nn.Conv2d(16, 32, kernel_size=3, stride=1, padding=1)\n",
    "        self.relu2 = nn.ReLU()\n",
    "        self.pool2 = nn.MaxPool2d(kernel_size=2, stride=2, padding=0)\n",
    "        self.dropout2 = nn.Dropout(dropout_rate)\n",
    "        self.fc = nn.Linear(32 * 7 * 7, num_classes)\n",
    "\n",
    "    def forward(self, x):\n",
    "        x = self.pool1(self.relu1(self.conv1(x)))\n",
    "        x = self.dropout1(x)\n",
    "        x = self.pool2(self.relu2(self.conv2(x)))\n",
    "        x = self.dropout2(x)\n",
    "        x = x.view(x.size(0), -1)\n",
    "        x = self.fc(x)\n",
    "        return x\n"
   ]
  },
  {
   "cell_type": "code",
   "execution_count": 3,
   "metadata": {},
   "outputs": [],
   "source": [
    "def train(model, dataloader, criterion, optimizer, device):\n",
    "    model.train()\n",
    "    running_loss = 0.0\n",
    "    for images, labels in tqdm(dataloader):\n",
    "        images, labels = images.to(device), labels.to(device).squeeze()\n",
    "\n",
    "        optimizer.zero_grad()\n",
    "        outputs = model(images)\n",
    "        loss = criterion(outputs, labels)\n",
    "        loss.backward()\n",
    "        optimizer.step()\n",
    "        running_loss += loss.item()\n",
    "    return running_loss / len(dataloader)\n",
    "\n",
    "def test(model, dataloader, criterion, device):\n",
    "    model.eval()\n",
    "    running_loss = 0.0\n",
    "    correct = 0\n",
    "    total = 0\n",
    "    with torch.no_grad():\n",
    "        for images, labels in tqdm(dataloader):\n",
    "            images, labels = images.to(device), labels.to(device).squeeze()\n",
    "\n",
    "            outputs = model(images)\n",
    "            loss = criterion(outputs, labels)\n",
    "            running_loss += loss.item()\n",
    "            _, predicted = torch.max(outputs.data, 1)\n",
    "            total += labels.size(0)\n",
    "            correct += (predicted == labels).sum().item()\n",
    "    return running_loss / len(dataloader), 100 * correct / total\n"
   ]
  },
  {
   "cell_type": "code",
   "execution_count": 4,
   "metadata": {},
   "outputs": [],
   "source": [
    "device = torch.device(\"mps\" if torch.has_mps else \"cuda\" if torch.cuda.is_available() else \"cpu\")\n",
    "\n",
    "model = MC_Dropout_CNN(num_classes=n_classes, dropout_rate=0.5).to(device)\n",
    "criterion = nn.CrossEntropyLoss()\n",
    "optimizer = optim.Adam(model.parameters(), lr=0.001)\n"
   ]
  },
  {
   "cell_type": "code",
   "execution_count": 5,
   "metadata": {},
   "outputs": [
    {
     "data": {
      "application/vnd.jupyter.widget-view+json": {
       "model_id": "92490319241b4981940b6fea4cdc4cfe",
       "version_major": 2,
       "version_minor": 0
      },
      "text/plain": [
       "  0%|          | 0/3 [00:00<?, ?it/s]"
      ]
     },
     "metadata": {},
     "output_type": "display_data"
    },
    {
     "data": {
      "application/vnd.jupyter.widget-view+json": {
       "model_id": "4802f745c5344eaaa9982d3c4c718dc1",
       "version_major": 2,
       "version_minor": 0
      },
      "text/plain": [
       "  0%|          | 0/2813 [00:00<?, ?it/s]"
      ]
     },
     "metadata": {},
     "output_type": "display_data"
    },
    {
     "data": {
      "application/vnd.jupyter.widget-view+json": {
       "model_id": "74ae8726d7cd44d799ddda2dac732126",
       "version_major": 2,
       "version_minor": 0
      },
      "text/plain": [
       "  0%|          | 0/225 [00:00<?, ?it/s]"
      ]
     },
     "metadata": {},
     "output_type": "display_data"
    },
    {
     "name": "stdout",
     "output_type": "stream",
     "text": [
      "Epoch [1/3], Train Loss: 1.1894, Test Loss: 1.1306, Accuracy: 63.8719\n"
     ]
    },
    {
     "data": {
      "application/vnd.jupyter.widget-view+json": {
       "model_id": "5d4094642ca2433eaf202abc1a748811",
       "version_major": 2,
       "version_minor": 0
      },
      "text/plain": [
       "  0%|          | 0/2813 [00:00<?, ?it/s]"
      ]
     },
     "metadata": {},
     "output_type": "display_data"
    },
    {
     "data": {
      "application/vnd.jupyter.widget-view+json": {
       "model_id": "5ea0a8cfa53c43a7a80c880d69cc6c71",
       "version_major": 2,
       "version_minor": 0
      },
      "text/plain": [
       "  0%|          | 0/225 [00:00<?, ?it/s]"
      ]
     },
     "metadata": {},
     "output_type": "display_data"
    },
    {
     "name": "stdout",
     "output_type": "stream",
     "text": [
      "Epoch [2/3], Train Loss: 0.9443, Test Loss: 0.9719, Accuracy: 73.4262\n"
     ]
    },
    {
     "data": {
      "application/vnd.jupyter.widget-view+json": {
       "model_id": "57044fbdfa594e4baa4caaec8da83992",
       "version_major": 2,
       "version_minor": 0
      },
      "text/plain": [
       "  0%|          | 0/2813 [00:00<?, ?it/s]"
      ]
     },
     "metadata": {},
     "output_type": "display_data"
    },
    {
     "data": {
      "application/vnd.jupyter.widget-view+json": {
       "model_id": "7070b6a82e9e4ca0afd10997a967c7e0",
       "version_major": 2,
       "version_minor": 0
      },
      "text/plain": [
       "  0%|          | 0/225 [00:00<?, ?it/s]"
      ]
     },
     "metadata": {},
     "output_type": "display_data"
    },
    {
     "name": "stdout",
     "output_type": "stream",
     "text": [
      "Epoch [3/3], Train Loss: 0.8589, Test Loss: 1.0254, Accuracy: 76.0167\n"
     ]
    }
   ],
   "source": [
    "num_epochs = 3\n",
    "\n",
    "for epoch in trange(1, num_epochs + 1):\n",
    "    train_loss = train(model, train_loader, criterion, optimizer, device)\n",
    "    test_loss, accuracy = test(model, test_loader, criterion, device)\n",
    "    print(f\"Epoch [{epoch}/{num_epochs}], Train Loss: {train_loss:.4f}, Test Loss: {test_loss:.4f}, Accuracy: {accuracy:.4f}\")\n"
   ]
  },
  {
   "cell_type": "code",
   "execution_count": 6,
   "metadata": {},
   "outputs": [
    {
     "name": "stdout",
     "output_type": "stream",
     "text": [
      "ECE: 0.1233\n"
     ]
    }
   ],
   "source": [
    "# Update the mc_dropout_prediction function to return probabilities\n",
    "def mc_dropout_prediction(model, dataloader, device, num_samples=100):\n",
    "    model.train()\n",
    "    preds = []\n",
    "    targets = []\n",
    "    uncertainty = []\n",
    "\n",
    "    with torch.no_grad():\n",
    "        for images, labels in dataloader:\n",
    "            images, labels = images.to(device), labels.to(device).squeeze()\n",
    "            output_list = []\n",
    "\n",
    "            for _ in range(num_samples):\n",
    "                outputs = model(images)\n",
    "                output_list.append(torch.softmax(outputs, dim=1).cpu().numpy())  # Get probabilities\n",
    "\n",
    "            mean_output = np.mean(output_list, axis=0)\n",
    "            std_output = np.std(output_list, axis=0)\n",
    "            preds.extend(mean_output)\n",
    "            targets.extend(labels.cpu().numpy())\n",
    "            uncertainty.extend(std_output)\n",
    "    \n",
    "    preds = np.array(preds)\n",
    "    targets = np.array(targets)\n",
    "    uncertainty = np.array(uncertainty)\n",
    "\n",
    "    return preds, targets, uncertainty\n",
    "\n",
    "# Compute the predictions, targets, and uncertainty\n",
    "preds, targets, uncertainty = mc_dropout_prediction(model, test_loader, device, num_samples=100)\n",
    "\n",
    "# Compute the ECE\n",
    "probs = torch.tensor(preds)\n",
    "true_labels = torch.tensor(targets, dtype=torch.long)\n",
    "ece = multiclass_calibration_error(probs, true_labels, num_classes=n_classes)\n",
    "print(f\"ECE: {ece:.4f}\")\n"
   ]
  },
  {
   "cell_type": "code",
   "execution_count": 7,
   "metadata": {},
   "outputs": [
    {
     "name": "stdout",
     "output_type": "stream",
     "text": [
      "Monte Carlo dropout accuracy: 0.7553\n",
      "Uncertainty example: [[1.23327391e-05 3.65698914e-04 1.60096198e-01 6.75790245e-04\n",
      "  2.22703069e-02 1.33374962e-03 1.41283810e-01 9.59724188e-03\n",
      "  1.22278921e-01]\n",
      " [3.99950985e-03 1.20900692e-02 1.06425975e-02 2.19248869e-02\n",
      "  1.37053430e-01 7.07032531e-03 8.01488385e-02 1.85850300e-02\n",
      "  6.61972761e-02]\n",
      " [8.08886364e-02 1.20018378e-01 6.18181331e-03 3.17417493e-04\n",
      "  1.19137108e-01 5.79563249e-03 5.37842661e-02 3.09973955e-03\n",
      "  3.13176191e-03]\n",
      " [2.31006081e-04 4.11558489e-07 8.57004747e-02 3.32190879e-02\n",
      "  3.99591029e-03 8.28005094e-03 1.37308106e-01 1.57185961e-02\n",
      "  9.60758775e-02]\n",
      " [1.16519041e-01 2.75739953e-02 6.33915737e-02 1.87053811e-03\n",
      "  1.30672008e-01 3.55334543e-02 1.26754910e-01 1.50035799e-03\n",
      "  5.63062057e-02]\n",
      " [6.06293157e-02 2.19191417e-01 3.19847860e-03 2.98667885e-02\n",
      "  1.82154387e-01 1.24944898e-04 5.68722039e-02 6.78109704e-04\n",
      "  1.02973636e-02]\n",
      " [1.57225499e-04 2.03630468e-03 2.73130834e-02 5.07417228e-03\n",
      "  3.98552753e-02 5.38560795e-03 1.00765705e-01 7.04467064e-03\n",
      "  1.50107190e-01]\n",
      " [7.37489164e-02 6.33409545e-02 8.10351782e-03 2.01318085e-06\n",
      "  1.08923754e-02 2.88489517e-02 1.25534320e-03 1.10468418e-05\n",
      "  3.98870790e-03]\n",
      " [9.69958957e-04 2.98922253e-03 8.76907334e-02 3.96126993e-02\n",
      "  8.58030692e-02 8.17568216e-04 1.74896672e-01 7.83723372e-04\n",
      "  1.54002100e-01]\n",
      " [9.06011323e-04 1.19543895e-02 2.78990492e-02 2.04232583e-05\n",
      "  3.26895155e-02 1.76672861e-02 8.70806053e-02 1.01585465e-03\n",
      "  1.29292116e-01]]\n"
     ]
    }
   ],
   "source": [
    "mc_accuracy = np.mean(np.argmax(preds, axis=1) == targets)\n",
    "print(f\"Monte Carlo dropout accuracy: {mc_accuracy:.4f}\")\n",
    "print(f\"Uncertainty example: {uncertainty[:10]}\")\n"
   ]
  },
  {
   "cell_type": "code",
   "execution_count": 8,
   "metadata": {},
   "outputs": [
    {
     "data": {
      "image/png": "[encoded data removed]",
      "text/plain": [
       "<Figure size 1000x600 with 1 Axes>"
      ]
     },
     "metadata": {},
     "output_type": "display_data"
    }
   ],
   "source": [
    "uncertainty = uncertainty.reshape(-1)\n",
    "\n",
    "correct_indices = np.where(np.argmax(preds, axis=1) == targets)[0]\n",
    "incorrect_indices = np.where(np.argmax(preds, axis=1) != targets)[0]\n",
    "\n",
    "correct_uncertainties = uncertainty[correct_indices]\n",
    "incorrect_uncertainties = uncertainty[incorrect_indices]\n",
    "\n",
    "plt.figure(figsize=(10, 6))\n",
    "plt.hist(uncertainty, bins=30, alpha=0.5, label=\"All predictions\", color='green')\n",
    "plt.hist(correct_uncertainties, bins=30, alpha=0.5, label=\"Correct predictions\", color='blue')\n",
    "plt.hist(incorrect_uncertainties, bins=30, alpha=0.5, label=\"Incorrect predictions\", color='red')\n",
    "plt.xlabel(\"Uncertainty\")\n",
    "plt.ylabel(\"Frequency\")\n",
    "plt.legend()\n",
    "plt.title(\"Uncertainty Distribution for All, Correct, and Incorrect Predictions\")\n",
    "plt.show()\n"
   ]
  }
 ],
 "metadata": {
  "kernelspec": {
   "display_name": "torch",
   "language": "python",
   "name": "python3"
  },
  "language_info": {
   "codemirror_mode": {
    "name": "ipython",
    "version": 3
   },
   "file_extension": ".py",
   "mimetype": "text/x-python",
   "name": "python",
   "nbconvert_exporter": "python",
   "pygments_lexer": "ipython3",
   "version": "3.11.0"
  },
  "orig_nbformat": 4
 },
 "nbformat": 4,
 "nbformat_minor": 2
}
