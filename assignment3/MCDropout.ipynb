{
 "cells": [
  {
   "attachments": {},
   "cell_type": "markdown",
   "metadata": {},
   "source": [
    "[Dropout as a Bayesian Approximation: Representing Model Uncertainty in Deep Learning](https://arxiv.org/abs/1506.02142)\n",
    "\n",
    "Monte Carlo Dropout on classification of MedMNIST."
   ]
  },
  {
   "cell_type": "code",
   "execution_count": 1,
   "metadata": {},
   "outputs": [
    {
     "name": "stdout",
     "output_type": "stream",
     "text": [
      "Using downloaded and verified file: /Users/chen/.medmnist/pathmnist.npz\n",
      "Using downloaded and verified file: /Users/chen/.medmnist/pathmnist.npz\n"
     ]
    }
   ],
   "source": [
    "import torch\n",
    "import torch.nn as nn\n",
    "import torch.optim as optim\n",
    "from torch.utils.data import DataLoader\n",
    "from torchvision.transforms import transforms\n",
    "import medmnist\n",
    "from medmnist import INFO, Evaluator\n",
    "import torch.utils.data as data\n",
    "import matplotlib.pyplot as plt\n",
    "from tqdm.auto import tqdm, trange\n",
    "import numpy as np\n",
    "\n",
    "data_flag = 'pathmnist'\n",
    "download = True\n",
    "info = INFO[data_flag]\n",
    "task = info['task']\n",
    "n_channels = info['n_channels']\n",
    "n_classes = len(info['label'])\n",
    "DataClass = getattr(medmnist, info['python_class'])\n",
    "\n",
    "transform = transforms.Compose([transforms.ToTensor()])\n",
    "train_set = DataClass(split='train', transform=transform, download=download)\n",
    "test_set = DataClass(split='test', transform=transform, download=download)\n",
    "\n",
    "train_loader = DataLoader(train_set, batch_size=32, shuffle=True)\n",
    "test_loader = DataLoader(test_set, batch_size=32, shuffle=False)\n"
   ]
  },
  {
   "cell_type": "code",
   "execution_count": 2,
   "metadata": {},
   "outputs": [],
   "source": [
    "class MC_Dropout_CNN(nn.Module):\n",
    "    def __init__(self, num_classes, dropout_rate):\n",
    "        super(MC_Dropout_CNN, self).__init__()\n",
    "        self.conv1 = nn.Conv2d(3, 16, kernel_size=3, stride=1, padding=1)\n",
    "        self.relu1 = nn.ReLU()\n",
    "        self.pool1 = nn.MaxPool2d(kernel_size=2, stride=2, padding=0)\n",
    "        self.dropout1 = nn.Dropout(dropout_rate)\n",
    "        self.conv2 = nn.Conv2d(16, 32, kernel_size=3, stride=1, padding=1)\n",
    "        self.relu2 = nn.ReLU()\n",
    "        self.pool2 = nn.MaxPool2d(kernel_size=2, stride=2, padding=0)\n",
    "        self.dropout2 = nn.Dropout(dropout_rate)\n",
    "        self.fc = nn.Linear(32 * 7 * 7, num_classes)\n",
    "\n",
    "    def forward(self, x):\n",
    "        x = self.pool1(self.relu1(self.conv1(x)))\n",
    "        x = self.dropout1(x)\n",
    "        x = self.pool2(self.relu2(self.conv2(x)))\n",
    "        x = self.dropout2(x)\n",
    "        x = x.view(x.size(0), -1)\n",
    "        x = self.fc(x)\n",
    "        return x\n"
   ]
  },
  {
   "cell_type": "code",
   "execution_count": 3,
   "metadata": {},
   "outputs": [],
   "source": [
    "def train(model, dataloader, criterion, optimizer, device):\n",
    "    model.train()\n",
    "    running_loss = 0.0\n",
    "    for images, labels in tqdm(dataloader):\n",
    "        images, labels = images.to(device), labels.to(device).squeeze()\n",
    "\n",
    "        optimizer.zero_grad()\n",
    "        outputs = model(images)\n",
    "        loss = criterion(outputs, labels)\n",
    "        loss.backward()\n",
    "        optimizer.step()\n",
    "        running_loss += loss.item()\n",
    "    return running_loss / len(dataloader)\n",
    "\n",
    "def test(model, dataloader, criterion, device):\n",
    "    model.eval()\n",
    "    running_loss = 0.0\n",
    "    correct = 0\n",
    "    total = 0\n",
    "    with torch.no_grad():\n",
    "        for images, labels in tqdm(dataloader):\n",
    "            images, labels = images.to(device), labels.to(device).squeeze()\n",
    "\n",
    "            outputs = model(images)\n",
    "            loss = criterion(outputs, labels)\n",
    "            running_loss += loss.item()\n",
    "            _, predicted = torch.max(outputs.data, 1)\n",
    "            total += labels.size(0)\n",
    "            correct += (predicted == labels).sum().item()\n",
    "    return running_loss / len(dataloader), 100 * correct / total\n"
   ]
  },
  {
   "cell_type": "code",
   "execution_count": 4,
   "metadata": {},
   "outputs": [],
   "source": [
    "device = torch.device(\"mps\" if torch.has_mps else \"cuda\" if torch.cuda.is_available() else \"cpu\")\n",
    "\n",
    "model = MC_Dropout_CNN(num_classes=n_classes, dropout_rate=0.5).to(device)\n",
    "criterion = nn.CrossEntropyLoss()\n",
    "optimizer = optim.Adam(model.parameters(), lr=0.001)\n"
   ]
  },
  {
   "cell_type": "code",
   "execution_count": 5,
   "metadata": {},
   "outputs": [
    {
     "data": {
      "application/vnd.jupyter.widget-view+json": {
       "model_id": "92c7fa7fa34b40ff8a575812e6ffacea",
       "version_major": 2,
       "version_minor": 0
      },
      "text/plain": [
       "  0%|          | 0/3 [00:00<?, ?it/s]"
      ]
     },
     "metadata": {},
     "output_type": "display_data"
    },
    {
     "data": {
      "application/vnd.jupyter.widget-view+json": {
       "model_id": "c516b0b1c7124e7880850671f62c5d94",
       "version_major": 2,
       "version_minor": 0
      },
      "text/plain": [
       "  0%|          | 0/2813 [00:00<?, ?it/s]"
      ]
     },
     "metadata": {},
     "output_type": "display_data"
    },
    {
     "data": {
      "application/vnd.jupyter.widget-view+json": {
       "model_id": "2ba0e84825ec4efebb88f0b2e43e24f3",
       "version_major": 2,
       "version_minor": 0
      },
      "text/plain": [
       "  0%|          | 0/225 [00:00<?, ?it/s]"
      ]
     },
     "metadata": {},
     "output_type": "display_data"
    },
    {
     "name": "stdout",
     "output_type": "stream",
     "text": [
      "Epoch [1/3], Train Loss: 1.1598, Test Loss: 0.8862, Accuracy: 74.6797\n"
     ]
    },
    {
     "data": {
      "application/vnd.jupyter.widget-view+json": {
       "model_id": "5cc87b67d555486687c5e0bc386ff645",
       "version_major": 2,
       "version_minor": 0
      },
      "text/plain": [
       "  0%|          | 0/2813 [00:00<?, ?it/s]"
      ]
     },
     "metadata": {},
     "output_type": "display_data"
    },
    {
     "data": {
      "application/vnd.jupyter.widget-view+json": {
       "model_id": "ddfd837063254ff8b2be29c03ed3762c",
       "version_major": 2,
       "version_minor": 0
      },
      "text/plain": [
       "  0%|          | 0/225 [00:00<?, ?it/s]"
      ]
     },
     "metadata": {},
     "output_type": "display_data"
    },
    {
     "name": "stdout",
     "output_type": "stream",
     "text": [
      "Epoch [2/3], Train Loss: 0.8980, Test Loss: 0.8358, Accuracy: 75.5153\n"
     ]
    },
    {
     "data": {
      "application/vnd.jupyter.widget-view+json": {
       "model_id": "3d62e31d1b57429eb9c52846d5591529",
       "version_major": 2,
       "version_minor": 0
      },
      "text/plain": [
       "  0%|          | 0/2813 [00:00<?, ?it/s]"
      ]
     },
     "metadata": {},
     "output_type": "display_data"
    },
    {
     "data": {
      "application/vnd.jupyter.widget-view+json": {
       "model_id": "323816f96b9941f5b7392d9560309ef1",
       "version_major": 2,
       "version_minor": 0
      },
      "text/plain": [
       "  0%|          | 0/225 [00:00<?, ?it/s]"
      ]
     },
     "metadata": {},
     "output_type": "display_data"
    },
    {
     "name": "stdout",
     "output_type": "stream",
     "text": [
      "Epoch [3/3], Train Loss: 0.8082, Test Loss: 0.8198, Accuracy: 80.4735\n"
     ]
    }
   ],
   "source": [
    "num_epochs = 3\n",
    "\n",
    "for epoch in trange(1, num_epochs + 1):\n",
    "    train_loss = train(model, train_loader, criterion, optimizer, device)\n",
    "    test_loss, accuracy = test(model, test_loader, criterion, device)\n",
    "    print(f\"Epoch [{epoch}/{num_epochs}], Train Loss: {train_loss:.4f}, Test Loss: {test_loss:.4f}, Accuracy: {accuracy:.4f}\")\n"
   ]
  },
  {
   "cell_type": "code",
   "execution_count": 9,
   "metadata": {},
   "outputs": [],
   "source": [
    "def mc_dropout_prediction(model, dataloader, device, num_samples=100):\n",
    "    model.train()  # Keep model in train mode to use dropout during inference\n",
    "    preds = []\n",
    "    targets = []\n",
    "    uncertainty = []\n",
    "\n",
    "    with torch.no_grad():\n",
    "        for images, labels in dataloader:\n",
    "            images, labels = images.to(device), labels.to(device).squeeze()\n",
    "            output_list = []\n",
    "\n",
    "            for _ in range(num_samples):\n",
    "                outputs = model(images)\n",
    "                output_list.append(outputs.cpu().numpy())\n",
    "\n",
    "            mean_output = np.mean(output_list, axis=0)\n",
    "            std_output = np.std(output_list, axis=0)\n",
    "            preds.extend(mean_output)\n",
    "            targets.extend(labels.cpu().numpy())\n",
    "            uncertainty.extend(std_output)\n",
    "    \n",
    "    preds = np.array(preds)\n",
    "    targets = np.array(targets)\n",
    "    uncertainty = np.array(uncertainty)\n",
    "\n",
    "    return preds, targets, uncertainty\n",
    "\n",
    "preds, targets, uncertainty = mc_dropout_prediction(model, test_loader, device, num_samples=100)\n"
   ]
  },
  {
   "cell_type": "code",
   "execution_count": 10,
   "metadata": {},
   "outputs": [
    {
     "name": "stdout",
     "output_type": "stream",
     "text": [
      "Monte Carlo dropout accuracy: 0.7932\n",
      "Uncertainty example: [[0.94682527 1.4907284  0.49134362 1.492131   0.59893215 0.8172612\n",
      "  0.5252738  0.5626353  0.68116266]\n",
      " [0.7555412  1.4634637  0.50006956 1.318801   0.43467602 0.54187965\n",
      "  0.4292     0.62421817 0.562468  ]\n",
      " [0.65500176 0.82822883 0.46499112 1.1800759  0.4003259  0.48605224\n",
      "  0.37853196 0.7219783  0.608832  ]\n",
      " [0.9139576  2.0962148  0.42465138 1.2891169  0.47500554 0.5976532\n",
      "  0.50810146 0.7259713  0.6542168 ]\n",
      " [0.6802158  1.3618137  0.47917286 1.2576927  0.5260127  0.6271961\n",
      "  0.47858176 0.88203865 0.7671072 ]\n",
      " [0.92622757 1.1417062  0.606921   1.3862468  0.5454588  0.7974535\n",
      "  0.49270293 0.6757417  0.82691246]\n",
      " [0.82175136 1.2342646  0.46236947 1.1680821  0.41149938 0.6256321\n",
      "  0.43668693 0.65808254 0.6482689 ]\n",
      " [0.5394932  0.9016741  0.559842   1.4643258  0.628896   0.5467358\n",
      "  0.55506194 1.1589154  0.66552037]\n",
      " [0.8876812  1.5164068  0.5998572  1.4142748  0.5385241  0.82425475\n",
      "  0.6761292  0.82114947 0.74252677]\n",
      " [0.7929158  1.4477091  0.46955627 1.5938109  0.4807627  0.8536554\n",
      "  0.5542275  0.99170196 0.7943942 ]]\n"
     ]
    }
   ],
   "source": [
    "mc_accuracy = np.mean(np.argmax(preds, axis=1) == targets)\n",
    "print(f\"Monte Carlo dropout accuracy: {mc_accuracy:.4f}\")\n",
    "print(f\"Uncertainty example: {uncertainty[:10]}\")\n"
   ]
  },
  {
   "cell_type": "code",
   "execution_count": 11,
   "metadata": {},
   "outputs": [
    {
     "data": {
      "image/png": "[encoded data removed]",
      "text/plain": [
       "<Figure size 1000x600 with 1 Axes>"
      ]
     },
     "metadata": {},
     "output_type": "display_data"
    }
   ],
   "source": [
    "uncertainty = uncertainty.reshape(-1)\n",
    "\n",
    "correct_indices = np.where(np.argmax(preds, axis=1) == targets)[0]\n",
    "incorrect_indices = np.where(np.argmax(preds, axis=1) != targets)[0]\n",
    "\n",
    "correct_uncertainties = uncertainty[correct_indices]\n",
    "incorrect_uncertainties = uncertainty[incorrect_indices]\n",
    "\n",
    "plt.figure(figsize=(10, 6))\n",
    "plt.hist(uncertainty, bins=30, alpha=0.5, label=\"All predictions\", color='green')\n",
    "plt.hist(correct_uncertainties, bins=30, alpha=0.5, label=\"Correct predictions\", color='blue')\n",
    "plt.hist(incorrect_uncertainties, bins=30, alpha=0.5, label=\"Incorrect predictions\", color='red')\n",
    "plt.xlabel(\"Uncertainty\")\n",
    "plt.ylabel(\"Frequency\")\n",
    "plt.legend()\n",
    "plt.title(\"Uncertainty Distribution for All, Correct, and Incorrect Predictions\")\n",
    "plt.show()\n"
   ]
  }
 ],
 "metadata": {
  "kernelspec": {
   "display_name": "torch",
   "language": "python",
   "name": "python3"
  },
  "language_info": {
   "codemirror_mode": {
    "name": "ipython",
    "version": 3
   },
   "file_extension": ".py",
   "mimetype": "text/x-python",
   "name": "python",
   "nbconvert_exporter": "python",
   "pygments_lexer": "ipython3",
   "version": "3.11.0"
  },
  "orig_nbformat": 4
 },
 "nbformat": 4,
 "nbformat_minor": 2
}
