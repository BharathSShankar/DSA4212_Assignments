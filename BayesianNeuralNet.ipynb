{
  "nbformat": 4,
  "nbformat_minor": 0,
  "metadata": {
    "colab": {
      "provenance": [],
      "include_colab_link": true
    },
    "kernelspec": {
      "name": "python3",
      "display_name": "Python 3"
    },
    "language_info": {
      "name": "python"
    },
    "accelerator": "GPU",
    "gpuClass": "standard"
  },
  "cells": [
    {
      "cell_type": "markdown",
      "metadata": {
        "id": "view-in-github",
        "colab_type": "text"
      },
      "source": [
        "<a href=\"https://colab.research.google.com/github/BharathSShankar/DSA4212_Assignments/blob/bharath-exp/BayesianNeuralNet.ipynb\" target=\"_parent\"><img src=\"https://colab.research.google.com/assets/colab-badge.svg\" alt=\"Open In Colab\"/></a>"
      ]
    },
    {
      "cell_type": "code",
      "source": [
        "!pip install medmnist torchmetrics\n",
        "!python -m medmnist download"
      ],
      "metadata": {
        "id": "39qHekF2tOcn",
        "colab": {
          "base_uri": "https://localhost:8080/"
        },
        "outputId": "823cd363-81ff-4374-f4d0-af49a17b0f0f"
      },
      "execution_count": 1,
      "outputs": [
        {
          "output_type": "stream",
          "name": "stdout",
          "text": [
            "Looking in indexes: https://pypi.org/simple, https://us-python.pkg.dev/colab-wheels/public/simple/\n",
            "Collecting medmnist\n",
            "  Downloading medmnist-2.2.1-py3-none-any.whl (21 kB)\n",
            "Collecting torchmetrics\n",
            "  Downloading torchmetrics-0.11.4-py3-none-any.whl (519 kB)\n",
            "\u001b[2K     \u001b[90m━━━━━━━━━━━━━━━━━━━━━━━━━━━━━━━━━━━━━━\u001b[0m \u001b[32m519.2/519.2 kB\u001b[0m \u001b[31m12.6 MB/s\u001b[0m eta \u001b[36m0:00:00\u001b[0m\n",
            "\u001b[?25hRequirement already satisfied: scikit-learn in /usr/local/lib/python3.9/dist-packages (from medmnist) (1.2.2)\n",
            "Requirement already satisfied: numpy in /usr/local/lib/python3.9/dist-packages (from medmnist) (1.22.4)\n",
            "Requirement already satisfied: pandas in /usr/local/lib/python3.9/dist-packages (from medmnist) (1.5.3)\n",
            "Collecting fire\n",
            "  Downloading fire-0.5.0.tar.gz (88 kB)\n",
            "\u001b[2K     \u001b[90m━━━━━━━━━━━━━━━━━━━━━━━━━━━━━━━━━━━━━━━━\u001b[0m \u001b[32m88.3/88.3 kB\u001b[0m \u001b[31m11.6 MB/s\u001b[0m eta \u001b[36m0:00:00\u001b[0m\n",
            "\u001b[?25h  Preparing metadata (setup.py) ... \u001b[?25l\u001b[?25hdone\n",
            "Requirement already satisfied: scikit-image in /usr/local/lib/python3.9/dist-packages (from medmnist) (0.19.3)\n",
            "Requirement already satisfied: tqdm in /usr/local/lib/python3.9/dist-packages (from medmnist) (4.65.0)\n",
            "Requirement already satisfied: torch in /usr/local/lib/python3.9/dist-packages (from medmnist) (2.0.0+cu118)\n",
            "Requirement already satisfied: torchvision in /usr/local/lib/python3.9/dist-packages (from medmnist) (0.15.1+cu118)\n",
            "Requirement already satisfied: Pillow in /usr/local/lib/python3.9/dist-packages (from medmnist) (8.4.0)\n",
            "Requirement already satisfied: packaging in /usr/local/lib/python3.9/dist-packages (from torchmetrics) (23.1)\n",
            "Requirement already satisfied: filelock in /usr/local/lib/python3.9/dist-packages (from torch->medmnist) (3.11.0)\n",
            "Requirement already satisfied: typing-extensions in /usr/local/lib/python3.9/dist-packages (from torch->medmnist) (4.5.0)\n",
            "Requirement already satisfied: sympy in /usr/local/lib/python3.9/dist-packages (from torch->medmnist) (1.11.1)\n",
            "Requirement already satisfied: jinja2 in /usr/local/lib/python3.9/dist-packages (from torch->medmnist) (3.1.2)\n",
            "Requirement already satisfied: triton==2.0.0 in /usr/local/lib/python3.9/dist-packages (from torch->medmnist) (2.0.0)\n",
            "Requirement already satisfied: networkx in /usr/local/lib/python3.9/dist-packages (from torch->medmnist) (3.1)\n",
            "Requirement already satisfied: cmake in /usr/local/lib/python3.9/dist-packages (from triton==2.0.0->torch->medmnist) (3.25.2)\n",
            "Requirement already satisfied: lit in /usr/local/lib/python3.9/dist-packages (from triton==2.0.0->torch->medmnist) (16.0.1)\n",
            "Requirement already satisfied: six in /usr/local/lib/python3.9/dist-packages (from fire->medmnist) (1.16.0)\n",
            "Requirement already satisfied: termcolor in /usr/local/lib/python3.9/dist-packages (from fire->medmnist) (2.2.0)\n",
            "Requirement already satisfied: pytz>=2020.1 in /usr/local/lib/python3.9/dist-packages (from pandas->medmnist) (2022.7.1)\n",
            "Requirement already satisfied: python-dateutil>=2.8.1 in /usr/local/lib/python3.9/dist-packages (from pandas->medmnist) (2.8.2)\n",
            "Requirement already satisfied: scipy>=1.4.1 in /usr/local/lib/python3.9/dist-packages (from scikit-image->medmnist) (1.10.1)\n",
            "Requirement already satisfied: imageio>=2.4.1 in /usr/local/lib/python3.9/dist-packages (from scikit-image->medmnist) (2.25.1)\n",
            "Requirement already satisfied: PyWavelets>=1.1.1 in /usr/local/lib/python3.9/dist-packages (from scikit-image->medmnist) (1.4.1)\n",
            "Requirement already satisfied: tifffile>=2019.7.26 in /usr/local/lib/python3.9/dist-packages (from scikit-image->medmnist) (2023.4.12)\n",
            "Requirement already satisfied: threadpoolctl>=2.0.0 in /usr/local/lib/python3.9/dist-packages (from scikit-learn->medmnist) (3.1.0)\n",
            "Requirement already satisfied: joblib>=1.1.1 in /usr/local/lib/python3.9/dist-packages (from scikit-learn->medmnist) (1.2.0)\n",
            "Requirement already satisfied: requests in /usr/local/lib/python3.9/dist-packages (from torchvision->medmnist) (2.27.1)\n",
            "Requirement already satisfied: MarkupSafe>=2.0 in /usr/local/lib/python3.9/dist-packages (from jinja2->torch->medmnist) (2.1.2)\n",
            "Requirement already satisfied: certifi>=2017.4.17 in /usr/local/lib/python3.9/dist-packages (from requests->torchvision->medmnist) (2022.12.7)\n",
            "Requirement already satisfied: charset-normalizer~=2.0.0 in /usr/local/lib/python3.9/dist-packages (from requests->torchvision->medmnist) (2.0.12)\n",
            "Requirement already satisfied: urllib3<1.27,>=1.21.1 in /usr/local/lib/python3.9/dist-packages (from requests->torchvision->medmnist) (1.26.15)\n",
            "Requirement already satisfied: idna<4,>=2.5 in /usr/local/lib/python3.9/dist-packages (from requests->torchvision->medmnist) (3.4)\n",
            "Requirement already satisfied: mpmath>=0.19 in /usr/local/lib/python3.9/dist-packages (from sympy->torch->medmnist) (1.3.0)\n",
            "Building wheels for collected packages: fire\n",
            "  Building wheel for fire (setup.py) ... \u001b[?25l\u001b[?25hdone\n",
            "  Created wheel for fire: filename=fire-0.5.0-py2.py3-none-any.whl size=116952 sha256=621a8b26873e6797ca77fb806810b58735b4c9a3351337b6a6c74e76951cdd7b\n",
            "  Stored in directory: /root/.cache/pip/wheels/f7/f1/89/b9ea2bf8f80ec027a88fef1d354b3816b4d3d29530988972f6\n",
            "Successfully built fire\n",
            "Installing collected packages: fire, torchmetrics, medmnist\n",
            "Successfully installed fire-0.5.0 medmnist-2.2.1 torchmetrics-0.11.4\n",
            "Downloading pathmnist...\n",
            "Downloading https://zenodo.org/record/6496656/files/pathmnist.npz?download=1 to /root/.medmnist/pathmnist.npz\n",
            "100% 205615438/205615438 [01:53<00:00, 1814791.85it/s]\n",
            "Downloading chestmnist...\n",
            "Downloading https://zenodo.org/record/6496656/files/chestmnist.npz?download=1 to /root/.medmnist/chestmnist.npz\n",
            "100% 82802576/82802576 [00:49<00:00, 1674644.40it/s]\n",
            "Downloading dermamnist...\n",
            "Downloading https://zenodo.org/record/6496656/files/dermamnist.npz?download=1 to /root/.medmnist/dermamnist.npz\n",
            "100% 19725078/19725078 [00:07<00:00, 2668070.33it/s]\n",
            "Downloading octmnist...\n",
            "Downloading https://zenodo.org/record/6496656/files/octmnist.npz?download=1 to /root/.medmnist/octmnist.npz\n",
            "100% 54938180/54938180 [01:43<00:00, 532458.74it/s]\n",
            "Downloading pneumoniamnist...\n",
            "Downloading https://zenodo.org/record/6496656/files/pneumoniamnist.npz?download=1 to /root/.medmnist/pneumoniamnist.npz\n",
            "100% 4170669/4170669 [00:07<00:00, 545168.73it/s]\n",
            "Downloading retinamnist...\n",
            "Downloading https://zenodo.org/record/6496656/files/retinamnist.npz?download=1 to /root/.medmnist/retinamnist.npz\n",
            "100% 3291041/3291041 [00:06<00:00, 535135.17it/s]\n",
            "Downloading breastmnist...\n",
            "Downloading https://zenodo.org/record/6496656/files/breastmnist.npz?download=1 to /root/.medmnist/breastmnist.npz\n",
            "100% 559580/559580 [00:01<00:00, 516024.26it/s]\n",
            "Downloading bloodmnist...\n",
            "Downloading https://zenodo.org/record/6496656/files/bloodmnist.npz?download=1 to /root/.medmnist/bloodmnist.npz\n",
            "100% 35461855/35461855 [01:06<00:00, 535549.27it/s]\n",
            "Downloading tissuemnist...\n",
            "Downloading https://zenodo.org/record/6496656/files/tissuemnist.npz?download=1 to /root/.medmnist/tissuemnist.npz\n",
            "100% 124962739/124962739 [01:33<00:00, 1341564.15it/s]\n",
            "Downloading organamnist...\n",
            "Downloading https://zenodo.org/record/6496656/files/organamnist.npz?download=1 to /root/.medmnist/organamnist.npz\n",
            "100% 38247903/38247903 [01:11<00:00, 533569.91it/s]\n",
            "Downloading organcmnist...\n",
            "Downloading https://zenodo.org/record/6496656/files/organcmnist.npz?download=1 to /root/.medmnist/organcmnist.npz\n",
            "100% 15527535/15527535 [00:29<00:00, 531809.17it/s]\n",
            "Downloading organsmnist...\n",
            "Downloading https://zenodo.org/record/6496656/files/organsmnist.npz?download=1 to /root/.medmnist/organsmnist.npz\n",
            "100% 16528536/16528536 [00:21<00:00, 767629.40it/s] \n",
            "Downloading organmnist3d...\n",
            "Downloading https://zenodo.org/record/6496656/files/organmnist3d.npz?download=1 to /root/.medmnist/organmnist3d.npz\n",
            "100% 32657407/32657407 [01:00<00:00, 539387.86it/s]\n",
            "Downloading nodulemnist3d...\n",
            "Downloading https://zenodo.org/record/6496656/files/nodulemnist3d.npz?download=1 to /root/.medmnist/nodulemnist3d.npz\n",
            "100% 29299364/29299364 [00:54<00:00, 534867.10it/s]\n",
            "Downloading adrenalmnist3d...\n",
            "Downloading https://zenodo.org/record/6496656/files/adrenalmnist3d.npz?download=1 to /root/.medmnist/adrenalmnist3d.npz\n",
            "100% 276833/276833 [00:00<00:00, 574100.81it/s]\n",
            "Downloading fracturemnist3d...\n",
            "Downloading https://zenodo.org/record/6496656/files/fracturemnist3d.npz?download=1 to /root/.medmnist/fracturemnist3d.npz\n",
            "100% 3278419/3278419 [00:06<00:00, 535059.53it/s]\n",
            "Downloading vesselmnist3d...\n",
            "Downloading https://zenodo.org/record/6496656/files/vesselmnist3d.npz?download=1 to /root/.medmnist/vesselmnist3d.npz\n",
            "100% 398373/398373 [00:00<00:00, 467954.48it/s]\n",
            "Downloading synapsemnist3d...\n",
            "Downloading https://zenodo.org/record/6496656/files/synapsemnist3d.npz?download=1 to /root/.medmnist/synapsemnist3d.npz\n",
            "100% 38034583/38034583 [01:01<00:00, 621275.18it/s]\n"
          ]
        }
      ]
    },
    {
      "cell_type": "code",
      "source": [
        "from tqdm import tqdm\n",
        "import numpy as np\n",
        "import torch\n",
        "import torch.nn as nn\n",
        "import torch.optim as optim\n",
        "import torch.utils.data as data\n",
        "import torchvision.transforms as transforms\n",
        "import torch.nn.functional as F\n",
        "from torchvision import datasets, transforms\n",
        "import matplotlib.pyplot as plt\n",
        "from tqdm import tqdm, trange"
      ],
      "metadata": {
        "id": "lmmUvxZDmRz_"
      },
      "execution_count": 2,
      "outputs": []
    },
    {
      "cell_type": "code",
      "source": [
        "import medmnist\n",
        "from medmnist import INFO, Evaluator"
      ],
      "metadata": {
        "id": "5FJe6S9YmRwg"
      },
      "execution_count": 5,
      "outputs": []
    },
    {
      "cell_type": "code",
      "source": [
        "data_flag = 'pathmnist'\n",
        "# data_flag = 'breastmnist'\n",
        "download = True\n",
        "\n",
        "NUM_EPOCHS = 3\n",
        "BATCH_SIZE = 128\n",
        "lr = 0.001\n",
        "\n",
        "info = INFO[data_flag]\n",
        "task = info['task']\n",
        "n_channels = info['n_channels']\n",
        "n_classes = len(info['label'])\n",
        "\n",
        "DataClass = getattr(medmnist, info['python_class'])\n"
      ],
      "metadata": {
        "id": "0id9rD1omRqQ"
      },
      "execution_count": 6,
      "outputs": []
    },
    {
      "cell_type": "code",
      "source": [
        "# preprocessing\n",
        "data_transform = transforms.Compose([\n",
        "    transforms.ToTensor(),\n",
        "    transforms.Normalize(mean=[.5], std=[.5])\n",
        "])\n",
        "\n",
        "# load the data\n",
        "train_dataset = DataClass(split='train', transform=data_transform, download=download)\n",
        "test_dataset = DataClass(split='test', transform=data_transform, download=download)\n",
        "\n",
        "pil_dataset = DataClass(split='train', download=download)\n",
        "\n",
        "# encapsulate data into dataloader form\n",
        "train_loader = data.DataLoader(dataset=train_dataset, batch_size=BATCH_SIZE, shuffle=True)\n",
        "train_loader_at_eval = data.DataLoader(dataset=train_dataset, batch_size=2*BATCH_SIZE, shuffle=False)\n",
        "test_loader = data.DataLoader(dataset=test_dataset, batch_size=2*BATCH_SIZE, shuffle=False)"
      ],
      "metadata": {
        "id": "VhsA3s83hYWi",
        "colab": {
          "base_uri": "https://localhost:8080/"
        },
        "outputId": "fd256c78-62dd-44bd-b34c-111b6f72af54"
      },
      "execution_count": 7,
      "outputs": [
        {
          "output_type": "stream",
          "name": "stdout",
          "text": [
            "Using downloaded and verified file: /root/.medmnist/pathmnist.npz\n",
            "Using downloaded and verified file: /root/.medmnist/pathmnist.npz\n",
            "Using downloaded and verified file: /root/.medmnist/pathmnist.npz\n"
          ]
        }
      ]
    },
    {
      "cell_type": "code",
      "source": [
        "DEVICE = torch.device(\"cuda\" if torch.cuda.is_available() else \"cpu\")\n",
        "PI = 0.5\n",
        "SIGMA_1 = torch.FloatTensor([np.exp(1)]).to(DEVICE)\n",
        "SIGMA_2 = torch.FloatTensor([np.exp(-4)]).to(DEVICE)"
      ],
      "metadata": {
        "id": "IkukrBGf17Sx"
      },
      "execution_count": 8,
      "outputs": []
    },
    {
      "cell_type": "code",
      "source": [
        "class Gaussian(object):\n",
        "    def __init__(self, mu, rho):\n",
        "        super().__init__()\n",
        "        self.mu = mu\n",
        "        self.rho = rho\n",
        "        self.normal = torch.distributions.Normal(0,1)\n",
        "    \n",
        "    @property\n",
        "    def sigma(self):\n",
        "        return torch.log1p(torch.exp(self.rho))\n",
        "    \n",
        "    def sample(self):\n",
        "        epsilon = self.normal.sample(self.rho.size()).to(DEVICE)\n",
        "        return self.mu + self.sigma * epsilon\n",
        "    \n",
        "    def log_prob(self, input):\n",
        "        return (-np.log(np.sqrt(2 * np.pi))\n",
        "                - torch.log(self.sigma)\n",
        "                - ((input - self.mu) ** 2) / (2 * self.sigma ** 2)).sum()"
      ],
      "metadata": {
        "id": "KThYGJYb16lN"
      },
      "execution_count": 9,
      "outputs": []
    },
    {
      "cell_type": "code",
      "source": [
        "class ScaleMixtureGaussian(object):\n",
        "    def __init__(self, pi, sigma1, sigma2):\n",
        "        super().__init__()\n",
        "        self.pi = pi\n",
        "        self.sigma1 = sigma1\n",
        "        self.sigma2 = sigma2\n",
        "        self.gaussian1 = torch.distributions.Normal(0,sigma1)\n",
        "        self.gaussian2 = torch.distributions.Normal(0,sigma2)\n",
        "    \n",
        "    def log_prob(self, input):\n",
        "        prob1 = torch.exp(self.gaussian1.log_prob(input))\n",
        "        prob2 = torch.exp(self.gaussian2.log_prob(input))\n",
        "        return (torch.log(self.pi * prob1 + (1-self.pi) * prob2)).sum()"
      ],
      "metadata": {
        "id": "Gik9nYhW2TvA"
      },
      "execution_count": 10,
      "outputs": []
    },
    {
      "cell_type": "code",
      "source": [
        "class BayesianDense(nn.Module):\n",
        "    def __init__(self, in_features, out_features):\n",
        "        super().__init__()\n",
        "        self.in_features = in_features\n",
        "        self.out_features = out_features\n",
        "\n",
        "        self.weight_mu = nn.Parameter(torch.Tensor(out_features, in_features).uniform_(-0.1, 0.1))\n",
        "        self.weight_rho = nn.Parameter(torch.Tensor(out_features, in_features).uniform_(-7,-5))\n",
        "        self.weight = Gaussian(self.weight_mu, self.weight_rho)\n",
        "\n",
        "        self.bias_mu = nn.Parameter(torch.Tensor(out_features).uniform_(-0.1, 0.1))\n",
        "        self.bias_rho = nn.Parameter(torch.Tensor(out_features).uniform_(-7,-5))\n",
        "        self.bias = Gaussian(self.bias_mu, self.bias_rho)\n",
        "\n",
        "        self.weight_prior = ScaleMixtureGaussian(PI, SIGMA_1, SIGMA_2)\n",
        "        self.bias_prior = ScaleMixtureGaussian(PI, SIGMA_1, SIGMA_2)\n",
        "        self.log_prior = 0\n",
        "        self.log_variational_posterior = 0\n",
        "\n",
        "    def forward(self, input, sample=False, calculate_log_probs=False):\n",
        "        if self.training or sample:\n",
        "            weight = self.weight.sample()\n",
        "            bias = self.bias.sample()\n",
        "        else:\n",
        "            weight = self.weight.mu\n",
        "            bias = self.bias.mu\n",
        "        if self.training or calculate_log_probs:\n",
        "            self.log_prior = self.weight_prior.log_prob(weight) + self.bias_prior.log_prob(bias)\n",
        "            self.log_variational_posterior = self.weight.log_prob(weight) + self.bias.log_prob(bias)\n",
        "        else:\n",
        "            self.log_prior, self.log_variational_posterior = 0, 0\n",
        "\n",
        "        return F.linear(input, weight, bias)\n",
        "    \n",
        "    def kl_loss(self):\n",
        "        kl = self.weight_prior.log_prob(self.weight.mu) - self.weight.log_prob(self.weight.mu)\n",
        "        kl += self.bias_prior.log_prob(self.bias.mu) - self.bias.log_prob(self.bias.mu)\n",
        "        return kl.sum()"
      ],
      "metadata": {
        "id": "h6JucxETUk-4"
      },
      "execution_count": 11,
      "outputs": []
    },
    {
      "cell_type": "code",
      "source": [
        "class BayesianConv2D(nn.Module):\n",
        "    def __init__(self, in_channels, out_channels, k_size):\n",
        "        super().__init__()\n",
        "        self.in_channels = in_channels\n",
        "        self.out_channels = out_channels\n",
        "        self.k_size = k_size\n",
        "\n",
        "        self.weight_mu = nn.Parameter(torch.Tensor(out_channels, in_channels, k_size, k_size).uniform_(-0.1, 0.1))\n",
        "        self.weight_rho = nn.Parameter(torch.Tensor(out_channels, in_channels, k_size,k_size).uniform_(-7,-5))\n",
        "        self.weight = Gaussian(self.weight_mu, self.weight_rho)\n",
        "\n",
        "        self.bias_mu = nn.Parameter(torch.Tensor(out_channels).uniform_(-0.1, 0.1))\n",
        "        self.bias_rho = nn.Parameter(torch.Tensor(out_channels).uniform_(-7,-5))\n",
        "        self.bias = Gaussian(self.bias_mu, self.bias_rho)\n",
        "\n",
        "        self.weight_prior = ScaleMixtureGaussian(PI, SIGMA_1, SIGMA_2)\n",
        "        self.bias_prior = ScaleMixtureGaussian(PI, SIGMA_1, SIGMA_2)\n",
        "        self.log_prior = 0\n",
        "        self.log_variational_posterior = 0\n",
        "\n",
        "    def forward(self, input, sample=False, calculate_log_probs=False):\n",
        "        if self.training or sample:\n",
        "            weight = self.weight.sample()\n",
        "            bias = self.bias.sample()\n",
        "        else:\n",
        "            weight = self.weight.mu\n",
        "            bias = self.bias.mu\n",
        "        if self.training or calculate_log_probs:\n",
        "            self.log_prior = self.weight_prior.log_prob(weight) + self.bias_prior.log_prob(bias)\n",
        "            self.log_variational_posterior = self.weight.log_prob(weight) + self.bias.log_prob(bias)\n",
        "        else:\n",
        "            self.log_prior, self.log_variational_posterior = 0, 0\n",
        "\n",
        "        return F.conv2d(input, weight, bias)\n",
        "    \n",
        "    def kl_loss(self):\n",
        "        kl = self.weight_prior.log_prob(self.weight.mu) - self.weight.log_prob(self.weight.mu)\n",
        "        kl += self.bias_prior.log_prob(self.bias.mu) - self.bias.log_prob(self.bias.mu)\n",
        "        return kl.sum()"
      ],
      "metadata": {
        "id": "Teuk8UqS3Q80"
      },
      "execution_count": 12,
      "outputs": []
    },
    {
      "cell_type": "code",
      "source": [
        "class BayesianNeuralNetFC(nn.Module):\n",
        "    def __init__(self, layers_dims, input_size, n_classes):\n",
        "        super().__init__()\n",
        "        self.inputLayer = BayesianDense(input_size, layers_dims[0])\n",
        "        layer_list = []\n",
        "        for i in range(1, len(layers_dims)):\n",
        "            layer_list.append(BayesianDense(layers_dims[i - 1], layers_dims[i]))\n",
        "        self.linears = nn.ModuleList(layer_list)\n",
        "        self.outputLayer = BayesianDense(layers_dims[-1], n_classes)\n",
        "    \n",
        "    def forward(self, input, sample=False, calculate_log_probs=False):\n",
        "        x = nn.Flatten()(input)\n",
        "        x = self.inputLayer(x, sample, calculate_log_probs)\n",
        "        x = F.relu(x)\n",
        "        x = nn.Dropout(p=0.1)(x)\n",
        "        for layer in self.linears:\n",
        "            x = layer(x, sample, calculate_log_probs)\n",
        "            x = F.relu(x)\n",
        "            x = nn.Dropout(p=0.1)(x)\n",
        "        x = self.outputLayer(x)\n",
        "        return x\n",
        "\n",
        "    def kl_loss(self):\n",
        "        kl = 0.0\n",
        "        for layer in self.linears:\n",
        "            kl += layer.kl_loss()\n",
        "        kl += self.inputLayer.kl_loss()\n",
        "        kl += self.outputLayer.kl_loss()\n",
        "        return kl"
      ],
      "metadata": {
        "id": "QwlML0Db4kPg"
      },
      "execution_count": 13,
      "outputs": []
    },
    {
      "cell_type": "code",
      "source": [
        "def train_bayesian_net(net, train_loader, test_loader, is_bayes=False, n_epochs=3, lr=3e-4, log_interval=10, beta=1e-7):\n",
        "    # Define loss function and optimizer\n",
        "    loss_func = nn.CrossEntropyLoss()\n",
        "    optimizer = optim.Adam(net.parameters(), lr=lr)\n",
        "\n",
        "    # Move model to device\n",
        "    net.to(DEVICE)\n",
        "\n",
        "    # Training loop\n",
        "    for epoch in range(n_epochs):\n",
        "        # Training mode\n",
        "        net.train()\n",
        "        train_loss = 0\n",
        "        ce_loss = 0\n",
        "        kl_loss = 0\n",
        "        correct = 0\n",
        "        total = 0\n",
        "        with tqdm(train_loader, desc=f\"Epoch {epoch+1}\") as t:\n",
        "            for batch_idx, (data, target) in enumerate(t):\n",
        "                data, target = data.to(DEVICE), target.to(DEVICE)\n",
        "\n",
        "                # Forward pass\n",
        "                optimizer.zero_grad()\n",
        "                outputs = net(data)\n",
        "\n",
        "                # Compute loss and update model\n",
        "                if is_bayes:\n",
        "                    ce_loss = loss_func(outputs, target.T[0])\n",
        "                    kl_loss = net.kl_loss()\n",
        "                    loss = ce_loss - beta * kl_loss\n",
        "                else:\n",
        "                    loss = loss_func(outputs, target.T[0])\n",
        "\n",
        "                loss.backward()\n",
        "                optimizer.step()\n",
        "\n",
        "                # Update training statistics\n",
        "                train_loss += loss.item()\n",
        "                _, predicted = outputs.max(1)\n",
        "                total += data.shape[0]\n",
        "                correct += predicted.eq(target.T[0]).sum().item()\n",
        "\n",
        "                # Log training progress\n",
        "                if batch_idx % log_interval == 0:\n",
        "                    train_acc = correct / total\n",
        "                    train_loss /= log_interval\n",
        "                    ce_loss /= log_interval\n",
        "                    kl_loss /= log_interval\n",
        "                    t.set_postfix(ce_loss=f\"{ce_loss:.6f}\", kl_loss=f\"{kl_loss:.6f}\", loss=f\"{train_loss:.6f}\", accuracy=f\"{train_acc:.2f}\")\n",
        "                    train_loss = 0\n",
        "                    ce_loss = 0\n",
        "                    kl_loss = 0\n",
        "                    correct = 0\n",
        "                    total = 0\n",
        "\n",
        "        # Evaluation mode\n",
        "        net.eval()\n",
        "        test_loss = 0\n",
        "        ce_loss = 0\n",
        "        kl_loss = 0\n",
        "        correct = 0\n",
        "        total = 0\n",
        "        with torch.no_grad():\n",
        "            for data, target in test_loader:\n",
        "                data, target = data.to(DEVICE), target.to(DEVICE)\n",
        "\n",
        "                # Forward pass\n",
        "                outputs = net(data)\n",
        "\n",
        "                # Compute loss and update evaluation statistics\n",
        "                if is_bayes:\n",
        "                    ce_loss = loss_func(outputs, target.T[0])\n",
        "                    kl_loss = net.kl_loss()\n",
        "                    loss = ce_loss - beta * kl_loss\n",
        "                else:\n",
        "                    loss = loss_func(outputs, target.T[0])\n",
        "\n",
        "                test_loss += loss.item()\n",
        "                _, predicted = outputs.max(1)\n",
        "                total += data.shape[0]\n",
        "                correct += predicted.eq(target.T[0]).sum().item()\n",
        "\n",
        "        # Log evaluation statistics\n",
        "        test_acc = 100. * correct / total\n",
        "        test_loss /= len(test_loader)\n",
        "        if is_bayes:\n",
        "            print('Test set: Average loss: {:.4f}, CE loss: {:.4f}, KL loss: {:.4f}, Accuracy: {:.2f}%\\n'.format(\n",
        "                test_loss, ce_loss, kl_loss, test_acc))\n",
        "        else:\n",
        "            print('Test set: Average loss: {:.4f}, Accuracy: {:.4f}'.format(\n",
        "                test_loss,test_acc))"
      ],
      "metadata": {
        "id": "raikcJBO56ad"
      },
      "execution_count": 19,
      "outputs": []
    },
    {
      "cell_type": "code",
      "source": [
        "net = BayesianNeuralNetFC([128, 256, 64], 3 * 28 * 28, 9)\n",
        "train_bayesian_net(net, train_loader, test_loader, is_bayes = True)"
      ],
      "metadata": {
        "id": "BVvMsef_pUZf"
      },
      "execution_count": null,
      "outputs": []
    },
    {
      "cell_type": "code",
      "source": [
        "net= nn.Sequential(\n",
        "    nn.Flatten(),\n",
        "    nn.LazyLinear(128),\n",
        "    nn.ReLU(),\n",
        "    nn.Dropout(0.1),\n",
        "    nn.LazyLinear(256),\n",
        "    nn.ReLU(),\n",
        "    nn.Dropout(0.1),\n",
        "    nn.LazyLinear(64),\n",
        "    nn.ReLU(),\n",
        "    nn.Dropout(0.1),\n",
        "    nn.LazyLinear(9),\n",
        "    nn.Softmax(dim = 1)\n",
        ").to(DEVICE)\n",
        "train_bayesian_net(net, train_loader, test_loader)"
      ],
      "metadata": {
        "id": "AAPJIjrhC5es"
      },
      "execution_count": null,
      "outputs": []
    },
    {
      "cell_type": "code",
      "source": [
        "class BayesianNeuralNetConv(nn.Module):\n",
        "    def __init__(self, channel_list, input_channels, n_classes):\n",
        "        super().__init__()\n",
        "        self.inputLayer = BayesianConv2D(input_channels, channel_list[0], k_size=3)\n",
        "        layer_list = []\n",
        "        for i in range(1, len(channel_list)):\n",
        "            layer_list.append(BayesianConv2D(channel_list[i - 1], channel_list[i], k_size=1))\n",
        "        self.convs = nn.ModuleList(layer_list)\n",
        "        self.fc = BayesianDense(channel_list[-1] * 9, n_classes)\n",
        "    \n",
        "    def forward(self, input, sample=False, calculate_log_probs=False):\n",
        "        x = self.inputLayer(input, sample, calculate_log_probs)\n",
        "        x = F.rrelu(x)\n",
        "        x = F.max_pool2d(x, 2)\n",
        "        for conv in self.convs:\n",
        "            x = conv(x, sample, calculate_log_probs)\n",
        "            x = F.rrelu(x)\n",
        "            x = F.max_pool2d(x, 2)\n",
        "        x = nn.Flatten()(x)\n",
        "        x = self.fc(x, sample, calculate_log_probs)\n",
        "        return x\n",
        "    \n",
        "    def kl_loss(self):\n",
        "        kl = 0.0\n",
        "        for layer in self.convs:\n",
        "            kl += layer.kl_loss()\n",
        "        kl += self.inputLayer.kl_loss()\n",
        "        kl += self.fc.kl_loss()\n",
        "        return kl\n"
      ],
      "metadata": {
        "id": "x4efws5kEV6Q"
      },
      "execution_count": 16,
      "outputs": []
    },
    {
      "cell_type": "code",
      "source": [
        "net = BayesianNeuralNetConv([128, 256, 512], 3, 9)\n",
        "train_bayesian_net(net, train_loader, test_loader, is_bayes = True)"
      ],
      "metadata": {
        "colab": {
          "base_uri": "https://localhost:8080/"
        },
        "id": "KLfaDJqqyrQL",
        "outputId": "cc487e31-e14a-45ff-9b46-cfaeb3438067"
      },
      "execution_count": 20,
      "outputs": [
        {
          "output_type": "stream",
          "name": "stderr",
          "text": [
            "Epoch 1: 100%|██████████| 704/704 [00:59<00:00, 11.76it/s, accuracy=0.75, ce_loss=0.077734, kl_loss=-117542.554688, loss=0.837853]\n"
          ]
        },
        {
          "output_type": "stream",
          "name": "stdout",
          "text": [
            "Test set: Average loss: 0.9821, CE loss: 0.6340, KL loss: -1175367.1250, Accuracy: 77.20%\n",
            "\n"
          ]
        },
        {
          "output_type": "stream",
          "name": "stderr",
          "text": [
            "Epoch 2: 100%|██████████| 704/704 [00:58<00:00, 12.00it/s, accuracy=0.80, ce_loss=0.077725, kl_loss=-116911.304688, loss=0.689393]\n"
          ]
        },
        {
          "output_type": "stream",
          "name": "stdout",
          "text": [
            "Test set: Average loss: 1.0101, CE loss: 0.6897, KL loss: -1169098.2500, Accuracy: 73.76%\n",
            "\n"
          ]
        },
        {
          "output_type": "stream",
          "name": "stderr",
          "text": [
            "Epoch 3: 100%|██████████| 704/704 [00:58<00:00, 12.01it/s, accuracy=0.81, ce_loss=0.060770, kl_loss=-116361.023438, loss=0.633698]\n"
          ]
        },
        {
          "output_type": "stream",
          "name": "stdout",
          "text": [
            "Test set: Average loss: 1.1381, CE loss: 0.6932, KL loss: -1163561.7500, Accuracy: 74.51%\n",
            "\n"
          ]
        }
      ]
    },
    {
      "cell_type": "code",
      "source": [
        "def get_prediction_probabilities(model, test_loader, n=10):\n",
        "    model.eval()\n",
        "    logits = torch.zeros((n, len(test_loader.dataset), model.fc.out_features))\n",
        "    labels = torch.zeros((len(test_loader.dataset)))\n",
        "    with torch.no_grad():\n",
        "        for i in range(n):\n",
        "            for j, (inputs, targets) in enumerate(test_loader):\n",
        "                inputs = inputs.to(DEVICE)\n",
        "                targets = targets.to(DEVICE)\n",
        "                outputs = model(inputs, True, True)\n",
        "                logits[i, j*test_loader.batch_size:(j+1)*test_loader.batch_size] = outputs\n",
        "                labels[j*test_loader.batch_size:(j+1)*test_loader.batch_size] = targets.T[0]\n",
        "    probabilities = torch.softmax(logits, dim=-1)\n",
        "    mean_probs = torch.mean(probabilities, dim=0)\n",
        "    predictive_entropy = -torch.sum(mean_probs * torch.log(mean_probs), dim=-1)\n",
        "    return logits, probabilities, predictive_entropy, labels\n",
        "\n",
        "logits, probabilities, predictive_entropy, labels = get_prediction_probabilities(net, test_loader, 10)"
      ],
      "metadata": {
        "id": "nFLiOK420lzv"
      },
      "execution_count": 21,
      "outputs": []
    },
    {
      "cell_type": "code",
      "source": [
        "print(logits[:, 1])"
      ],
      "metadata": {
        "colab": {
          "base_uri": "https://localhost:8080/"
        },
        "id": "9BIyuI-lKt6g",
        "outputId": "e14f611c-dd13-49a7-fcaa-2d8941b31b48"
      },
      "execution_count": 22,
      "outputs": [
        {
          "output_type": "stream",
          "name": "stdout",
          "text": [
            "tensor([[-2.3357, -2.8012, -3.4424, -7.2041,  3.0641, -1.7646,  0.5326,  1.2331,\n",
            "         -3.1218],\n",
            "        [-2.2026, -2.6125, -3.9419, -6.3811,  3.0603, -2.0508,  0.7576,  0.7787,\n",
            "         -2.8577],\n",
            "        [-2.2714, -2.9328, -3.4846, -6.6636,  2.8130, -1.5303,  0.8061,  1.2011,\n",
            "         -2.9003],\n",
            "        [-2.3162, -2.5014, -3.8882, -6.8814,  3.2804, -1.8435,  0.7750,  0.9494,\n",
            "         -3.0818],\n",
            "        [-2.3098, -2.8382, -3.4280, -7.1369,  3.0445, -1.4302,  0.6599,  1.4373,\n",
            "         -3.0748],\n",
            "        [-2.1641, -2.8708, -3.4462, -7.1711,  3.1172, -1.1977,  0.4775,  1.5482,\n",
            "         -3.1859],\n",
            "        [-2.1828, -2.9823, -3.5555, -7.5515,  3.1620, -1.1902,  0.7007,  1.4106,\n",
            "         -2.9262],\n",
            "        [-1.9803, -2.5128, -3.7384, -6.4184,  3.2800, -1.6811,  0.5380,  1.1982,\n",
            "         -3.2883],\n",
            "        [-2.2732, -2.7890, -3.8550, -6.3579,  3.0107, -1.6099,  0.6252,  1.1661,\n",
            "         -3.1660],\n",
            "        [-2.1451, -2.5705, -3.7246, -6.9516,  3.1551, -1.4519,  0.6970,  1.2088,\n",
            "         -2.9551]])\n"
          ]
        }
      ]
    },
    {
      "cell_type": "code",
      "source": [
        "print(probabilities[:, 1])"
      ],
      "metadata": {
        "colab": {
          "base_uri": "https://localhost:8080/"
        },
        "id": "wJ8Y4faOZwlT",
        "outputId": "f2d15ce2-51c9-4d6b-bbaa-1bc8e6b0e71d"
      },
      "execution_count": 23,
      "outputs": [
        {
          "output_type": "stream",
          "name": "stdout",
          "text": [
            "tensor([[3.5888e-03, 2.2531e-03, 1.1866e-03, 2.7582e-05, 7.9445e-01, 6.3531e-03,\n",
            "         6.3189e-02, 1.2732e-01, 1.6352e-03],\n",
            "        [4.2445e-03, 2.8172e-03, 7.4549e-04, 6.5033e-05, 8.1939e-01, 4.9404e-03,\n",
            "         8.1923e-02, 8.3672e-02, 2.2046e-03],\n",
            "        [4.5482e-03, 2.3475e-03, 1.3519e-03, 5.6275e-05, 7.3449e-01, 9.5436e-03,\n",
            "         9.8712e-02, 1.4653e-01, 2.4249e-03],\n",
            "        [3.1073e-03, 2.5820e-03, 6.4514e-04, 3.2341e-05, 8.3743e-01, 4.9849e-03,\n",
            "         6.8371e-02, 8.1400e-02, 1.4450e-03],\n",
            "        [3.5945e-03, 2.1192e-03, 1.1750e-03, 2.8792e-05, 7.6029e-01, 8.6626e-03,\n",
            "         7.0046e-02, 1.5241e-01, 1.6727e-03],\n",
            "        [3.9006e-03, 1.9241e-03, 1.0822e-03, 2.6099e-05, 7.6696e-01, 1.0253e-02,\n",
            "         5.4743e-02, 1.5971e-01, 1.4039e-03],\n",
            "        [3.7227e-03, 1.6735e-03, 9.4346e-04, 1.7349e-05, 7.7993e-01, 1.0045e-02,\n",
            "         6.6546e-02, 1.3535e-01, 1.7701e-03],\n",
            "        [4.3040e-03, 2.5271e-03, 7.4188e-04, 5.0869e-05, 8.2866e-01, 5.8053e-03,\n",
            "         5.3404e-02, 1.0334e-01, 1.1637e-03],\n",
            "        [3.9901e-03, 2.3823e-03, 8.2036e-04, 6.7144e-05, 7.8661e-01, 7.7452e-03,\n",
            "         7.2398e-02, 1.2435e-01, 1.6341e-03],\n",
            "        [3.9929e-03, 2.6092e-03, 8.2280e-04, 3.2646e-05, 8.0004e-01, 7.9855e-03,\n",
            "         6.8485e-02, 1.1425e-01, 1.7761e-03]])\n"
          ]
        }
      ]
    },
    {
      "cell_type": "code",
      "source": [
        "print(labels[1])"
      ],
      "metadata": {
        "colab": {
          "base_uri": "https://localhost:8080/"
        },
        "id": "GiPqS4CWQmAU",
        "outputId": "af9b4ca4-20e0-417c-d63b-6fca9a486c39"
      },
      "execution_count": 24,
      "outputs": [
        {
          "output_type": "stream",
          "name": "stdout",
          "text": [
            "tensor(4.)\n"
          ]
        }
      ]
    },
    {
      "cell_type": "code",
      "source": [
        "import matplotlib.pyplot as plt\n",
        "\n",
        "def display_image_with_probabilities(image, probabilities):\n",
        "    \"\"\"\n",
        "    Displays an RGB image in the left pane and shows the calculated probabilities on the right pane.\n",
        "\n",
        "    Args:\n",
        "    - image: A PyTorch tensor representing the RGB image.\n",
        "    - probabilities: A PyTorch tensor representing the predicted probabilities.\n",
        "\n",
        "    Returns: None\n",
        "    \"\"\"\n",
        "    image = image.detach().cpu().numpy()\n",
        "\n",
        "    # Convert the probabilities tensor to a NumPy array\n",
        "    probabilities = probabilities.detach().cpu().numpy()\n",
        "\n",
        "    # Create a figure with two subplots\n",
        "    fig, (ax1, ax2) = plt.subplots(ncols=2)\n",
        "\n",
        "    # Display the image in the left subplot\n",
        "    ax1.imshow(image.transpose(1,2,0))\n",
        "\n",
        "    # Set the title of the left subplot\n",
        "    ax1.set_title('Image')\n",
        "\n",
        "    # Create a bar chart of the probabilities in the right subplot\n",
        "    ax2.barh(range(probabilities.shape[1]), probabilities.squeeze())\n",
        "\n",
        "    # Set the y-axis tick labels to the class names\n",
        "    ax2.set_yticks(range(probabilities.shape[1]))\n",
        "    ax2.set_yticklabels(range(probabilities.shape[1]))\n",
        "\n",
        "    # Set the title of the right subplot\n",
        "    ax2.set_title('Predicted Probabilities')\n",
        "\n",
        "    # Show the plot\n",
        "    plt.show()\n"
      ],
      "metadata": {
        "id": "nZOcR4AEXZBN"
      },
      "execution_count": 25,
      "outputs": []
    },
    {
      "cell_type": "code",
      "source": [
        "images, labels = next(iter(test_loader))\n",
        "index = np.random.randint(0, 127)\n",
        "image = images[index]\n",
        "label = labels[index]\n",
        "logits = net(image.unsqueeze(0).to(DEVICE))\n",
        "probabilities = torch.softmax(logits, dim=1)\n",
        "display_image_with_probabilities(image, probabilities)\n",
        "print(label)"
      ],
      "metadata": {
        "colab": {
          "base_uri": "https://localhost:8080/",
          "height": 508
        },
        "id": "iKUinpMl6v4R",
        "outputId": "9d2e1719-e44e-4495-88fb-fdc7707b8559"
      },
      "execution_count": 26,
      "outputs": [
        {
          "output_type": "stream",
          "name": "stderr",
          "text": [
            "WARNING:matplotlib.image:Clipping input data to the valid range for imshow with RGB data ([0..1] for floats or [0..255] for integers).\n"
          ]
        },
        {
          "output_type": "display_data",
          "data": {
            "text/plain": [
              "<Figure size 640x480 with 2 Axes>"
            ],
            "image/png": "[encoded data removed]"
          },
          "metadata": {}
        },
        {
          "output_type": "stream",
          "name": "stdout",
          "text": [
            "tensor([8])\n"
          ]
        }
      ]
    },
    {
      "cell_type": "code",
      "source": [
        "import torch\n",
        "\n",
        "import torchmetrics\n",
        "\n",
        "# Define the device\n",
        "DEVICE = 'cuda' if torch.cuda.is_available() else 'cpu'\n",
        "\n",
        "# Define the batch size for the DataLoader\n",
        "targets = []\n",
        "probs = []\n",
        "\n",
        "for images, labels in tqdm(test_loader):\n",
        "    # Move the data to the device\n",
        "    images = images.to(DEVICE)\n",
        "    labels = labels.to(DEVICE)\n",
        "\n",
        "    # Get the predicted probabilities from the model\n",
        "    logits = net(images)\n",
        "    probabilities = torch.softmax(logits, dim=1)\n",
        "\n",
        "    # Append the targets and predicted probabilities to the lists.squeeze())\n",
        "    targets.append(labels.detach())\n",
        "    probs.append(probabilities.detach())\n",
        "\n",
        "# Concatenate the targets and predicted probabilities\n",
        "targets = torch.cat(targets).flatten()\n",
        "probs = torch.cat(probs)\n",
        "\n",
        "\n",
        "# Calculate the ECE\n",
        "ece = torchmetrics.functional.classification.multiclass_calibration_error(probs, targets, num_classes=n_classes)\n",
        "\n"
      ],
      "metadata": {
        "colab": {
          "base_uri": "https://localhost:8080/"
        },
        "id": "eV1_FdH9JIGI",
        "outputId": "00cd5d6d-3bd5-4f77-e7b1-c0744f79d935"
      },
      "execution_count": 37,
      "outputs": [
        {
          "output_type": "stream",
          "name": "stderr",
          "text": [
            "100%|██████████| 29/29 [00:02<00:00, 11.01it/s]"
          ]
        },
        {
          "output_type": "stream",
          "name": "stdout",
          "text": [
            "torch.Size([7180])\n"
          ]
        },
        {
          "output_type": "stream",
          "name": "stderr",
          "text": [
            "\n"
          ]
        }
      ]
    },
    {
      "cell_type": "code",
      "source": [
        "print(ece)"
      ],
      "metadata": {
        "colab": {
          "base_uri": "https://localhost:8080/"
        },
        "id": "0ODQL7zRJ2d1",
        "outputId": "22d72f2d-1157-420f-8d87-be58b8ac4ec7"
      },
      "execution_count": 38,
      "outputs": [
        {
          "output_type": "stream",
          "name": "stdout",
          "text": [
            "tensor(0.0488, device='cuda:0')\n"
          ]
        }
      ]
    },
    {
      "cell_type": "code",
      "source": [],
      "metadata": {
        "id": "xlFYX5BFk-f4"
      },
      "execution_count": null,
      "outputs": []
    }
  ]
}