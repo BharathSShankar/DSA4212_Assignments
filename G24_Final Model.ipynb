{
  "cells": [
    {
      "cell_type": "markdown",
      "source": [
        "# DSA4212 Assignment 1: Group 24\n",
        "Ang Ming Liang\n",
        "Bharath\n",
        "Song Haolong\n",
        "Chen YiJia\n",
        "\n",
        "# FINAL MODEL FILE\n",
        "Train/Val/Test: 91.80% / 82.23% / 76.0%"
      ],
      "metadata": {
        "id": "Ug_BugpvHOwU"
      },
      "id": "Ug_BugpvHOwU"
    },
    {
      "cell_type": "code",
      "execution_count": 21,
      "id": "7a534f49-955b-4027-847e-fa9268011df8",
      "metadata": {
        "id": "7a534f49-955b-4027-847e-fa9268011df8"
      },
      "outputs": [],
      "source": [
        "import numpy as np\n",
        "## Progress bar\n",
        "from tqdm.auto import tqdm\n",
        "import pylab as plt\n",
        "import copy\n",
        "import time\n",
        "\n",
        "np.random.seed(42)"
      ]
    },
    {
      "cell_type": "code",
      "execution_count": 2,
      "id": "63b61f24-cd33-4f13-a595-0ec43d18373f",
      "metadata": {
        "colab": {
          "base_uri": "https://localhost:8080/"
        },
        "id": "63b61f24-cd33-4f13-a595-0ec43d18373f",
        "outputId": "bd0e46be-ad42-45c8-88f8-d58cb29ceec0"
      },
      "outputs": [
        {
          "output_type": "stream",
          "name": "stdout",
          "text": [
            "All ok -- code is running on a Google Colab\n"
          ]
        }
      ],
      "source": [
        "if 'google.colab' in str(get_ipython()):\n",
        "  print(\"All ok -- code is running on a Google Colab\")\n",
        "else:\n",
        "    print(\"===\"*15, \" WARNING \",\"===\"*15)\n",
        "    print(\"For DSA4212 assignment 1, code needs to be run on a Google Colab with a single GPU\")\n",
        "    print(\"===\"*15, \" WARNING \",\"===\"*15)\n",
        "\n"
      ]
    },
    {
      "cell_type": "code",
      "source": [
        "!nvidia-smi -L\n",
        "!lscpu |grep 'Model name'\n",
        "!free -h --si | awk  '/Mem:/{print $2}'"
      ],
      "metadata": {
        "colab": {
          "base_uri": "https://localhost:8080/"
        },
        "id": "HWyW1qS2UohJ",
        "outputId": "039affc2-4629-4dbc-fd4f-549500992b0d"
      },
      "id": "HWyW1qS2UohJ",
      "execution_count": 3,
      "outputs": [
        {
          "output_type": "stream",
          "name": "stdout",
          "text": [
            "GPU 0: NVIDIA A100-SXM4-40GB (UUID: GPU-7b4b85dc-20d5-d9e1-73dd-e71ac5b4dda8)\n",
            "Model name:                      Intel(R) Xeon(R) CPU @ 2.20GHz\n",
            "85G\n"
          ]
        }
      ]
    },
    {
      "cell_type": "markdown",
      "source": [
        "# Connect to Google Drive & Load data"
      ],
      "metadata": {
        "id": "CwmX1u6N0TlR"
      },
      "id": "CwmX1u6N0TlR"
    },
    {
      "cell_type": "code",
      "source": [
        "from google.colab import drive\n",
        "drive.mount('/content/drive')\n",
        "\n",
        "# goto to data folder -- you may need to change this location\n",
        "%cd /content/drive/MyDrive/DSA4212 G24/data\n"
      ],
      "metadata": {
        "colab": {
          "base_uri": "https://localhost:8080/"
        },
        "id": "URl6pEbT0ROQ",
        "outputId": "5fba6441-dcbe-4c61-bd66-fb6c0e4c0fba"
      },
      "id": "URl6pEbT0ROQ",
      "execution_count": 4,
      "outputs": [
        {
          "output_type": "stream",
          "name": "stdout",
          "text": [
            "Drive already mounted at /content/drive; to attempt to forcibly remount, call drive.mount(\"/content/drive\", force_remount=True).\n",
            "/content/drive/MyDrive/DSA4212 G24/data\n"
          ]
        }
      ]
    },
    {
      "cell_type": "code",
      "execution_count": 5,
      "id": "8b2efbfc-d4e6-41c7-89cd-a7127c9f1538",
      "metadata": {
        "colab": {
          "base_uri": "https://localhost:8080/"
        },
        "id": "8b2efbfc-d4e6-41c7-89cd-a7127c9f1538",
        "outputId": "61b7b421-5e3c-488c-a8c4-103fde0e2e15"
      },
      "outputs": [
        {
          "output_type": "stream",
          "name": "stdout",
          "text": [
            "Img Shape: 128x128x3\n"
          ]
        }
      ],
      "source": [
        "class_names=[\"fish\", \"dog\", \"device\", \"chainsaw\", \"church\", \"horn\", \"truck\", \"petrol\", \"golf\", \"parachute\"]\n",
        "\n",
        "# load data -- be patient, does take a few secs\n",
        "data_train_all = np.load(\"assignment_1_train.npz\")\n",
        "data_train_LRFlip = np.load(\"assignment_1_train_FlipLR.npz\")\n",
        "data_test = np.load(\"assignment_1_test.npz\")\n",
        "\n",
        "X_train_all = data_train_all[\"img\"].astype(np.float32) / 255.   # set pixel intensities to [0,1]\n",
        "X_train_all = np.concatenate((X_train_all, data_train_LRFlip[\"img\"].astype(np.float32) / 255.)) # concatenate augmented data\n",
        "X_test = data_test[\"img\"].astype(np.float32) / 255.\n",
        "Y_train_all = data_train_all[\"label\"].astype(int)\n",
        "Y_train_all = np.concatenate((Y_train_all, data_train_LRFlip[\"label\"].astype(int))) # concatenate augmented data\n",
        "Y_test = data_test[\"label\"].astype(int)\n",
        "\n",
        "\n",
        "_,H,W,C = X_train_all.shape\n",
        "print(f\"Img Shape: {H}x{W}x{C}\")"
      ]
    },
    {
      "cell_type": "code",
      "source": [
        "# shuffle the train set\n",
        "indices_shuffled = np.arange(len(X_train_all))\n",
        "np.random.shuffle(indices_shuffled)\n",
        "X_train_all = X_train_all[indices_shuffled]\n",
        "Y_train_all = Y_train_all[indices_shuffled]\n",
        "\n",
        "# shuffle the validation set\n",
        "indices_shuffled = np.arange(len(X_test))\n",
        "np.random.shuffle(indices_shuffled)\n",
        "X_test = X_test[indices_shuffled]\n",
        "Y_test = Y_test[indices_shuffled]"
      ],
      "metadata": {
        "id": "12Px5nZG4LEU"
      },
      "id": "12Px5nZG4LEU",
      "execution_count": 6,
      "outputs": []
    },
    {
      "cell_type": "code",
      "execution_count": 7,
      "id": "74b46f91-a59b-46c3-96d1-f1febdb7a876",
      "metadata": {
        "colab": {
          "base_uri": "https://localhost:8080/"
        },
        "id": "74b46f91-a59b-46c3-96d1-f1febdb7a876",
        "outputId": "44cb47d0-7483-4090-c013-33354cba9a42"
      },
      "outputs": [
        {
          "output_type": "stream",
          "name": "stdout",
          "text": [
            "Training Set Size: 3.40 Go\n",
            "Validaton Set Size: 0.71 Go\n"
          ]
        }
      ],
      "source": [
        "sz_train = X_train_all.size * X_train_all.itemsize / 2.**30\n",
        "sz_val = X_test.size * X_test.itemsize / 2.**30\n",
        "\n",
        "print(f\"Training Set Size: {sz_train:2.2f} Go\")\n",
        "print(f\"Validaton Set Size: {sz_val:2.2f} Go\")"
      ]
    },
    {
      "cell_type": "markdown",
      "source": [
        "# Split Train / Validation / Test\n",
        "\n",
        "The test set can only be used for the final evaluation of the model: one cannot use the test set when tuning the models. Consequently, we are going to split `X_train_all` into a train-set and a validation-set."
      ],
      "metadata": {
        "id": "CxtPWBv9zCdv"
      },
      "id": "CxtPWBv9zCdv"
    },
    {
      "cell_type": "code",
      "source": [
        "len_train_all = len(X_train_all)\n",
        "len_train = int(0.8 * len_train_all)\n",
        "len_val = len_train_all - len_train\n",
        "len_tets = len(X_test)\n",
        "\n",
        "X_train = X_train_all[:len_train]\n",
        "Y_train = Y_train_all[:len_train]\n",
        "\n",
        "X_val = X_train_all[len_train:]\n",
        "Y_val = Y_train_all[len_train:]\n"
      ],
      "metadata": {
        "id": "yZelycNpzGc_"
      },
      "id": "yZelycNpzGc_",
      "execution_count": 8,
      "outputs": []
    },
    {
      "cell_type": "code",
      "source": [
        "# load FLAX and install it if not installed already\n",
        "try:\n",
        "    import flax\n",
        "except ModuleNotFoundError: # Install flax if missing\n",
        "    !pip install --quiet flax\n",
        "    import flax\n",
        "\n",
        "import flax\n",
        "from flax import linen as nn"
      ],
      "metadata": {
        "id": "R22bHHED1tJH",
        "colab": {
          "base_uri": "https://localhost:8080/"
        },
        "outputId": "ba2b5a99-9105-404d-f2c7-681e10ce8834"
      },
      "id": "R22bHHED1tJH",
      "execution_count": 9,
      "outputs": [
        {
          "output_type": "stream",
          "name": "stderr",
          "text": [
            "/usr/local/lib/python3.9/dist-packages/flax/core/frozen_dict.py:169: FutureWarning: jax.tree_util.register_keypaths is deprecated, and will be removed in a future release. Please use `register_pytree_with_keys()` instead.\n",
            "  jax.tree_util.register_keypaths(\n"
          ]
        }
      ]
    },
    {
      "cell_type": "code",
      "execution_count": 10,
      "id": "8962196c-b966-4645-85f4-61359b5a9b90",
      "metadata": {
        "id": "8962196c-b966-4645-85f4-61359b5a9b90"
      },
      "outputs": [],
      "source": [
        "import jax\n",
        "import jax.numpy as jnp\n",
        "from typing import Any, Sequence\n",
        "\n",
        "try:\n",
        "    import optax\n",
        "except ModuleNotFoundError: # Install optax if missing\n",
        "    !pip install --quiet optax\n",
        "    import optax"
      ]
    },
    {
      "cell_type": "code",
      "execution_count": 11,
      "id": "4520ac10-c1a0-4387-8b73-6869529640d1",
      "metadata": {
        "id": "4520ac10-c1a0-4387-8b73-6869529640d1"
      },
      "outputs": [],
      "source": [
        "class LayerNorm(nn.Module):\n",
        "    \"\"\"\n",
        "    input:\n",
        "    ======\n",
        "     x: tensor with D channels of dimension (B,H,W,D)\n",
        "     \n",
        "    output:\n",
        "    ======\n",
        "     x_normalized: tensor with D channels of dimension (B,H,W,D)\n",
        "     \n",
        "     \n",
        "    Description:\n",
        "    ===========\n",
        "    for each each element `i` and each dimension `d`,\n",
        "    normalize the 2D array x[i,:,:,d] by substracting its mean and divide by its standard deviation\n",
        "       x_normalized[i,:,:,d] = (x[i,:,:,d] - mean) / stdev\n",
        "    \"\"\"\n",
        "    @nn.compact\n",
        "    def __call__(self, inputs):\n",
        "        eps = 10**-3\n",
        "        mean = jnp.expand_dims(jnp.mean(inputs, axis=(1,2)), axis=(1,2))\n",
        "        std = jnp.expand_dims(jnp.std(inputs, axis=(1,2)), axis=(1,2))\n",
        "        return (inputs - mean) / (eps + std)\n",
        "\n",
        "class SimpleCNN(nn.Module):\n",
        "    \"\"\" a simple convolutional neural network \"\"\"\n",
        "    kernel_size: Sequence[int]  # sequence -- CNN kernel size in each layer\n",
        "    n_filters: Sequence[int]  # sequence -- number of CNN filters in each layer\n",
        "    n_class: int              # number of possible classes\n",
        "    \n",
        "    @nn.compact\n",
        "    def __call__(self, x):\n",
        "        \"\"\"\n",
        "        inputs:\n",
        "        ======\n",
        "         inputs: batch of images of dimension (X,H,W,3)\n",
        "\n",
        "        outputs:\n",
        "        ======\n",
        "         probas: predictive probability vector\n",
        "        \"\"\"\n",
        "        \n",
        "        # convolutional layers + normalization\n",
        "        for i, feat_dim in enumerate(self.n_filters):\n",
        "          x = nn.Conv(features=feat_dim, kernel_size=(self.kernel_size[i],self.kernel_size[i]),\n",
        "                      strides = 2, padding='SAME', name=f'layers_{i}_1',\n",
        "                      kernel_init=nn.initializers.lecun_normal(),\n",
        "                      bias_init=nn.initializers.zeros)(x)\n",
        "          x = LayerNorm()(x)\n",
        "          x = nn.selu( x)\n",
        "          x = nn.max_pool(x, window_shape = (2, 2))\n",
        "          \n",
        "            \n",
        "        # pooling -- average across the dimension (1,2)\n",
        "        x =  x.mean(axis=(1,2))\n",
        "        \n",
        "        # last dense layer\n",
        "        x = nn.Dense(self.n_class)(x)\n",
        "        \n",
        "        #convert to proba\n",
        "        probas = nn.log_softmax(x)\n",
        "        return probas"
      ]
    },
    {
      "cell_type": "code",
      "execution_count": 12,
      "id": "839c5a48-464a-4897-960c-28996963d8a6",
      "metadata": {
        "colab": {
          "base_uri": "https://localhost:8080/"
        },
        "id": "839c5a48-464a-4897-960c-28996963d8a6",
        "outputId": "e13412dc-a1bf-4c62-9bc9-45ae00079cc8"
      },
      "outputs": [
        {
          "output_type": "stream",
          "name": "stdout",
          "text": [
            "Number of Neural Parameters: 94k\n"
          ]
        }
      ],
      "source": [
        "# generate a random generator \"key\" that is used to initialize the net parameters\n",
        "key = jax.random.PRNGKey(0)\n",
        "net = SimpleCNN(kernel_size=[3,3,3], n_filters=[32,64, 128], n_class = 10)\n",
        "\n",
        "# to initialize the network, one needs to propagate some data through it\n",
        "# and provide with a RNG key\n",
        "key, key_ = jax.random.split(key)\n",
        "batch_size = 32\n",
        "batch_of_images = X_train[:batch_size,:,:,:]\n",
        "params_init = net.init(key_, batch_of_images)\n",
        "\n",
        "# count the number of parameters\n",
        "param_count = sum(x.size for x in jax.tree_util.tree_leaves(params_init))\n",
        "print(f\"Number of Neural Parameters: {param_count//1000}k\")"
      ]
    },
    {
      "cell_type": "code",
      "source": [
        "@jax.jit\n",
        "def loss(params, x, y):\n",
        "  \"\"\" cross-entropy loss\n",
        "  inputs:\n",
        "  ======\n",
        "   params: neural network weights\n",
        "   x: (B,H,W,3) -- batch of images\n",
        "   y: (B) -- labels\n",
        "  \"\"\"\n",
        "  n_class = 10\n",
        "\n",
        "  # compute Cross-Entropy\n",
        "  pred = net.apply(params, x)\n",
        "  y_hot = jax.nn.one_hot(y, n_class)\n",
        "  CEs = -jnp.sum(y_hot * pred, axis=1)\n",
        "  return jnp.mean(CEs)\n",
        "\n",
        "# generate the gradient function\n",
        "loss_value_and_grad = jax.jit( jax.value_and_grad(loss) )"
      ],
      "metadata": {
        "id": "yDozNNo22SjL"
      },
      "id": "yDozNNo22SjL",
      "execution_count": 13,
      "outputs": []
    },
    {
      "cell_type": "code",
      "source": [
        "@jax.jit\n",
        "def prediction_class(params, x):\n",
        "  \"\"\" make a prediction \"\"\"\n",
        "  pred = net.apply(params, x)\n",
        "  pred_class = jnp.argmax(pred, axis=1)\n",
        "  return pred_class\n",
        "\n",
        "@jax.jit\n",
        "def accuracy(params, x, y):\n",
        "  \"\"\"\n",
        "  compute the accuracy on a batch of images\n",
        "\n",
        "  inputs:\n",
        "  ======\n",
        "   params: neural network weights\n",
        "   x: (B,H,W,3) -- batch of images\n",
        "   y: (B) -- labels\n",
        "  \"\"\"\n",
        "  n_class = 10\n",
        "\n",
        "  # compute Cross-Entropy\n",
        "  pred_class = prediction_class(params, x)\n",
        "  return jnp.mean(pred_class == y)\n",
        "\n",
        "# generate the gradient function\n",
        "loss_value_and_grad = jax.jit( jax.value_and_grad(loss) )"
      ],
      "metadata": {
        "id": "K6hppCFpRwco"
      },
      "id": "K6hppCFpRwco",
      "execution_count": 14,
      "outputs": []
    },
    {
      "cell_type": "code",
      "source": [
        "niter = 3000\n",
        "# let us randomize the weights again to start from scratch\n",
        "params = copy.deepcopy(params_init)\n",
        "\n",
        "#define the ADAM optimizer\n",
        "optimizer = optax.chain(\n",
        "    optax.adamw(learning_rate=1e-2, weight_decay=1e-5),\n",
        "    optax.scale_by_schedule(\n",
        "        step_size_fn=optax.exponential_decay(\n",
        "            init_value=1,\n",
        "            decay_rate=0.95,\n",
        "            transition_steps=niter,\n",
        "            transition_begin=int(niter*0.25)\n",
        "        )\n",
        "    )\n",
        ")\n",
        "\n",
        "#generate the initial state of the optimizer\n",
        "opt_state = optimizer.init(params)"
      ],
      "metadata": {
        "id": "zQtLKLvl2_l5"
      },
      "id": "zQtLKLvl2_l5",
      "execution_count": 15,
      "outputs": []
    },
    {
      "cell_type": "code",
      "source": [
        "# put data to GPU\n",
        "X_train = jax.device_put(X_train)\n",
        "X_val = jax.device_put(X_val)"
      ],
      "metadata": {
        "id": "FQOMAd029Ogs"
      },
      "id": "FQOMAd029Ogs",
      "execution_count": 16,
      "outputs": []
    },
    {
      "cell_type": "code",
      "source": [
        "batch_size = 512\n",
        "\n",
        "sub_rngs = jax.random.split(key_, batch_size)\n",
        "\n",
        "# save the train loss\n",
        "loss_train_history = []\n",
        "loss_train_history_time = []\n",
        "\n",
        "# save the validation loss\n",
        "loss_val_history = []\n",
        "loss_val_history_time = []\n",
        "\n",
        "# save accuracies\n",
        "accuracies_history = []\n",
        "accuracies_history_time = []\n",
        "\n",
        "# Set up early stopping variables\n",
        "best_val_loss = float(\"inf\")\n",
        "patience = 5\n",
        "counter = 0\n",
        "\n",
        "time_start = time.time()\n",
        "for k in tqdm( range(niter) ):\n",
        "  # create a batch\n",
        "  indices = jnp.arange(k*batch_size, (k+1)*batch_size) % len(X_train)\n",
        "  X_batch = X_train[indices]\n",
        "  Y_batch = Y_train[indices]\n",
        "  #X_batch = vec_transform(sub_rngs, X_batch)\n",
        "\n",
        "  # compute loss and gradients\n",
        "  loss_train, grads = loss_value_and_grad(params, X_batch, Y_batch)\n",
        "  time_elapsed = time.time() - time_start\n",
        "\n",
        "  if k % 50 == 0:\n",
        "    # compute the validation accuracy on a batch only (to save a bit of time)\n",
        "    N = 512\n",
        "    acc_val = 100*accuracy(params, X_val[:N], Y_val[:N])\n",
        "    acc_train = 100*accuracy(params, X_train[:N], Y_train[:N])\n",
        "    nb_epoch = float(k+1)*batch_size / len(X_train)\n",
        "    accuracies_history.append([acc_train, acc_val])\n",
        "    accuracies_history_time.append(time_elapsed)\n",
        "\n",
        "    # also compute test loss\n",
        "    loss_val = loss(params, X_val[:N], Y_val[:N])\n",
        "    loss_val_history.append( loss_val )\n",
        "    loss_val_history_time.append( time_elapsed )\n",
        "\n",
        "    print(f\"Time:{time_elapsed:3.1f}siec \\t Epoch:{nb_epoch:2.1f} \\t Loss [{loss_train:2.2f} / {loss_val:2.2f}] \\t Accuracy Train/Valid: [{acc_train:2.2f}% / {acc_val:2.2f}%]\")\n",
        "    # Check for early stopping\n",
        "    if loss_val < best_val_loss:\n",
        "        best_val_loss = loss_val\n",
        "        counter = 0\n",
        "    else:\n",
        "        counter += 1\n",
        "        if counter >= patience:\n",
        "            print(f\"Validation loss hasn't improved for {patience} epochs. Stopping early...\")\n",
        "            break\n",
        "\n",
        "  # generate the \"update mechanism\" and update the state of the optimizer\n",
        "  updates, opt_state = optimizer.update(grads, opt_state, params)\n",
        "  # apply the \"update mechanism\"\n",
        "  params = optax.apply_updates(params, updates)\n",
        "\n",
        "  #opt_state, params = do_update(grads, opt_state, params)\n",
        "    \n",
        "  # save the loss\n",
        "  loss_train_history_time.append( time_elapsed )\n",
        "  loss_train_history.append( loss_train.item() )"
      ],
      "metadata": {
        "colab": {
          "base_uri": "https://localhost:8080/",
          "height": 656,
          "referenced_widgets": [
            "71b3c8f1422b4787bf7906918d343965",
            "40eb3a8a40b0404b9149e76e5b354113",
            "3a592787f30d469290648728d031f608",
            "69ba383f0f9945d5812bb6e3c6dc264c",
            "31e4d8cf0c6b4680a593231e4fa68bb8",
            "ddec296ef9cf4e7288cb1aed67eda9de",
            "e78a23c15a1543b683a48dc17e457e36",
            "009da06e5ae44b4f9af1d52891e942f8",
            "a80d91c017e645fc98c33b1d4bb3de2a",
            "f707e5997b554e9694c82f7fb19ddc11",
            "c98496f4b7c54ebdaea000433367d0a1"
          ]
        },
        "id": "cY4B774F5ys5",
        "outputId": "54b9e251-0202-4133-bb40-b6d49fc26405"
      },
      "id": "cY4B774F5ys5",
      "execution_count": 17,
      "outputs": [
        {
          "output_type": "display_data",
          "data": {
            "text/plain": [
              "  0%|          | 0/3000 [00:00<?, ?it/s]"
            ],
            "application/vnd.jupyter.widget-view+json": {
              "version_major": 2,
              "version_minor": 0,
              "model_id": "71b3c8f1422b4787bf7906918d343965"
            }
          },
          "metadata": {}
        },
        {
          "output_type": "stream",
          "name": "stdout",
          "text": [
            "Time:4.7siec \t Epoch:0.0 \t Loss [2.34 / 2.33] \t Accuracy Train/Valid: [7.62% / 6.84%]\n",
            "Time:12.4siec \t Epoch:1.8 \t Loss [1.78 / 1.75] \t Accuracy Train/Valid: [39.26% / 42.19%]\n",
            "Time:14.0siec \t Epoch:3.5 \t Loss [1.35 / 1.34] \t Accuracy Train/Valid: [57.03% / 58.59%]\n",
            "Time:15.6siec \t Epoch:5.2 \t Loss [1.17 / 1.13] \t Accuracy Train/Valid: [64.45% / 66.21%]\n",
            "Time:17.1siec \t Epoch:6.9 \t Loss [0.93 / 1.05] \t Accuracy Train/Valid: [70.51% / 67.19%]\n",
            "Time:18.7siec \t Epoch:8.6 \t Loss [0.84 / 0.92] \t Accuracy Train/Valid: [73.05% / 72.27%]\n",
            "Time:20.2siec \t Epoch:10.4 \t Loss [0.82 / 0.87] \t Accuracy Train/Valid: [76.76% / 73.24%]\n",
            "Time:21.8siec \t Epoch:12.1 \t Loss [0.76 / 0.85] \t Accuracy Train/Valid: [80.47% / 73.63%]\n",
            "Time:23.3siec \t Epoch:13.8 \t Loss [0.73 / 0.78] \t Accuracy Train/Valid: [79.30% / 76.76%]\n",
            "Time:24.8siec \t Epoch:15.5 \t Loss [0.69 / 0.77] \t Accuracy Train/Valid: [80.47% / 77.15%]\n",
            "Time:26.3siec \t Epoch:17.2 \t Loss [0.66 / 0.76] \t Accuracy Train/Valid: [82.23% / 75.78%]\n",
            "Time:27.9siec \t Epoch:19.0 \t Loss [0.67 / 0.78] \t Accuracy Train/Valid: [78.91% / 74.02%]\n",
            "Time:29.4siec \t Epoch:20.7 \t Loss [0.54 / 0.71] \t Accuracy Train/Valid: [82.23% / 78.32%]\n",
            "Time:31.0siec \t Epoch:22.4 \t Loss [0.60 / 0.71] \t Accuracy Train/Valid: [83.20% / 77.73%]\n",
            "Time:32.5siec \t Epoch:24.1 \t Loss [0.54 / 0.71] \t Accuracy Train/Valid: [84.38% / 76.95%]\n",
            "Time:34.1siec \t Epoch:25.9 \t Loss [0.56 / 0.66] \t Accuracy Train/Valid: [84.96% / 79.88%]\n",
            "Time:35.6siec \t Epoch:27.6 \t Loss [0.51 / 0.66] \t Accuracy Train/Valid: [85.94% / 79.88%]\n",
            "Time:37.1siec \t Epoch:29.3 \t Loss [0.49 / 0.68] \t Accuracy Train/Valid: [85.55% / 79.10%]\n",
            "Time:38.7siec \t Epoch:31.0 \t Loss [0.46 / 0.65] \t Accuracy Train/Valid: [87.50% / 79.69%]\n",
            "Time:40.2siec \t Epoch:32.7 \t Loss [0.48 / 0.63] \t Accuracy Train/Valid: [87.50% / 79.88%]\n",
            "Time:41.7siec \t Epoch:34.5 \t Loss [0.48 / 0.62] \t Accuracy Train/Valid: [87.50% / 81.45%]\n",
            "Time:43.4siec \t Epoch:36.2 \t Loss [0.45 / 0.61] \t Accuracy Train/Valid: [91.21% / 81.64%]\n",
            "Time:44.9siec \t Epoch:37.9 \t Loss [0.36 / 0.63] \t Accuracy Train/Valid: [89.84% / 80.08%]\n",
            "Time:46.4siec \t Epoch:39.6 \t Loss [0.42 / 0.61] \t Accuracy Train/Valid: [90.62% / 81.64%]\n",
            "Time:48.0siec \t Epoch:41.3 \t Loss [0.41 / 0.62] \t Accuracy Train/Valid: [89.26% / 81.25%]\n",
            "Time:49.5siec \t Epoch:43.1 \t Loss [0.44 / 0.59] \t Accuracy Train/Valid: [92.77% / 81.05%]\n",
            "Time:51.1siec \t Epoch:44.8 \t Loss [0.41 / 0.58] \t Accuracy Train/Valid: [89.65% / 83.20%]\n",
            "Time:52.6siec \t Epoch:46.5 \t Loss [0.37 / 0.56] \t Accuracy Train/Valid: [91.02% / 83.59%]\n",
            "Time:54.2siec \t Epoch:48.2 \t Loss [0.37 / 0.60] \t Accuracy Train/Valid: [92.97% / 80.27%]\n",
            "Time:55.8siec \t Epoch:50.0 \t Loss [0.38 / 0.61] \t Accuracy Train/Valid: [89.45% / 79.69%]\n",
            "Time:57.4siec \t Epoch:51.7 \t Loss [0.27 / 0.57] \t Accuracy Train/Valid: [90.23% / 83.01%]\n",
            "Time:59.0siec \t Epoch:53.4 \t Loss [0.35 / 0.59] \t Accuracy Train/Valid: [90.82% / 81.25%]\n",
            "Time:60.6siec \t Epoch:55.1 \t Loss [0.31 / 0.57] \t Accuracy Train/Valid: [91.80% / 82.23%]\n",
            "Validation loss hasn't improved for 5 epochs. Stopping early...\n"
          ]
        }
      ]
    },
    {
      "cell_type": "code",
      "source": [
        "plt.plot(loss_train_history_time, loss_train_history, \"b-\", lw = 3, label=\"train\")\n",
        "plt.plot(loss_val_history_time, loss_val_history, \"r-+\", lw = 3, label=\"validation\")\n",
        "plt.xlabel(\"seconds\", fontsize=20)\n",
        "plt.ylabel(\"loss\", fontsize=20)\n",
        "plt.grid(True)\n",
        "plt.legend()"
      ],
      "metadata": {
        "colab": {
          "base_uri": "https://localhost:8080/",
          "height": 306
        },
        "id": "piAB-CzY7Vn5",
        "outputId": "5b21b613-cb40-48e4-85c0-e3d73f960b40"
      },
      "id": "piAB-CzY7Vn5",
      "execution_count": 18,
      "outputs": [
        {
          "output_type": "execute_result",
          "data": {
            "text/plain": [
              "<matplotlib.legend.Legend at 0x7f8e58600f40>"
            ]
          },
          "metadata": {},
          "execution_count": 18
        },
        {
          "output_type": "display_data",
          "data": {
            "text/plain": [
              "<Figure size 432x288 with 1 Axes>"
            ],
            "image/png": "[encoded data removed]"
          },
          "metadata": {
            "needs_background": "light"
          }
        }
      ]
    },
    {
      "cell_type": "code",
      "source": [
        "accuracies_history = np.array(accuracies_history)\n",
        "plt.plot(accuracies_history_time, accuracies_history[:,0], \"b-\", lw = 3, label=\"train\")\n",
        "plt.plot(accuracies_history_time, accuracies_history[:,1], \"r-+\", lw = 3, label=\"validation\")\n",
        "plt.xlabel(\"seconds\", fontsize=20)\n",
        "plt.ylabel(\"accuracy\", fontsize=20)\n",
        "plt.ylim(0,100)\n",
        "plt.grid(True)\n",
        "plt.legend()"
      ],
      "metadata": {
        "colab": {
          "base_uri": "https://localhost:8080/",
          "height": 310
        },
        "id": "nXcOlMrxVCCT",
        "outputId": "d66013ca-3e14-46d1-9f4d-a45c46ef5b42"
      },
      "id": "nXcOlMrxVCCT",
      "execution_count": 19,
      "outputs": [
        {
          "output_type": "execute_result",
          "data": {
            "text/plain": [
              "<matplotlib.legend.Legend at 0x7f8e58569af0>"
            ]
          },
          "metadata": {},
          "execution_count": 19
        },
        {
          "output_type": "display_data",
          "data": {
            "text/plain": [
              "<Figure size 432x288 with 1 Axes>"
            ],
            "image/png": "[encoded data removed]"
          },
          "metadata": {
            "needs_background": "light"
          }
        }
      ]
    },
    {
      "cell_type": "markdown",
      "source": [
        "# Test Accuracy\n",
        "Note we have at no point used the test-set previously."
      ],
      "metadata": {
        "id": "ugMZ4XE72-eX"
      },
      "id": "ugMZ4XE72-eX"
    },
    {
      "cell_type": "code",
      "source": [
        "# final test accuracy\n",
        "pred_test = []\n",
        "n_forward_pass = len(X_test) // batch_size\n",
        "for k in tqdm(range(n_forward_pass)):\n",
        "  pred_test.append( prediction_class(params, X_test[k*batch_size:(k+1)*batch_size]) )\n",
        "# final forward pass\n",
        "pred_test.append( prediction_class(params, X_test[n_forward_pass*batch_size:]) )\n",
        "\n",
        "pred_test = np.concatenate(pred_test)\n",
        "acc_test = 100*jnp.mean(pred_test == Y_test)\n",
        "print( f\"Final Test Accuracy: {acc_test:2.1f}%\")"
      ],
      "metadata": {
        "colab": {
          "base_uri": "https://localhost:8080/",
          "height": 67,
          "referenced_widgets": [
            "6dcbb8343d404ea9b82422e0aa92b790",
            "564b7e8ac94b465e8e8220e21acdf067",
            "e4c7cdb609074070889640c0c1849d85",
            "dafa6d8d3ed9479a95d869bc90267915",
            "b1440c9e59f14730ba9e9b47af3e67bd",
            "cec9bec0cd5f46baac8437223eb7a090",
            "271a28f6d3de4e4c9e7a6dd9fadf4ed4",
            "80857b6b712d4f27a9875de586dee54d",
            "ebc7b9bbb7c14d82aa1c347ef26e0555",
            "b7eb389c895c41919949474226e4592a",
            "2bf5575078e54f998bf5d831b1cadc30"
          ]
        },
        "id": "yxoaTX7yZuvL",
        "outputId": "492f651d-ee9e-47c3-bee9-b729fc42cc48"
      },
      "id": "yxoaTX7yZuvL",
      "execution_count": 20,
      "outputs": [
        {
          "output_type": "display_data",
          "data": {
            "text/plain": [
              "  0%|          | 0/7 [00:00<?, ?it/s]"
            ],
            "application/vnd.jupyter.widget-view+json": {
              "version_major": 2,
              "version_minor": 0,
              "model_id": "6dcbb8343d404ea9b82422e0aa92b790"
            }
          },
          "metadata": {}
        },
        {
          "output_type": "stream",
          "name": "stdout",
          "text": [
            "Final Test Accuracy: 76.0%\n"
          ]
        }
      ]
    },
    {
      "cell_type": "code",
      "source": [],
      "metadata": {
        "id": "1DNxYP6Wa_rR"
      },
      "id": "1DNxYP6Wa_rR",
      "execution_count": 20,
      "outputs": []
    }
  ],
  "metadata": {
    "kernelspec": {
      "display_name": "Python 3 (ipykernel)",
      "language": "python",
      "name": "python3"
    },
    "language_info": {
      "codemirror_mode": {
        "name": "ipython",
        "version": 3
      },
      "file_extension": ".py",
      "mimetype": "text/x-python",
      "name": "python",
      "nbconvert_exporter": "python",
      "pygments_lexer": "ipython3",
      "version": "3.8.12"
    },
    "colab": {
      "provenance": []
    },
    "accelerator": "GPU",
    "gpuClass": "premium",
    "widgets": {
      "application/vnd.jupyter.widget-state+json": {
        "71b3c8f1422b4787bf7906918d343965": {
          "model_module": "@jupyter-widgets/controls",
          "model_name": "HBoxModel",
          "model_module_version": "1.5.0",
          "state": {
            "_dom_classes": [],
            "_model_module": "@jupyter-widgets/controls",
            "_model_module_version": "1.5.0",
            "_model_name": "HBoxModel",
            "_view_count": null,
            "_view_module": "@jupyter-widgets/controls",
            "_view_module_version": "1.5.0",
            "_view_name": "HBoxView",
            "box_style": "",
            "children": [
              "IPY_MODEL_40eb3a8a40b0404b9149e76e5b354113",
              "IPY_MODEL_3a592787f30d469290648728d031f608",
              "IPY_MODEL_69ba383f0f9945d5812bb6e3c6dc264c"
            ],
            "layout": "IPY_MODEL_31e4d8cf0c6b4680a593231e4fa68bb8"
          }
        },
        "40eb3a8a40b0404b9149e76e5b354113": {
          "model_module": "@jupyter-widgets/controls",
          "model_name": "HTMLModel",
          "model_module_version": "1.5.0",
          "state": {
            "_dom_classes": [],
            "_model_module": "@jupyter-widgets/controls",
            "_model_module_version": "1.5.0",
            "_model_name": "HTMLModel",
            "_view_count": null,
            "_view_module": "@jupyter-widgets/controls",
            "_view_module_version": "1.5.0",
            "_view_name": "HTMLView",
            "description": "",
            "description_tooltip": null,
            "layout": "IPY_MODEL_ddec296ef9cf4e7288cb1aed67eda9de",
            "placeholder": "​",
            "style": "IPY_MODEL_e78a23c15a1543b683a48dc17e457e36",
            "value": " 53%"
          }
        },
        "3a592787f30d469290648728d031f608": {
          "model_module": "@jupyter-widgets/controls",
          "model_name": "FloatProgressModel",
          "model_module_version": "1.5.0",
          "state": {
            "_dom_classes": [],
            "_model_module": "@jupyter-widgets/controls",
            "_model_module_version": "1.5.0",
            "_model_name": "FloatProgressModel",
            "_view_count": null,
            "_view_module": "@jupyter-widgets/controls",
            "_view_module_version": "1.5.0",
            "_view_name": "ProgressView",
            "bar_style": "danger",
            "description": "",
            "description_tooltip": null,
            "layout": "IPY_MODEL_009da06e5ae44b4f9af1d52891e942f8",
            "max": 3000,
            "min": 0,
            "orientation": "horizontal",
            "style": "IPY_MODEL_a80d91c017e645fc98c33b1d4bb3de2a",
            "value": 1600
          }
        },
        "69ba383f0f9945d5812bb6e3c6dc264c": {
          "model_module": "@jupyter-widgets/controls",
          "model_name": "HTMLModel",
          "model_module_version": "1.5.0",
          "state": {
            "_dom_classes": [],
            "_model_module": "@jupyter-widgets/controls",
            "_model_module_version": "1.5.0",
            "_model_name": "HTMLModel",
            "_view_count": null,
            "_view_module": "@jupyter-widgets/controls",
            "_view_module_version": "1.5.0",
            "_view_name": "HTMLView",
            "description": "",
            "description_tooltip": null,
            "layout": "IPY_MODEL_f707e5997b554e9694c82f7fb19ddc11",
            "placeholder": "​",
            "style": "IPY_MODEL_c98496f4b7c54ebdaea000433367d0a1",
            "value": " 1600/3000 [01:00&lt;00:44, 31.68it/s]"
          }
        },
        "31e4d8cf0c6b4680a593231e4fa68bb8": {
          "model_module": "@jupyter-widgets/base",
          "model_name": "LayoutModel",
          "model_module_version": "1.2.0",
          "state": {
            "_model_module": "@jupyter-widgets/base",
            "_model_module_version": "1.2.0",
            "_model_name": "LayoutModel",
            "_view_count": null,
            "_view_module": "@jupyter-widgets/base",
            "_view_module_version": "1.2.0",
            "_view_name": "LayoutView",
            "align_content": null,
            "align_items": null,
            "align_self": null,
            "border": null,
            "bottom": null,
            "display": null,
            "flex": null,
            "flex_flow": null,
            "grid_area": null,
            "grid_auto_columns": null,
            "grid_auto_flow": null,
            "grid_auto_rows": null,
            "grid_column": null,
            "grid_gap": null,
            "grid_row": null,
            "grid_template_areas": null,
            "grid_template_columns": null,
            "grid_template_rows": null,
            "height": null,
            "justify_content": null,
            "justify_items": null,
            "left": null,
            "margin": null,
            "max_height": null,
            "max_width": null,
            "min_height": null,
            "min_width": null,
            "object_fit": null,
            "object_position": null,
            "order": null,
            "overflow": null,
            "overflow_x": null,
            "overflow_y": null,
            "padding": null,
            "right": null,
            "top": null,
            "visibility": null,
            "width": null
          }
        },
        "ddec296ef9cf4e7288cb1aed67eda9de": {
          "model_module": "@jupyter-widgets/base",
          "model_name": "LayoutModel",
          "model_module_version": "1.2.0",
          "state": {
            "_model_module": "@jupyter-widgets/base",
            "_model_module_version": "1.2.0",
            "_model_name": "LayoutModel",
            "_view_count": null,
            "_view_module": "@jupyter-widgets/base",
            "_view_module_version": "1.2.0",
            "_view_name": "LayoutView",
            "align_content": null,
            "align_items": null,
            "align_self": null,
            "border": null,
            "bottom": null,
            "display": null,
            "flex": null,
            "flex_flow": null,
            "grid_area": null,
            "grid_auto_columns": null,
            "grid_auto_flow": null,
            "grid_auto_rows": null,
            "grid_column": null,
            "grid_gap": null,
            "grid_row": null,
            "grid_template_areas": null,
            "grid_template_columns": null,
            "grid_template_rows": null,
            "height": null,
            "justify_content": null,
            "justify_items": null,
            "left": null,
            "margin": null,
            "max_height": null,
            "max_width": null,
            "min_height": null,
            "min_width": null,
            "object_fit": null,
            "object_position": null,
            "order": null,
            "overflow": null,
            "overflow_x": null,
            "overflow_y": null,
            "padding": null,
            "right": null,
            "top": null,
            "visibility": null,
            "width": null
          }
        },
        "e78a23c15a1543b683a48dc17e457e36": {
          "model_module": "@jupyter-widgets/controls",
          "model_name": "DescriptionStyleModel",
          "model_module_version": "1.5.0",
          "state": {
            "_model_module": "@jupyter-widgets/controls",
            "_model_module_version": "1.5.0",
            "_model_name": "DescriptionStyleModel",
            "_view_count": null,
            "_view_module": "@jupyter-widgets/base",
            "_view_module_version": "1.2.0",
            "_view_name": "StyleView",
            "description_width": ""
          }
        },
        "009da06e5ae44b4f9af1d52891e942f8": {
          "model_module": "@jupyter-widgets/base",
          "model_name": "LayoutModel",
          "model_module_version": "1.2.0",
          "state": {
            "_model_module": "@jupyter-widgets/base",
            "_model_module_version": "1.2.0",
            "_model_name": "LayoutModel",
            "_view_count": null,
            "_view_module": "@jupyter-widgets/base",
            "_view_module_version": "1.2.0",
            "_view_name": "LayoutView",
            "align_content": null,
            "align_items": null,
            "align_self": null,
            "border": null,
            "bottom": null,
            "display": null,
            "flex": null,
            "flex_flow": null,
            "grid_area": null,
            "grid_auto_columns": null,
            "grid_auto_flow": null,
            "grid_auto_rows": null,
            "grid_column": null,
            "grid_gap": null,
            "grid_row": null,
            "grid_template_areas": null,
            "grid_template_columns": null,
            "grid_template_rows": null,
            "height": null,
            "justify_content": null,
            "justify_items": null,
            "left": null,
            "margin": null,
            "max_height": null,
            "max_width": null,
            "min_height": null,
            "min_width": null,
            "object_fit": null,
            "object_position": null,
            "order": null,
            "overflow": null,
            "overflow_x": null,
            "overflow_y": null,
            "padding": null,
            "right": null,
            "top": null,
            "visibility": null,
            "width": null
          }
        },
        "a80d91c017e645fc98c33b1d4bb3de2a": {
          "model_module": "@jupyter-widgets/controls",
          "model_name": "ProgressStyleModel",
          "model_module_version": "1.5.0",
          "state": {
            "_model_module": "@jupyter-widgets/controls",
            "_model_module_version": "1.5.0",
            "_model_name": "ProgressStyleModel",
            "_view_count": null,
            "_view_module": "@jupyter-widgets/base",
            "_view_module_version": "1.2.0",
            "_view_name": "StyleView",
            "bar_color": null,
            "description_width": ""
          }
        },
        "f707e5997b554e9694c82f7fb19ddc11": {
          "model_module": "@jupyter-widgets/base",
          "model_name": "LayoutModel",
          "model_module_version": "1.2.0",
          "state": {
            "_model_module": "@jupyter-widgets/base",
            "_model_module_version": "1.2.0",
            "_model_name": "LayoutModel",
            "_view_count": null,
            "_view_module": "@jupyter-widgets/base",
            "_view_module_version": "1.2.0",
            "_view_name": "LayoutView",
            "align_content": null,
            "align_items": null,
            "align_self": null,
            "border": null,
            "bottom": null,
            "display": null,
            "flex": null,
            "flex_flow": null,
            "grid_area": null,
            "grid_auto_columns": null,
            "grid_auto_flow": null,
            "grid_auto_rows": null,
            "grid_column": null,
            "grid_gap": null,
            "grid_row": null,
            "grid_template_areas": null,
            "grid_template_columns": null,
            "grid_template_rows": null,
            "height": null,
            "justify_content": null,
            "justify_items": null,
            "left": null,
            "margin": null,
            "max_height": null,
            "max_width": null,
            "min_height": null,
            "min_width": null,
            "object_fit": null,
            "object_position": null,
            "order": null,
            "overflow": null,
            "overflow_x": null,
            "overflow_y": null,
            "padding": null,
            "right": null,
            "top": null,
            "visibility": null,
            "width": null
          }
        },
        "c98496f4b7c54ebdaea000433367d0a1": {
          "model_module": "@jupyter-widgets/controls",
          "model_name": "DescriptionStyleModel",
          "model_module_version": "1.5.0",
          "state": {
            "_model_module": "@jupyter-widgets/controls",
            "_model_module_version": "1.5.0",
            "_model_name": "DescriptionStyleModel",
            "_view_count": null,
            "_view_module": "@jupyter-widgets/base",
            "_view_module_version": "1.2.0",
            "_view_name": "StyleView",
            "description_width": ""
          }
        },
        "6dcbb8343d404ea9b82422e0aa92b790": {
          "model_module": "@jupyter-widgets/controls",
          "model_name": "HBoxModel",
          "model_module_version": "1.5.0",
          "state": {
            "_dom_classes": [],
            "_model_module": "@jupyter-widgets/controls",
            "_model_module_version": "1.5.0",
            "_model_name": "HBoxModel",
            "_view_count": null,
            "_view_module": "@jupyter-widgets/controls",
            "_view_module_version": "1.5.0",
            "_view_name": "HBoxView",
            "box_style": "",
            "children": [
              "IPY_MODEL_564b7e8ac94b465e8e8220e21acdf067",
              "IPY_MODEL_e4c7cdb609074070889640c0c1849d85",
              "IPY_MODEL_dafa6d8d3ed9479a95d869bc90267915"
            ],
            "layout": "IPY_MODEL_b1440c9e59f14730ba9e9b47af3e67bd"
          }
        },
        "564b7e8ac94b465e8e8220e21acdf067": {
          "model_module": "@jupyter-widgets/controls",
          "model_name": "HTMLModel",
          "model_module_version": "1.5.0",
          "state": {
            "_dom_classes": [],
            "_model_module": "@jupyter-widgets/controls",
            "_model_module_version": "1.5.0",
            "_model_name": "HTMLModel",
            "_view_count": null,
            "_view_module": "@jupyter-widgets/controls",
            "_view_module_version": "1.5.0",
            "_view_name": "HTMLView",
            "description": "",
            "description_tooltip": null,
            "layout": "IPY_MODEL_cec9bec0cd5f46baac8437223eb7a090",
            "placeholder": "​",
            "style": "IPY_MODEL_271a28f6d3de4e4c9e7a6dd9fadf4ed4",
            "value": "100%"
          }
        },
        "e4c7cdb609074070889640c0c1849d85": {
          "model_module": "@jupyter-widgets/controls",
          "model_name": "FloatProgressModel",
          "model_module_version": "1.5.0",
          "state": {
            "_dom_classes": [],
            "_model_module": "@jupyter-widgets/controls",
            "_model_module_version": "1.5.0",
            "_model_name": "FloatProgressModel",
            "_view_count": null,
            "_view_module": "@jupyter-widgets/controls",
            "_view_module_version": "1.5.0",
            "_view_name": "ProgressView",
            "bar_style": "success",
            "description": "",
            "description_tooltip": null,
            "layout": "IPY_MODEL_80857b6b712d4f27a9875de586dee54d",
            "max": 7,
            "min": 0,
            "orientation": "horizontal",
            "style": "IPY_MODEL_ebc7b9bbb7c14d82aa1c347ef26e0555",
            "value": 7
          }
        },
        "dafa6d8d3ed9479a95d869bc90267915": {
          "model_module": "@jupyter-widgets/controls",
          "model_name": "HTMLModel",
          "model_module_version": "1.5.0",
          "state": {
            "_dom_classes": [],
            "_model_module": "@jupyter-widgets/controls",
            "_model_module_version": "1.5.0",
            "_model_name": "HTMLModel",
            "_view_count": null,
            "_view_module": "@jupyter-widgets/controls",
            "_view_module_version": "1.5.0",
            "_view_name": "HTMLView",
            "description": "",
            "description_tooltip": null,
            "layout": "IPY_MODEL_b7eb389c895c41919949474226e4592a",
            "placeholder": "​",
            "style": "IPY_MODEL_2bf5575078e54f998bf5d831b1cadc30",
            "value": " 7/7 [00:00&lt;00:00, 11.54it/s]"
          }
        },
        "b1440c9e59f14730ba9e9b47af3e67bd": {
          "model_module": "@jupyter-widgets/base",
          "model_name": "LayoutModel",
          "model_module_version": "1.2.0",
          "state": {
            "_model_module": "@jupyter-widgets/base",
            "_model_module_version": "1.2.0",
            "_model_name": "LayoutModel",
            "_view_count": null,
            "_view_module": "@jupyter-widgets/base",
            "_view_module_version": "1.2.0",
            "_view_name": "LayoutView",
            "align_content": null,
            "align_items": null,
            "align_self": null,
            "border": null,
            "bottom": null,
            "display": null,
            "flex": null,
            "flex_flow": null,
            "grid_area": null,
            "grid_auto_columns": null,
            "grid_auto_flow": null,
            "grid_auto_rows": null,
            "grid_column": null,
            "grid_gap": null,
            "grid_row": null,
            "grid_template_areas": null,
            "grid_template_columns": null,
            "grid_template_rows": null,
            "height": null,
            "justify_content": null,
            "justify_items": null,
            "left": null,
            "margin": null,
            "max_height": null,
            "max_width": null,
            "min_height": null,
            "min_width": null,
            "object_fit": null,
            "object_position": null,
            "order": null,
            "overflow": null,
            "overflow_x": null,
            "overflow_y": null,
            "padding": null,
            "right": null,
            "top": null,
            "visibility": null,
            "width": null
          }
        },
        "cec9bec0cd5f46baac8437223eb7a090": {
          "model_module": "@jupyter-widgets/base",
          "model_name": "LayoutModel",
          "model_module_version": "1.2.0",
          "state": {
            "_model_module": "@jupyter-widgets/base",
            "_model_module_version": "1.2.0",
            "_model_name": "LayoutModel",
            "_view_count": null,
            "_view_module": "@jupyter-widgets/base",
            "_view_module_version": "1.2.0",
            "_view_name": "LayoutView",
            "align_content": null,
            "align_items": null,
            "align_self": null,
            "border": null,
            "bottom": null,
            "display": null,
            "flex": null,
            "flex_flow": null,
            "grid_area": null,
            "grid_auto_columns": null,
            "grid_auto_flow": null,
            "grid_auto_rows": null,
            "grid_column": null,
            "grid_gap": null,
            "grid_row": null,
            "grid_template_areas": null,
            "grid_template_columns": null,
            "grid_template_rows": null,
            "height": null,
            "justify_content": null,
            "justify_items": null,
            "left": null,
            "margin": null,
            "max_height": null,
            "max_width": null,
            "min_height": null,
            "min_width": null,
            "object_fit": null,
            "object_position": null,
            "order": null,
            "overflow": null,
            "overflow_x": null,
            "overflow_y": null,
            "padding": null,
            "right": null,
            "top": null,
            "visibility": null,
            "width": null
          }
        },
        "271a28f6d3de4e4c9e7a6dd9fadf4ed4": {
          "model_module": "@jupyter-widgets/controls",
          "model_name": "DescriptionStyleModel",
          "model_module_version": "1.5.0",
          "state": {
            "_model_module": "@jupyter-widgets/controls",
            "_model_module_version": "1.5.0",
            "_model_name": "DescriptionStyleModel",
            "_view_count": null,
            "_view_module": "@jupyter-widgets/base",
            "_view_module_version": "1.2.0",
            "_view_name": "StyleView",
            "description_width": ""
          }
        },
        "80857b6b712d4f27a9875de586dee54d": {
          "model_module": "@jupyter-widgets/base",
          "model_name": "LayoutModel",
          "model_module_version": "1.2.0",
          "state": {
            "_model_module": "@jupyter-widgets/base",
            "_model_module_version": "1.2.0",
            "_model_name": "LayoutModel",
            "_view_count": null,
            "_view_module": "@jupyter-widgets/base",
            "_view_module_version": "1.2.0",
            "_view_name": "LayoutView",
            "align_content": null,
            "align_items": null,
            "align_self": null,
            "border": null,
            "bottom": null,
            "display": null,
            "flex": null,
            "flex_flow": null,
            "grid_area": null,
            "grid_auto_columns": null,
            "grid_auto_flow": null,
            "grid_auto_rows": null,
            "grid_column": null,
            "grid_gap": null,
            "grid_row": null,
            "grid_template_areas": null,
            "grid_template_columns": null,
            "grid_template_rows": null,
            "height": null,
            "justify_content": null,
            "justify_items": null,
            "left": null,
            "margin": null,
            "max_height": null,
            "max_width": null,
            "min_height": null,
            "min_width": null,
            "object_fit": null,
            "object_position": null,
            "order": null,
            "overflow": null,
            "overflow_x": null,
            "overflow_y": null,
            "padding": null,
            "right": null,
            "top": null,
            "visibility": null,
            "width": null
          }
        },
        "ebc7b9bbb7c14d82aa1c347ef26e0555": {
          "model_module": "@jupyter-widgets/controls",
          "model_name": "ProgressStyleModel",
          "model_module_version": "1.5.0",
          "state": {
            "_model_module": "@jupyter-widgets/controls",
            "_model_module_version": "1.5.0",
            "_model_name": "ProgressStyleModel",
            "_view_count": null,
            "_view_module": "@jupyter-widgets/base",
            "_view_module_version": "1.2.0",
            "_view_name": "StyleView",
            "bar_color": null,
            "description_width": ""
          }
        },
        "b7eb389c895c41919949474226e4592a": {
          "model_module": "@jupyter-widgets/base",
          "model_name": "LayoutModel",
          "model_module_version": "1.2.0",
          "state": {
            "_model_module": "@jupyter-widgets/base",
            "_model_module_version": "1.2.0",
            "_model_name": "LayoutModel",
            "_view_count": null,
            "_view_module": "@jupyter-widgets/base",
            "_view_module_version": "1.2.0",
            "_view_name": "LayoutView",
            "align_content": null,
            "align_items": null,
            "align_self": null,
            "border": null,
            "bottom": null,
            "display": null,
            "flex": null,
            "flex_flow": null,
            "grid_area": null,
            "grid_auto_columns": null,
            "grid_auto_flow": null,
            "grid_auto_rows": null,
            "grid_column": null,
            "grid_gap": null,
            "grid_row": null,
            "grid_template_areas": null,
            "grid_template_columns": null,
            "grid_template_rows": null,
            "height": null,
            "justify_content": null,
            "justify_items": null,
            "left": null,
            "margin": null,
            "max_height": null,
            "max_width": null,
            "min_height": null,
            "min_width": null,
            "object_fit": null,
            "object_position": null,
            "order": null,
            "overflow": null,
            "overflow_x": null,
            "overflow_y": null,
            "padding": null,
            "right": null,
            "top": null,
            "visibility": null,
            "width": null
          }
        },
        "2bf5575078e54f998bf5d831b1cadc30": {
          "model_module": "@jupyter-widgets/controls",
          "model_name": "DescriptionStyleModel",
          "model_module_version": "1.5.0",
          "state": {
            "_model_module": "@jupyter-widgets/controls",
            "_model_module_version": "1.5.0",
            "_model_name": "DescriptionStyleModel",
            "_view_count": null,
            "_view_module": "@jupyter-widgets/base",
            "_view_module_version": "1.2.0",
            "_view_name": "StyleView",
            "description_width": ""
          }
        }
      }
    }
  },
  "nbformat": 4,
  "nbformat_minor": 5
}